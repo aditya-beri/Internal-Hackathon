{
 "cells": [
  {
   "cell_type": "code",
   "execution_count": 9,
   "metadata": {},
   "outputs": [],
   "source": [
    "%matplotlib inline\n",
    "import numpy as np\n",
    "import pandas as pd\n",
    "import matplotlib as mpl\n",
    "import matplotlib.pyplot as plt\n",
    "import seaborn as sns\n",
    "import plotly.express as px\n"
   ]
  },
  {
   "cell_type": "code",
   "execution_count": 17,
   "metadata": {
    "scrolled": true
   },
   "outputs": [
    {
     "data": {
      "text/html": [
       "<div>\n",
       "<style scoped>\n",
       "    .dataframe tbody tr th:only-of-type {\n",
       "        vertical-align: middle;\n",
       "    }\n",
       "\n",
       "    .dataframe tbody tr th {\n",
       "        vertical-align: top;\n",
       "    }\n",
       "\n",
       "    .dataframe thead th {\n",
       "        text-align: right;\n",
       "    }\n",
       "</style>\n",
       "<table border=\"1\" class=\"dataframe\">\n",
       "  <thead>\n",
       "    <tr style=\"text-align: right;\">\n",
       "      <th></th>\n",
       "      <th>Sno</th>\n",
       "      <th>Date</th>\n",
       "      <th>Time</th>\n",
       "      <th>State/UnionTerritory</th>\n",
       "      <th>ConfirmedIndianNational</th>\n",
       "      <th>ConfirmedForeignNational</th>\n",
       "      <th>Cured</th>\n",
       "      <th>Deaths</th>\n",
       "      <th>Confirmed</th>\n",
       "    </tr>\n",
       "  </thead>\n",
       "  <tbody>\n",
       "    <tr>\n",
       "      <th>0</th>\n",
       "      <td>1</td>\n",
       "      <td>30/01/20</td>\n",
       "      <td>6:00 PM</td>\n",
       "      <td>Kerala</td>\n",
       "      <td>1</td>\n",
       "      <td>0</td>\n",
       "      <td>0</td>\n",
       "      <td>0</td>\n",
       "      <td>1</td>\n",
       "    </tr>\n",
       "    <tr>\n",
       "      <th>1</th>\n",
       "      <td>2</td>\n",
       "      <td>31/01/20</td>\n",
       "      <td>6:00 PM</td>\n",
       "      <td>Kerala</td>\n",
       "      <td>1</td>\n",
       "      <td>0</td>\n",
       "      <td>0</td>\n",
       "      <td>0</td>\n",
       "      <td>1</td>\n",
       "    </tr>\n",
       "    <tr>\n",
       "      <th>2</th>\n",
       "      <td>3</td>\n",
       "      <td>01/02/20</td>\n",
       "      <td>6:00 PM</td>\n",
       "      <td>Kerala</td>\n",
       "      <td>2</td>\n",
       "      <td>0</td>\n",
       "      <td>0</td>\n",
       "      <td>0</td>\n",
       "      <td>2</td>\n",
       "    </tr>\n",
       "    <tr>\n",
       "      <th>3</th>\n",
       "      <td>4</td>\n",
       "      <td>02/02/20</td>\n",
       "      <td>6:00 PM</td>\n",
       "      <td>Kerala</td>\n",
       "      <td>3</td>\n",
       "      <td>0</td>\n",
       "      <td>0</td>\n",
       "      <td>0</td>\n",
       "      <td>3</td>\n",
       "    </tr>\n",
       "    <tr>\n",
       "      <th>4</th>\n",
       "      <td>5</td>\n",
       "      <td>03/02/20</td>\n",
       "      <td>6:00 PM</td>\n",
       "      <td>Kerala</td>\n",
       "      <td>3</td>\n",
       "      <td>0</td>\n",
       "      <td>0</td>\n",
       "      <td>0</td>\n",
       "      <td>3</td>\n",
       "    </tr>\n",
       "  </tbody>\n",
       "</table>\n",
       "</div>"
      ],
      "text/plain": [
       "   Sno      Date     Time State/UnionTerritory ConfirmedIndianNational  \\\n",
       "0    1  30/01/20  6:00 PM               Kerala                       1   \n",
       "1    2  31/01/20  6:00 PM               Kerala                       1   \n",
       "2    3  01/02/20  6:00 PM               Kerala                       2   \n",
       "3    4  02/02/20  6:00 PM               Kerala                       3   \n",
       "4    5  03/02/20  6:00 PM               Kerala                       3   \n",
       "\n",
       "  ConfirmedForeignNational  Cured  Deaths  Confirmed  \n",
       "0                        0      0       0          1  \n",
       "1                        0      0       0          1  \n",
       "2                        0      0       0          2  \n",
       "3                        0      0       0          3  \n",
       "4                        0      0       0          3  "
      ]
     },
     "execution_count": 17,
     "metadata": {},
     "output_type": "execute_result"
    }
   ],
   "source": [
    "df_train=pd.read_csv(r'C:\\Users\\ADITYA\\Desktop\\covid_19_india.csv')\n",
    "df_train.head()"
   ]
  },
  {
   "cell_type": "code",
   "execution_count": 21,
   "metadata": {},
   "outputs": [],
   "source": [
    "\n",
    "\n",
    "df2= df_train[df_train['Date']=='26/04/20']\n",
    "fig = px.bar(df2, x='State/UnionTerritory', color='State/UnionTerritory', y='Confirmed',height=700,title='Cases as of 26 April')"
   ]
  },
  {
   "cell_type": "code",
   "execution_count": 22,
   "metadata": {
    "scrolled": false
   },
   "outputs": [
    {
     "data": {
      "application/vnd.plotly.v1+json": {
       "config": {
        "plotlyServerURL": "https://plot.ly"
       },
       "data": [
        {
         "alignmentgroup": "True",
         "hoverlabel": {
          "namelength": 0
         },
         "hovertemplate": "State/UnionTerritory=%{x}<br>Confirmed=%{y}",
         "legendgroup": "Andaman and Nicobar Islands",
         "marker": {
          "color": "#636efa"
         },
         "name": "Andaman and Nicobar Islands",
         "offsetgroup": "Andaman and Nicobar Islands",
         "orientation": "v",
         "showlegend": true,
         "textposition": "auto",
         "type": "bar",
         "x": [
          "Andaman and Nicobar Islands"
         ],
         "xaxis": "x",
         "y": [
          33
         ],
         "yaxis": "y"
        },
        {
         "alignmentgroup": "True",
         "hoverlabel": {
          "namelength": 0
         },
         "hovertemplate": "State/UnionTerritory=%{x}<br>Confirmed=%{y}",
         "legendgroup": "Andhra Pradesh",
         "marker": {
          "color": "#EF553B"
         },
         "name": "Andhra Pradesh",
         "offsetgroup": "Andhra Pradesh",
         "orientation": "v",
         "showlegend": true,
         "textposition": "auto",
         "type": "bar",
         "x": [
          "Andhra Pradesh"
         ],
         "xaxis": "x",
         "y": [
          1097
         ],
         "yaxis": "y"
        },
        {
         "alignmentgroup": "True",
         "hoverlabel": {
          "namelength": 0
         },
         "hovertemplate": "State/UnionTerritory=%{x}<br>Confirmed=%{y}",
         "legendgroup": "Arunachal Pradesh",
         "marker": {
          "color": "#00cc96"
         },
         "name": "Arunachal Pradesh",
         "offsetgroup": "Arunachal Pradesh",
         "orientation": "v",
         "showlegend": true,
         "textposition": "auto",
         "type": "bar",
         "x": [
          "Arunachal Pradesh"
         ],
         "xaxis": "x",
         "y": [
          1
         ],
         "yaxis": "y"
        },
        {
         "alignmentgroup": "True",
         "hoverlabel": {
          "namelength": 0
         },
         "hovertemplate": "State/UnionTerritory=%{x}<br>Confirmed=%{y}",
         "legendgroup": "Assam",
         "marker": {
          "color": "#ab63fa"
         },
         "name": "Assam",
         "offsetgroup": "Assam",
         "orientation": "v",
         "showlegend": true,
         "textposition": "auto",
         "type": "bar",
         "x": [
          "Assam"
         ],
         "xaxis": "x",
         "y": [
          36
         ],
         "yaxis": "y"
        },
        {
         "alignmentgroup": "True",
         "hoverlabel": {
          "namelength": 0
         },
         "hovertemplate": "State/UnionTerritory=%{x}<br>Confirmed=%{y}",
         "legendgroup": "Bihar",
         "marker": {
          "color": "#FFA15A"
         },
         "name": "Bihar",
         "offsetgroup": "Bihar",
         "orientation": "v",
         "showlegend": true,
         "textposition": "auto",
         "type": "bar",
         "x": [
          "Bihar"
         ],
         "xaxis": "x",
         "y": [
          251
         ],
         "yaxis": "y"
        },
        {
         "alignmentgroup": "True",
         "hoverlabel": {
          "namelength": 0
         },
         "hovertemplate": "State/UnionTerritory=%{x}<br>Confirmed=%{y}",
         "legendgroup": "Chandigarh",
         "marker": {
          "color": "#19d3f3"
         },
         "name": "Chandigarh",
         "offsetgroup": "Chandigarh",
         "orientation": "v",
         "showlegend": true,
         "textposition": "auto",
         "type": "bar",
         "x": [
          "Chandigarh"
         ],
         "xaxis": "x",
         "y": [
          30
         ],
         "yaxis": "y"
        },
        {
         "alignmentgroup": "True",
         "hoverlabel": {
          "namelength": 0
         },
         "hovertemplate": "State/UnionTerritory=%{x}<br>Confirmed=%{y}",
         "legendgroup": "Chhattisgarh",
         "marker": {
          "color": "#FF6692"
         },
         "name": "Chhattisgarh",
         "offsetgroup": "Chhattisgarh",
         "orientation": "v",
         "showlegend": true,
         "textposition": "auto",
         "type": "bar",
         "x": [
          "Chhattisgarh"
         ],
         "xaxis": "x",
         "y": [
          37
         ],
         "yaxis": "y"
        },
        {
         "alignmentgroup": "True",
         "hoverlabel": {
          "namelength": 0
         },
         "hovertemplate": "State/UnionTerritory=%{x}<br>Confirmed=%{y}",
         "legendgroup": "Delhi",
         "marker": {
          "color": "#B6E880"
         },
         "name": "Delhi",
         "offsetgroup": "Delhi",
         "orientation": "v",
         "showlegend": true,
         "textposition": "auto",
         "type": "bar",
         "x": [
          "Delhi"
         ],
         "xaxis": "x",
         "y": [
          2625
         ],
         "yaxis": "y"
        },
        {
         "alignmentgroup": "True",
         "hoverlabel": {
          "namelength": 0
         },
         "hovertemplate": "State/UnionTerritory=%{x}<br>Confirmed=%{y}",
         "legendgroup": "Goa",
         "marker": {
          "color": "#FF97FF"
         },
         "name": "Goa",
         "offsetgroup": "Goa",
         "orientation": "v",
         "showlegend": true,
         "textposition": "auto",
         "type": "bar",
         "x": [
          "Goa"
         ],
         "xaxis": "x",
         "y": [
          7
         ],
         "yaxis": "y"
        },
        {
         "alignmentgroup": "True",
         "hoverlabel": {
          "namelength": 0
         },
         "hovertemplate": "State/UnionTerritory=%{x}<br>Confirmed=%{y}",
         "legendgroup": "Gujarat",
         "marker": {
          "color": "#FECB52"
         },
         "name": "Gujarat",
         "offsetgroup": "Gujarat",
         "orientation": "v",
         "showlegend": true,
         "textposition": "auto",
         "type": "bar",
         "x": [
          "Gujarat"
         ],
         "xaxis": "x",
         "y": [
          3071
         ],
         "yaxis": "y"
        },
        {
         "alignmentgroup": "True",
         "hoverlabel": {
          "namelength": 0
         },
         "hovertemplate": "State/UnionTerritory=%{x}<br>Confirmed=%{y}",
         "legendgroup": "Haryana",
         "marker": {
          "color": "#636efa"
         },
         "name": "Haryana",
         "offsetgroup": "Haryana",
         "orientation": "v",
         "showlegend": true,
         "textposition": "auto",
         "type": "bar",
         "x": [
          "Haryana"
         ],
         "xaxis": "x",
         "y": [
          289
         ],
         "yaxis": "y"
        },
        {
         "alignmentgroup": "True",
         "hoverlabel": {
          "namelength": 0
         },
         "hovertemplate": "State/UnionTerritory=%{x}<br>Confirmed=%{y}",
         "legendgroup": "Himachal Pradesh",
         "marker": {
          "color": "#EF553B"
         },
         "name": "Himachal Pradesh",
         "offsetgroup": "Himachal Pradesh",
         "orientation": "v",
         "showlegend": true,
         "textposition": "auto",
         "type": "bar",
         "x": [
          "Himachal Pradesh"
         ],
         "xaxis": "x",
         "y": [
          40
         ],
         "yaxis": "y"
        },
        {
         "alignmentgroup": "True",
         "hoverlabel": {
          "namelength": 0
         },
         "hovertemplate": "State/UnionTerritory=%{x}<br>Confirmed=%{y}",
         "legendgroup": "Jammu and Kashmir",
         "marker": {
          "color": "#00cc96"
         },
         "name": "Jammu and Kashmir",
         "offsetgroup": "Jammu and Kashmir",
         "orientation": "v",
         "showlegend": true,
         "textposition": "auto",
         "type": "bar",
         "x": [
          "Jammu and Kashmir"
         ],
         "xaxis": "x",
         "y": [
          494
         ],
         "yaxis": "y"
        },
        {
         "alignmentgroup": "True",
         "hoverlabel": {
          "namelength": 0
         },
         "hovertemplate": "State/UnionTerritory=%{x}<br>Confirmed=%{y}",
         "legendgroup": "Jharkhand",
         "marker": {
          "color": "#ab63fa"
         },
         "name": "Jharkhand",
         "offsetgroup": "Jharkhand",
         "orientation": "v",
         "showlegend": true,
         "textposition": "auto",
         "type": "bar",
         "x": [
          "Jharkhand"
         ],
         "xaxis": "x",
         "y": [
          67
         ],
         "yaxis": "y"
        },
        {
         "alignmentgroup": "True",
         "hoverlabel": {
          "namelength": 0
         },
         "hovertemplate": "State/UnionTerritory=%{x}<br>Confirmed=%{y}",
         "legendgroup": "Karnataka",
         "marker": {
          "color": "#FFA15A"
         },
         "name": "Karnataka",
         "offsetgroup": "Karnataka",
         "orientation": "v",
         "showlegend": true,
         "textposition": "auto",
         "type": "bar",
         "x": [
          "Karnataka"
         ],
         "xaxis": "x",
         "y": [
          501
         ],
         "yaxis": "y"
        },
        {
         "alignmentgroup": "True",
         "hoverlabel": {
          "namelength": 0
         },
         "hovertemplate": "State/UnionTerritory=%{x}<br>Confirmed=%{y}",
         "legendgroup": "Kerala",
         "marker": {
          "color": "#19d3f3"
         },
         "name": "Kerala",
         "offsetgroup": "Kerala",
         "orientation": "v",
         "showlegend": true,
         "textposition": "auto",
         "type": "bar",
         "x": [
          "Kerala"
         ],
         "xaxis": "x",
         "y": [
          458
         ],
         "yaxis": "y"
        },
        {
         "alignmentgroup": "True",
         "hoverlabel": {
          "namelength": 0
         },
         "hovertemplate": "State/UnionTerritory=%{x}<br>Confirmed=%{y}",
         "legendgroup": "Ladakh",
         "marker": {
          "color": "#FF6692"
         },
         "name": "Ladakh",
         "offsetgroup": "Ladakh",
         "orientation": "v",
         "showlegend": true,
         "textposition": "auto",
         "type": "bar",
         "x": [
          "Ladakh"
         ],
         "xaxis": "x",
         "y": [
          20
         ],
         "yaxis": "y"
        },
        {
         "alignmentgroup": "True",
         "hoverlabel": {
          "namelength": 0
         },
         "hovertemplate": "State/UnionTerritory=%{x}<br>Confirmed=%{y}",
         "legendgroup": "Madhya Pradesh",
         "marker": {
          "color": "#B6E880"
         },
         "name": "Madhya Pradesh",
         "offsetgroup": "Madhya Pradesh",
         "orientation": "v",
         "showlegend": true,
         "textposition": "auto",
         "type": "bar",
         "x": [
          "Madhya Pradesh"
         ],
         "xaxis": "x",
         "y": [
          2096
         ],
         "yaxis": "y"
        },
        {
         "alignmentgroup": "True",
         "hoverlabel": {
          "namelength": 0
         },
         "hovertemplate": "State/UnionTerritory=%{x}<br>Confirmed=%{y}",
         "legendgroup": "Maharashtra",
         "marker": {
          "color": "#FF97FF"
         },
         "name": "Maharashtra",
         "offsetgroup": "Maharashtra",
         "orientation": "v",
         "showlegend": true,
         "textposition": "auto",
         "type": "bar",
         "x": [
          "Maharashtra"
         ],
         "xaxis": "x",
         "y": [
          7628
         ],
         "yaxis": "y"
        },
        {
         "alignmentgroup": "True",
         "hoverlabel": {
          "namelength": 0
         },
         "hovertemplate": "State/UnionTerritory=%{x}<br>Confirmed=%{y}",
         "legendgroup": "Manipur",
         "marker": {
          "color": "#FECB52"
         },
         "name": "Manipur",
         "offsetgroup": "Manipur",
         "orientation": "v",
         "showlegend": true,
         "textposition": "auto",
         "type": "bar",
         "x": [
          "Manipur"
         ],
         "xaxis": "x",
         "y": [
          2
         ],
         "yaxis": "y"
        },
        {
         "alignmentgroup": "True",
         "hoverlabel": {
          "namelength": 0
         },
         "hovertemplate": "State/UnionTerritory=%{x}<br>Confirmed=%{y}",
         "legendgroup": "Meghalaya",
         "marker": {
          "color": "#636efa"
         },
         "name": "Meghalaya",
         "offsetgroup": "Meghalaya",
         "orientation": "v",
         "showlegend": true,
         "textposition": "auto",
         "type": "bar",
         "x": [
          "Meghalaya"
         ],
         "xaxis": "x",
         "y": [
          12
         ],
         "yaxis": "y"
        },
        {
         "alignmentgroup": "True",
         "hoverlabel": {
          "namelength": 0
         },
         "hovertemplate": "State/UnionTerritory=%{x}<br>Confirmed=%{y}",
         "legendgroup": "Mizoram",
         "marker": {
          "color": "#EF553B"
         },
         "name": "Mizoram",
         "offsetgroup": "Mizoram",
         "orientation": "v",
         "showlegend": true,
         "textposition": "auto",
         "type": "bar",
         "x": [
          "Mizoram"
         ],
         "xaxis": "x",
         "y": [
          1
         ],
         "yaxis": "y"
        },
        {
         "alignmentgroup": "True",
         "hoverlabel": {
          "namelength": 0
         },
         "hovertemplate": "State/UnionTerritory=%{x}<br>Confirmed=%{y}",
         "legendgroup": "Odisha",
         "marker": {
          "color": "#00cc96"
         },
         "name": "Odisha",
         "offsetgroup": "Odisha",
         "orientation": "v",
         "showlegend": true,
         "textposition": "auto",
         "type": "bar",
         "x": [
          "Odisha"
         ],
         "xaxis": "x",
         "y": [
          103
         ],
         "yaxis": "y"
        },
        {
         "alignmentgroup": "True",
         "hoverlabel": {
          "namelength": 0
         },
         "hovertemplate": "State/UnionTerritory=%{x}<br>Confirmed=%{y}",
         "legendgroup": "Puducherry",
         "marker": {
          "color": "#ab63fa"
         },
         "name": "Puducherry",
         "offsetgroup": "Puducherry",
         "orientation": "v",
         "showlegend": true,
         "textposition": "auto",
         "type": "bar",
         "x": [
          "Puducherry"
         ],
         "xaxis": "x",
         "y": [
          7
         ],
         "yaxis": "y"
        },
        {
         "alignmentgroup": "True",
         "hoverlabel": {
          "namelength": 0
         },
         "hovertemplate": "State/UnionTerritory=%{x}<br>Confirmed=%{y}",
         "legendgroup": "Punjab",
         "marker": {
          "color": "#FFA15A"
         },
         "name": "Punjab",
         "offsetgroup": "Punjab",
         "orientation": "v",
         "showlegend": true,
         "textposition": "auto",
         "type": "bar",
         "x": [
          "Punjab"
         ],
         "xaxis": "x",
         "y": [
          298
         ],
         "yaxis": "y"
        },
        {
         "alignmentgroup": "True",
         "hoverlabel": {
          "namelength": 0
         },
         "hovertemplate": "State/UnionTerritory=%{x}<br>Confirmed=%{y}",
         "legendgroup": "Rajasthan",
         "marker": {
          "color": "#19d3f3"
         },
         "name": "Rajasthan",
         "offsetgroup": "Rajasthan",
         "orientation": "v",
         "showlegend": true,
         "textposition": "auto",
         "type": "bar",
         "x": [
          "Rajasthan"
         ],
         "xaxis": "x",
         "y": [
          2083
         ],
         "yaxis": "y"
        },
        {
         "alignmentgroup": "True",
         "hoverlabel": {
          "namelength": 0
         },
         "hovertemplate": "State/UnionTerritory=%{x}<br>Confirmed=%{y}",
         "legendgroup": "Tamil Nadu",
         "marker": {
          "color": "#FF6692"
         },
         "name": "Tamil Nadu",
         "offsetgroup": "Tamil Nadu",
         "orientation": "v",
         "showlegend": true,
         "textposition": "auto",
         "type": "bar",
         "x": [
          "Tamil Nadu"
         ],
         "xaxis": "x",
         "y": [
          1821
         ],
         "yaxis": "y"
        },
        {
         "alignmentgroup": "True",
         "hoverlabel": {
          "namelength": 0
         },
         "hovertemplate": "State/UnionTerritory=%{x}<br>Confirmed=%{y}",
         "legendgroup": "Telengana",
         "marker": {
          "color": "#B6E880"
         },
         "name": "Telengana",
         "offsetgroup": "Telengana",
         "orientation": "v",
         "showlegend": true,
         "textposition": "auto",
         "type": "bar",
         "x": [
          "Telengana"
         ],
         "xaxis": "x",
         "y": [
          991
         ],
         "yaxis": "y"
        },
        {
         "alignmentgroup": "True",
         "hoverlabel": {
          "namelength": 0
         },
         "hovertemplate": "State/UnionTerritory=%{x}<br>Confirmed=%{y}",
         "legendgroup": "Tripura",
         "marker": {
          "color": "#FF97FF"
         },
         "name": "Tripura",
         "offsetgroup": "Tripura",
         "orientation": "v",
         "showlegend": true,
         "textposition": "auto",
         "type": "bar",
         "x": [
          "Tripura"
         ],
         "xaxis": "x",
         "y": [
          2
         ],
         "yaxis": "y"
        },
        {
         "alignmentgroup": "True",
         "hoverlabel": {
          "namelength": 0
         },
         "hovertemplate": "State/UnionTerritory=%{x}<br>Confirmed=%{y}",
         "legendgroup": "Uttarakhand",
         "marker": {
          "color": "#FECB52"
         },
         "name": "Uttarakhand",
         "offsetgroup": "Uttarakhand",
         "orientation": "v",
         "showlegend": true,
         "textposition": "auto",
         "type": "bar",
         "x": [
          "Uttarakhand"
         ],
         "xaxis": "x",
         "y": [
          50
         ],
         "yaxis": "y"
        },
        {
         "alignmentgroup": "True",
         "hoverlabel": {
          "namelength": 0
         },
         "hovertemplate": "State/UnionTerritory=%{x}<br>Confirmed=%{y}",
         "legendgroup": "Uttar Pradesh",
         "marker": {
          "color": "#636efa"
         },
         "name": "Uttar Pradesh",
         "offsetgroup": "Uttar Pradesh",
         "orientation": "v",
         "showlegend": true,
         "textposition": "auto",
         "type": "bar",
         "x": [
          "Uttar Pradesh"
         ],
         "xaxis": "x",
         "y": [
          1843
         ],
         "yaxis": "y"
        },
        {
         "alignmentgroup": "True",
         "hoverlabel": {
          "namelength": 0
         },
         "hovertemplate": "State/UnionTerritory=%{x}<br>Confirmed=%{y}",
         "legendgroup": "West Bengal",
         "marker": {
          "color": "#EF553B"
         },
         "name": "West Bengal",
         "offsetgroup": "West Bengal",
         "orientation": "v",
         "showlegend": true,
         "textposition": "auto",
         "type": "bar",
         "x": [
          "West Bengal"
         ],
         "xaxis": "x",
         "y": [
          611
         ],
         "yaxis": "y"
        }
       ],
       "layout": {
        "barmode": "relative",
        "height": 700,
        "legend": {
         "title": {
          "text": "State/UnionTerritory"
         },
         "tracegroupgap": 0
        },
        "template": {
         "data": {
          "bar": [
           {
            "error_x": {
             "color": "#2a3f5f"
            },
            "error_y": {
             "color": "#2a3f5f"
            },
            "marker": {
             "line": {
              "color": "#E5ECF6",
              "width": 0.5
             }
            },
            "type": "bar"
           }
          ],
          "barpolar": [
           {
            "marker": {
             "line": {
              "color": "#E5ECF6",
              "width": 0.5
             }
            },
            "type": "barpolar"
           }
          ],
          "carpet": [
           {
            "aaxis": {
             "endlinecolor": "#2a3f5f",
             "gridcolor": "white",
             "linecolor": "white",
             "minorgridcolor": "white",
             "startlinecolor": "#2a3f5f"
            },
            "baxis": {
             "endlinecolor": "#2a3f5f",
             "gridcolor": "white",
             "linecolor": "white",
             "minorgridcolor": "white",
             "startlinecolor": "#2a3f5f"
            },
            "type": "carpet"
           }
          ],
          "choropleth": [
           {
            "colorbar": {
             "outlinewidth": 0,
             "ticks": ""
            },
            "type": "choropleth"
           }
          ],
          "contour": [
           {
            "colorbar": {
             "outlinewidth": 0,
             "ticks": ""
            },
            "colorscale": [
             [
              0,
              "#0d0887"
             ],
             [
              0.1111111111111111,
              "#46039f"
             ],
             [
              0.2222222222222222,
              "#7201a8"
             ],
             [
              0.3333333333333333,
              "#9c179e"
             ],
             [
              0.4444444444444444,
              "#bd3786"
             ],
             [
              0.5555555555555556,
              "#d8576b"
             ],
             [
              0.6666666666666666,
              "#ed7953"
             ],
             [
              0.7777777777777778,
              "#fb9f3a"
             ],
             [
              0.8888888888888888,
              "#fdca26"
             ],
             [
              1,
              "#f0f921"
             ]
            ],
            "type": "contour"
           }
          ],
          "contourcarpet": [
           {
            "colorbar": {
             "outlinewidth": 0,
             "ticks": ""
            },
            "type": "contourcarpet"
           }
          ],
          "heatmap": [
           {
            "colorbar": {
             "outlinewidth": 0,
             "ticks": ""
            },
            "colorscale": [
             [
              0,
              "#0d0887"
             ],
             [
              0.1111111111111111,
              "#46039f"
             ],
             [
              0.2222222222222222,
              "#7201a8"
             ],
             [
              0.3333333333333333,
              "#9c179e"
             ],
             [
              0.4444444444444444,
              "#bd3786"
             ],
             [
              0.5555555555555556,
              "#d8576b"
             ],
             [
              0.6666666666666666,
              "#ed7953"
             ],
             [
              0.7777777777777778,
              "#fb9f3a"
             ],
             [
              0.8888888888888888,
              "#fdca26"
             ],
             [
              1,
              "#f0f921"
             ]
            ],
            "type": "heatmap"
           }
          ],
          "heatmapgl": [
           {
            "colorbar": {
             "outlinewidth": 0,
             "ticks": ""
            },
            "colorscale": [
             [
              0,
              "#0d0887"
             ],
             [
              0.1111111111111111,
              "#46039f"
             ],
             [
              0.2222222222222222,
              "#7201a8"
             ],
             [
              0.3333333333333333,
              "#9c179e"
             ],
             [
              0.4444444444444444,
              "#bd3786"
             ],
             [
              0.5555555555555556,
              "#d8576b"
             ],
             [
              0.6666666666666666,
              "#ed7953"
             ],
             [
              0.7777777777777778,
              "#fb9f3a"
             ],
             [
              0.8888888888888888,
              "#fdca26"
             ],
             [
              1,
              "#f0f921"
             ]
            ],
            "type": "heatmapgl"
           }
          ],
          "histogram": [
           {
            "marker": {
             "colorbar": {
              "outlinewidth": 0,
              "ticks": ""
             }
            },
            "type": "histogram"
           }
          ],
          "histogram2d": [
           {
            "colorbar": {
             "outlinewidth": 0,
             "ticks": ""
            },
            "colorscale": [
             [
              0,
              "#0d0887"
             ],
             [
              0.1111111111111111,
              "#46039f"
             ],
             [
              0.2222222222222222,
              "#7201a8"
             ],
             [
              0.3333333333333333,
              "#9c179e"
             ],
             [
              0.4444444444444444,
              "#bd3786"
             ],
             [
              0.5555555555555556,
              "#d8576b"
             ],
             [
              0.6666666666666666,
              "#ed7953"
             ],
             [
              0.7777777777777778,
              "#fb9f3a"
             ],
             [
              0.8888888888888888,
              "#fdca26"
             ],
             [
              1,
              "#f0f921"
             ]
            ],
            "type": "histogram2d"
           }
          ],
          "histogram2dcontour": [
           {
            "colorbar": {
             "outlinewidth": 0,
             "ticks": ""
            },
            "colorscale": [
             [
              0,
              "#0d0887"
             ],
             [
              0.1111111111111111,
              "#46039f"
             ],
             [
              0.2222222222222222,
              "#7201a8"
             ],
             [
              0.3333333333333333,
              "#9c179e"
             ],
             [
              0.4444444444444444,
              "#bd3786"
             ],
             [
              0.5555555555555556,
              "#d8576b"
             ],
             [
              0.6666666666666666,
              "#ed7953"
             ],
             [
              0.7777777777777778,
              "#fb9f3a"
             ],
             [
              0.8888888888888888,
              "#fdca26"
             ],
             [
              1,
              "#f0f921"
             ]
            ],
            "type": "histogram2dcontour"
           }
          ],
          "mesh3d": [
           {
            "colorbar": {
             "outlinewidth": 0,
             "ticks": ""
            },
            "type": "mesh3d"
           }
          ],
          "parcoords": [
           {
            "line": {
             "colorbar": {
              "outlinewidth": 0,
              "ticks": ""
             }
            },
            "type": "parcoords"
           }
          ],
          "pie": [
           {
            "automargin": true,
            "type": "pie"
           }
          ],
          "scatter": [
           {
            "marker": {
             "colorbar": {
              "outlinewidth": 0,
              "ticks": ""
             }
            },
            "type": "scatter"
           }
          ],
          "scatter3d": [
           {
            "line": {
             "colorbar": {
              "outlinewidth": 0,
              "ticks": ""
             }
            },
            "marker": {
             "colorbar": {
              "outlinewidth": 0,
              "ticks": ""
             }
            },
            "type": "scatter3d"
           }
          ],
          "scattercarpet": [
           {
            "marker": {
             "colorbar": {
              "outlinewidth": 0,
              "ticks": ""
             }
            },
            "type": "scattercarpet"
           }
          ],
          "scattergeo": [
           {
            "marker": {
             "colorbar": {
              "outlinewidth": 0,
              "ticks": ""
             }
            },
            "type": "scattergeo"
           }
          ],
          "scattergl": [
           {
            "marker": {
             "colorbar": {
              "outlinewidth": 0,
              "ticks": ""
             }
            },
            "type": "scattergl"
           }
          ],
          "scattermapbox": [
           {
            "marker": {
             "colorbar": {
              "outlinewidth": 0,
              "ticks": ""
             }
            },
            "type": "scattermapbox"
           }
          ],
          "scatterpolar": [
           {
            "marker": {
             "colorbar": {
              "outlinewidth": 0,
              "ticks": ""
             }
            },
            "type": "scatterpolar"
           }
          ],
          "scatterpolargl": [
           {
            "marker": {
             "colorbar": {
              "outlinewidth": 0,
              "ticks": ""
             }
            },
            "type": "scatterpolargl"
           }
          ],
          "scatterternary": [
           {
            "marker": {
             "colorbar": {
              "outlinewidth": 0,
              "ticks": ""
             }
            },
            "type": "scatterternary"
           }
          ],
          "surface": [
           {
            "colorbar": {
             "outlinewidth": 0,
             "ticks": ""
            },
            "colorscale": [
             [
              0,
              "#0d0887"
             ],
             [
              0.1111111111111111,
              "#46039f"
             ],
             [
              0.2222222222222222,
              "#7201a8"
             ],
             [
              0.3333333333333333,
              "#9c179e"
             ],
             [
              0.4444444444444444,
              "#bd3786"
             ],
             [
              0.5555555555555556,
              "#d8576b"
             ],
             [
              0.6666666666666666,
              "#ed7953"
             ],
             [
              0.7777777777777778,
              "#fb9f3a"
             ],
             [
              0.8888888888888888,
              "#fdca26"
             ],
             [
              1,
              "#f0f921"
             ]
            ],
            "type": "surface"
           }
          ],
          "table": [
           {
            "cells": {
             "fill": {
              "color": "#EBF0F8"
             },
             "line": {
              "color": "white"
             }
            },
            "header": {
             "fill": {
              "color": "#C8D4E3"
             },
             "line": {
              "color": "white"
             }
            },
            "type": "table"
           }
          ]
         },
         "layout": {
          "annotationdefaults": {
           "arrowcolor": "#2a3f5f",
           "arrowhead": 0,
           "arrowwidth": 1
          },
          "coloraxis": {
           "colorbar": {
            "outlinewidth": 0,
            "ticks": ""
           }
          },
          "colorscale": {
           "diverging": [
            [
             0,
             "#8e0152"
            ],
            [
             0.1,
             "#c51b7d"
            ],
            [
             0.2,
             "#de77ae"
            ],
            [
             0.3,
             "#f1b6da"
            ],
            [
             0.4,
             "#fde0ef"
            ],
            [
             0.5,
             "#f7f7f7"
            ],
            [
             0.6,
             "#e6f5d0"
            ],
            [
             0.7,
             "#b8e186"
            ],
            [
             0.8,
             "#7fbc41"
            ],
            [
             0.9,
             "#4d9221"
            ],
            [
             1,
             "#276419"
            ]
           ],
           "sequential": [
            [
             0,
             "#0d0887"
            ],
            [
             0.1111111111111111,
             "#46039f"
            ],
            [
             0.2222222222222222,
             "#7201a8"
            ],
            [
             0.3333333333333333,
             "#9c179e"
            ],
            [
             0.4444444444444444,
             "#bd3786"
            ],
            [
             0.5555555555555556,
             "#d8576b"
            ],
            [
             0.6666666666666666,
             "#ed7953"
            ],
            [
             0.7777777777777778,
             "#fb9f3a"
            ],
            [
             0.8888888888888888,
             "#fdca26"
            ],
            [
             1,
             "#f0f921"
            ]
           ],
           "sequentialminus": [
            [
             0,
             "#0d0887"
            ],
            [
             0.1111111111111111,
             "#46039f"
            ],
            [
             0.2222222222222222,
             "#7201a8"
            ],
            [
             0.3333333333333333,
             "#9c179e"
            ],
            [
             0.4444444444444444,
             "#bd3786"
            ],
            [
             0.5555555555555556,
             "#d8576b"
            ],
            [
             0.6666666666666666,
             "#ed7953"
            ],
            [
             0.7777777777777778,
             "#fb9f3a"
            ],
            [
             0.8888888888888888,
             "#fdca26"
            ],
            [
             1,
             "#f0f921"
            ]
           ]
          },
          "colorway": [
           "#636efa",
           "#EF553B",
           "#00cc96",
           "#ab63fa",
           "#FFA15A",
           "#19d3f3",
           "#FF6692",
           "#B6E880",
           "#FF97FF",
           "#FECB52"
          ],
          "font": {
           "color": "#2a3f5f"
          },
          "geo": {
           "bgcolor": "white",
           "lakecolor": "white",
           "landcolor": "#E5ECF6",
           "showlakes": true,
           "showland": true,
           "subunitcolor": "white"
          },
          "hoverlabel": {
           "align": "left"
          },
          "hovermode": "closest",
          "mapbox": {
           "style": "light"
          },
          "paper_bgcolor": "white",
          "plot_bgcolor": "#E5ECF6",
          "polar": {
           "angularaxis": {
            "gridcolor": "white",
            "linecolor": "white",
            "ticks": ""
           },
           "bgcolor": "#E5ECF6",
           "radialaxis": {
            "gridcolor": "white",
            "linecolor": "white",
            "ticks": ""
           }
          },
          "scene": {
           "xaxis": {
            "backgroundcolor": "#E5ECF6",
            "gridcolor": "white",
            "gridwidth": 2,
            "linecolor": "white",
            "showbackground": true,
            "ticks": "",
            "zerolinecolor": "white"
           },
           "yaxis": {
            "backgroundcolor": "#E5ECF6",
            "gridcolor": "white",
            "gridwidth": 2,
            "linecolor": "white",
            "showbackground": true,
            "ticks": "",
            "zerolinecolor": "white"
           },
           "zaxis": {
            "backgroundcolor": "#E5ECF6",
            "gridcolor": "white",
            "gridwidth": 2,
            "linecolor": "white",
            "showbackground": true,
            "ticks": "",
            "zerolinecolor": "white"
           }
          },
          "shapedefaults": {
           "line": {
            "color": "#2a3f5f"
           }
          },
          "ternary": {
           "aaxis": {
            "gridcolor": "white",
            "linecolor": "white",
            "ticks": ""
           },
           "baxis": {
            "gridcolor": "white",
            "linecolor": "white",
            "ticks": ""
           },
           "bgcolor": "#E5ECF6",
           "caxis": {
            "gridcolor": "white",
            "linecolor": "white",
            "ticks": ""
           }
          },
          "title": {
           "x": 0.05
          },
          "xaxis": {
           "automargin": true,
           "gridcolor": "white",
           "linecolor": "white",
           "ticks": "",
           "title": {
            "standoff": 15
           },
           "zerolinecolor": "white",
           "zerolinewidth": 2
          },
          "yaxis": {
           "automargin": true,
           "gridcolor": "white",
           "linecolor": "white",
           "ticks": "",
           "title": {
            "standoff": 15
           },
           "zerolinecolor": "white",
           "zerolinewidth": 2
          }
         }
        },
        "title": {
         "text": "Cases as of 26 April"
        },
        "xaxis": {
         "anchor": "y",
         "categoryarray": [
          "Andaman and Nicobar Islands",
          "Andhra Pradesh",
          "Arunachal Pradesh",
          "Assam",
          "Bihar",
          "Chandigarh",
          "Chhattisgarh",
          "Delhi",
          "Goa",
          "Gujarat",
          "Haryana",
          "Himachal Pradesh",
          "Jammu and Kashmir",
          "Jharkhand",
          "Karnataka",
          "Kerala",
          "Ladakh",
          "Madhya Pradesh",
          "Maharashtra",
          "Manipur",
          "Meghalaya",
          "Mizoram",
          "Odisha",
          "Puducherry",
          "Punjab",
          "Rajasthan",
          "Tamil Nadu",
          "Telengana",
          "Tripura",
          "Uttarakhand",
          "Uttar Pradesh",
          "West Bengal"
         ],
         "categoryorder": "array",
         "domain": [
          0,
          1
         ],
         "title": {
          "text": "State/UnionTerritory"
         }
        },
        "yaxis": {
         "anchor": "x",
         "domain": [
          0,
          1
         ],
         "title": {
          "text": "Confirmed"
         }
        }
       }
      },
      "text/html": [
       "<div>\n",
       "        \n",
       "        \n",
       "            <div id=\"3bb1be9e-c8c2-45a2-9c72-9e103cb46137\" class=\"plotly-graph-div\" style=\"height:700px; width:100%;\"></div>\n",
       "            <script type=\"text/javascript\">\n",
       "                require([\"plotly\"], function(Plotly) {\n",
       "                    window.PLOTLYENV=window.PLOTLYENV || {};\n",
       "                    \n",
       "                if (document.getElementById(\"3bb1be9e-c8c2-45a2-9c72-9e103cb46137\")) {\n",
       "                    Plotly.newPlot(\n",
       "                        '3bb1be9e-c8c2-45a2-9c72-9e103cb46137',\n",
       "                        [{\"alignmentgroup\": \"True\", \"hoverlabel\": {\"namelength\": 0}, \"hovertemplate\": \"State/UnionTerritory=%{x}<br>Confirmed=%{y}\", \"legendgroup\": \"Andaman and Nicobar Islands\", \"marker\": {\"color\": \"#636efa\"}, \"name\": \"Andaman and Nicobar Islands\", \"offsetgroup\": \"Andaman and Nicobar Islands\", \"orientation\": \"v\", \"showlegend\": true, \"textposition\": \"auto\", \"type\": \"bar\", \"x\": [\"Andaman and Nicobar Islands\"], \"xaxis\": \"x\", \"y\": [33], \"yaxis\": \"y\"}, {\"alignmentgroup\": \"True\", \"hoverlabel\": {\"namelength\": 0}, \"hovertemplate\": \"State/UnionTerritory=%{x}<br>Confirmed=%{y}\", \"legendgroup\": \"Andhra Pradesh\", \"marker\": {\"color\": \"#EF553B\"}, \"name\": \"Andhra Pradesh\", \"offsetgroup\": \"Andhra Pradesh\", \"orientation\": \"v\", \"showlegend\": true, \"textposition\": \"auto\", \"type\": \"bar\", \"x\": [\"Andhra Pradesh\"], \"xaxis\": \"x\", \"y\": [1097], \"yaxis\": \"y\"}, {\"alignmentgroup\": \"True\", \"hoverlabel\": {\"namelength\": 0}, \"hovertemplate\": \"State/UnionTerritory=%{x}<br>Confirmed=%{y}\", \"legendgroup\": \"Arunachal Pradesh\", \"marker\": {\"color\": \"#00cc96\"}, \"name\": \"Arunachal Pradesh\", \"offsetgroup\": \"Arunachal Pradesh\", \"orientation\": \"v\", \"showlegend\": true, \"textposition\": \"auto\", \"type\": \"bar\", \"x\": [\"Arunachal Pradesh\"], \"xaxis\": \"x\", \"y\": [1], \"yaxis\": \"y\"}, {\"alignmentgroup\": \"True\", \"hoverlabel\": {\"namelength\": 0}, \"hovertemplate\": \"State/UnionTerritory=%{x}<br>Confirmed=%{y}\", \"legendgroup\": \"Assam\", \"marker\": {\"color\": \"#ab63fa\"}, \"name\": \"Assam\", \"offsetgroup\": \"Assam\", \"orientation\": \"v\", \"showlegend\": true, \"textposition\": \"auto\", \"type\": \"bar\", \"x\": [\"Assam\"], \"xaxis\": \"x\", \"y\": [36], \"yaxis\": \"y\"}, {\"alignmentgroup\": \"True\", \"hoverlabel\": {\"namelength\": 0}, \"hovertemplate\": \"State/UnionTerritory=%{x}<br>Confirmed=%{y}\", \"legendgroup\": \"Bihar\", \"marker\": {\"color\": \"#FFA15A\"}, \"name\": \"Bihar\", \"offsetgroup\": \"Bihar\", \"orientation\": \"v\", \"showlegend\": true, \"textposition\": \"auto\", \"type\": \"bar\", \"x\": [\"Bihar\"], \"xaxis\": \"x\", \"y\": [251], \"yaxis\": \"y\"}, {\"alignmentgroup\": \"True\", \"hoverlabel\": {\"namelength\": 0}, \"hovertemplate\": \"State/UnionTerritory=%{x}<br>Confirmed=%{y}\", \"legendgroup\": \"Chandigarh\", \"marker\": {\"color\": \"#19d3f3\"}, \"name\": \"Chandigarh\", \"offsetgroup\": \"Chandigarh\", \"orientation\": \"v\", \"showlegend\": true, \"textposition\": \"auto\", \"type\": \"bar\", \"x\": [\"Chandigarh\"], \"xaxis\": \"x\", \"y\": [30], \"yaxis\": \"y\"}, {\"alignmentgroup\": \"True\", \"hoverlabel\": {\"namelength\": 0}, \"hovertemplate\": \"State/UnionTerritory=%{x}<br>Confirmed=%{y}\", \"legendgroup\": \"Chhattisgarh\", \"marker\": {\"color\": \"#FF6692\"}, \"name\": \"Chhattisgarh\", \"offsetgroup\": \"Chhattisgarh\", \"orientation\": \"v\", \"showlegend\": true, \"textposition\": \"auto\", \"type\": \"bar\", \"x\": [\"Chhattisgarh\"], \"xaxis\": \"x\", \"y\": [37], \"yaxis\": \"y\"}, {\"alignmentgroup\": \"True\", \"hoverlabel\": {\"namelength\": 0}, \"hovertemplate\": \"State/UnionTerritory=%{x}<br>Confirmed=%{y}\", \"legendgroup\": \"Delhi\", \"marker\": {\"color\": \"#B6E880\"}, \"name\": \"Delhi\", \"offsetgroup\": \"Delhi\", \"orientation\": \"v\", \"showlegend\": true, \"textposition\": \"auto\", \"type\": \"bar\", \"x\": [\"Delhi\"], \"xaxis\": \"x\", \"y\": [2625], \"yaxis\": \"y\"}, {\"alignmentgroup\": \"True\", \"hoverlabel\": {\"namelength\": 0}, \"hovertemplate\": \"State/UnionTerritory=%{x}<br>Confirmed=%{y}\", \"legendgroup\": \"Goa\", \"marker\": {\"color\": \"#FF97FF\"}, \"name\": \"Goa\", \"offsetgroup\": \"Goa\", \"orientation\": \"v\", \"showlegend\": true, \"textposition\": \"auto\", \"type\": \"bar\", \"x\": [\"Goa\"], \"xaxis\": \"x\", \"y\": [7], \"yaxis\": \"y\"}, {\"alignmentgroup\": \"True\", \"hoverlabel\": {\"namelength\": 0}, \"hovertemplate\": \"State/UnionTerritory=%{x}<br>Confirmed=%{y}\", \"legendgroup\": \"Gujarat\", \"marker\": {\"color\": \"#FECB52\"}, \"name\": \"Gujarat\", \"offsetgroup\": \"Gujarat\", \"orientation\": \"v\", \"showlegend\": true, \"textposition\": \"auto\", \"type\": \"bar\", \"x\": [\"Gujarat\"], \"xaxis\": \"x\", \"y\": [3071], \"yaxis\": \"y\"}, {\"alignmentgroup\": \"True\", \"hoverlabel\": {\"namelength\": 0}, \"hovertemplate\": \"State/UnionTerritory=%{x}<br>Confirmed=%{y}\", \"legendgroup\": \"Haryana\", \"marker\": {\"color\": \"#636efa\"}, \"name\": \"Haryana\", \"offsetgroup\": \"Haryana\", \"orientation\": \"v\", \"showlegend\": true, \"textposition\": \"auto\", \"type\": \"bar\", \"x\": [\"Haryana\"], \"xaxis\": \"x\", \"y\": [289], \"yaxis\": \"y\"}, {\"alignmentgroup\": \"True\", \"hoverlabel\": {\"namelength\": 0}, \"hovertemplate\": \"State/UnionTerritory=%{x}<br>Confirmed=%{y}\", \"legendgroup\": \"Himachal Pradesh\", \"marker\": {\"color\": \"#EF553B\"}, \"name\": \"Himachal Pradesh\", \"offsetgroup\": \"Himachal Pradesh\", \"orientation\": \"v\", \"showlegend\": true, \"textposition\": \"auto\", \"type\": \"bar\", \"x\": [\"Himachal Pradesh\"], \"xaxis\": \"x\", \"y\": [40], \"yaxis\": \"y\"}, {\"alignmentgroup\": \"True\", \"hoverlabel\": {\"namelength\": 0}, \"hovertemplate\": \"State/UnionTerritory=%{x}<br>Confirmed=%{y}\", \"legendgroup\": \"Jammu and Kashmir\", \"marker\": {\"color\": \"#00cc96\"}, \"name\": \"Jammu and Kashmir\", \"offsetgroup\": \"Jammu and Kashmir\", \"orientation\": \"v\", \"showlegend\": true, \"textposition\": \"auto\", \"type\": \"bar\", \"x\": [\"Jammu and Kashmir\"], \"xaxis\": \"x\", \"y\": [494], \"yaxis\": \"y\"}, {\"alignmentgroup\": \"True\", \"hoverlabel\": {\"namelength\": 0}, \"hovertemplate\": \"State/UnionTerritory=%{x}<br>Confirmed=%{y}\", \"legendgroup\": \"Jharkhand\", \"marker\": {\"color\": \"#ab63fa\"}, \"name\": \"Jharkhand\", \"offsetgroup\": \"Jharkhand\", \"orientation\": \"v\", \"showlegend\": true, \"textposition\": \"auto\", \"type\": \"bar\", \"x\": [\"Jharkhand\"], \"xaxis\": \"x\", \"y\": [67], \"yaxis\": \"y\"}, {\"alignmentgroup\": \"True\", \"hoverlabel\": {\"namelength\": 0}, \"hovertemplate\": \"State/UnionTerritory=%{x}<br>Confirmed=%{y}\", \"legendgroup\": \"Karnataka\", \"marker\": {\"color\": \"#FFA15A\"}, \"name\": \"Karnataka\", \"offsetgroup\": \"Karnataka\", \"orientation\": \"v\", \"showlegend\": true, \"textposition\": \"auto\", \"type\": \"bar\", \"x\": [\"Karnataka\"], \"xaxis\": \"x\", \"y\": [501], \"yaxis\": \"y\"}, {\"alignmentgroup\": \"True\", \"hoverlabel\": {\"namelength\": 0}, \"hovertemplate\": \"State/UnionTerritory=%{x}<br>Confirmed=%{y}\", \"legendgroup\": \"Kerala\", \"marker\": {\"color\": \"#19d3f3\"}, \"name\": \"Kerala\", \"offsetgroup\": \"Kerala\", \"orientation\": \"v\", \"showlegend\": true, \"textposition\": \"auto\", \"type\": \"bar\", \"x\": [\"Kerala\"], \"xaxis\": \"x\", \"y\": [458], \"yaxis\": \"y\"}, {\"alignmentgroup\": \"True\", \"hoverlabel\": {\"namelength\": 0}, \"hovertemplate\": \"State/UnionTerritory=%{x}<br>Confirmed=%{y}\", \"legendgroup\": \"Ladakh\", \"marker\": {\"color\": \"#FF6692\"}, \"name\": \"Ladakh\", \"offsetgroup\": \"Ladakh\", \"orientation\": \"v\", \"showlegend\": true, \"textposition\": \"auto\", \"type\": \"bar\", \"x\": [\"Ladakh\"], \"xaxis\": \"x\", \"y\": [20], \"yaxis\": \"y\"}, {\"alignmentgroup\": \"True\", \"hoverlabel\": {\"namelength\": 0}, \"hovertemplate\": \"State/UnionTerritory=%{x}<br>Confirmed=%{y}\", \"legendgroup\": \"Madhya Pradesh\", \"marker\": {\"color\": \"#B6E880\"}, \"name\": \"Madhya Pradesh\", \"offsetgroup\": \"Madhya Pradesh\", \"orientation\": \"v\", \"showlegend\": true, \"textposition\": \"auto\", \"type\": \"bar\", \"x\": [\"Madhya Pradesh\"], \"xaxis\": \"x\", \"y\": [2096], \"yaxis\": \"y\"}, {\"alignmentgroup\": \"True\", \"hoverlabel\": {\"namelength\": 0}, \"hovertemplate\": \"State/UnionTerritory=%{x}<br>Confirmed=%{y}\", \"legendgroup\": \"Maharashtra\", \"marker\": {\"color\": \"#FF97FF\"}, \"name\": \"Maharashtra\", \"offsetgroup\": \"Maharashtra\", \"orientation\": \"v\", \"showlegend\": true, \"textposition\": \"auto\", \"type\": \"bar\", \"x\": [\"Maharashtra\"], \"xaxis\": \"x\", \"y\": [7628], \"yaxis\": \"y\"}, {\"alignmentgroup\": \"True\", \"hoverlabel\": {\"namelength\": 0}, \"hovertemplate\": \"State/UnionTerritory=%{x}<br>Confirmed=%{y}\", \"legendgroup\": \"Manipur\", \"marker\": {\"color\": \"#FECB52\"}, \"name\": \"Manipur\", \"offsetgroup\": \"Manipur\", \"orientation\": \"v\", \"showlegend\": true, \"textposition\": \"auto\", \"type\": \"bar\", \"x\": [\"Manipur\"], \"xaxis\": \"x\", \"y\": [2], \"yaxis\": \"y\"}, {\"alignmentgroup\": \"True\", \"hoverlabel\": {\"namelength\": 0}, \"hovertemplate\": \"State/UnionTerritory=%{x}<br>Confirmed=%{y}\", \"legendgroup\": \"Meghalaya\", \"marker\": {\"color\": \"#636efa\"}, \"name\": \"Meghalaya\", \"offsetgroup\": \"Meghalaya\", \"orientation\": \"v\", \"showlegend\": true, \"textposition\": \"auto\", \"type\": \"bar\", \"x\": [\"Meghalaya\"], \"xaxis\": \"x\", \"y\": [12], \"yaxis\": \"y\"}, {\"alignmentgroup\": \"True\", \"hoverlabel\": {\"namelength\": 0}, \"hovertemplate\": \"State/UnionTerritory=%{x}<br>Confirmed=%{y}\", \"legendgroup\": \"Mizoram\", \"marker\": {\"color\": \"#EF553B\"}, \"name\": \"Mizoram\", \"offsetgroup\": \"Mizoram\", \"orientation\": \"v\", \"showlegend\": true, \"textposition\": \"auto\", \"type\": \"bar\", \"x\": [\"Mizoram\"], \"xaxis\": \"x\", \"y\": [1], \"yaxis\": \"y\"}, {\"alignmentgroup\": \"True\", \"hoverlabel\": {\"namelength\": 0}, \"hovertemplate\": \"State/UnionTerritory=%{x}<br>Confirmed=%{y}\", \"legendgroup\": \"Odisha\", \"marker\": {\"color\": \"#00cc96\"}, \"name\": \"Odisha\", \"offsetgroup\": \"Odisha\", \"orientation\": \"v\", \"showlegend\": true, \"textposition\": \"auto\", \"type\": \"bar\", \"x\": [\"Odisha\"], \"xaxis\": \"x\", \"y\": [103], \"yaxis\": \"y\"}, {\"alignmentgroup\": \"True\", \"hoverlabel\": {\"namelength\": 0}, \"hovertemplate\": \"State/UnionTerritory=%{x}<br>Confirmed=%{y}\", \"legendgroup\": \"Puducherry\", \"marker\": {\"color\": \"#ab63fa\"}, \"name\": \"Puducherry\", \"offsetgroup\": \"Puducherry\", \"orientation\": \"v\", \"showlegend\": true, \"textposition\": \"auto\", \"type\": \"bar\", \"x\": [\"Puducherry\"], \"xaxis\": \"x\", \"y\": [7], \"yaxis\": \"y\"}, {\"alignmentgroup\": \"True\", \"hoverlabel\": {\"namelength\": 0}, \"hovertemplate\": \"State/UnionTerritory=%{x}<br>Confirmed=%{y}\", \"legendgroup\": \"Punjab\", \"marker\": {\"color\": \"#FFA15A\"}, \"name\": \"Punjab\", \"offsetgroup\": \"Punjab\", \"orientation\": \"v\", \"showlegend\": true, \"textposition\": \"auto\", \"type\": \"bar\", \"x\": [\"Punjab\"], \"xaxis\": \"x\", \"y\": [298], \"yaxis\": \"y\"}, {\"alignmentgroup\": \"True\", \"hoverlabel\": {\"namelength\": 0}, \"hovertemplate\": \"State/UnionTerritory=%{x}<br>Confirmed=%{y}\", \"legendgroup\": \"Rajasthan\", \"marker\": {\"color\": \"#19d3f3\"}, \"name\": \"Rajasthan\", \"offsetgroup\": \"Rajasthan\", \"orientation\": \"v\", \"showlegend\": true, \"textposition\": \"auto\", \"type\": \"bar\", \"x\": [\"Rajasthan\"], \"xaxis\": \"x\", \"y\": [2083], \"yaxis\": \"y\"}, {\"alignmentgroup\": \"True\", \"hoverlabel\": {\"namelength\": 0}, \"hovertemplate\": \"State/UnionTerritory=%{x}<br>Confirmed=%{y}\", \"legendgroup\": \"Tamil Nadu\", \"marker\": {\"color\": \"#FF6692\"}, \"name\": \"Tamil Nadu\", \"offsetgroup\": \"Tamil Nadu\", \"orientation\": \"v\", \"showlegend\": true, \"textposition\": \"auto\", \"type\": \"bar\", \"x\": [\"Tamil Nadu\"], \"xaxis\": \"x\", \"y\": [1821], \"yaxis\": \"y\"}, {\"alignmentgroup\": \"True\", \"hoverlabel\": {\"namelength\": 0}, \"hovertemplate\": \"State/UnionTerritory=%{x}<br>Confirmed=%{y}\", \"legendgroup\": \"Telengana\", \"marker\": {\"color\": \"#B6E880\"}, \"name\": \"Telengana\", \"offsetgroup\": \"Telengana\", \"orientation\": \"v\", \"showlegend\": true, \"textposition\": \"auto\", \"type\": \"bar\", \"x\": [\"Telengana\"], \"xaxis\": \"x\", \"y\": [991], \"yaxis\": \"y\"}, {\"alignmentgroup\": \"True\", \"hoverlabel\": {\"namelength\": 0}, \"hovertemplate\": \"State/UnionTerritory=%{x}<br>Confirmed=%{y}\", \"legendgroup\": \"Tripura\", \"marker\": {\"color\": \"#FF97FF\"}, \"name\": \"Tripura\", \"offsetgroup\": \"Tripura\", \"orientation\": \"v\", \"showlegend\": true, \"textposition\": \"auto\", \"type\": \"bar\", \"x\": [\"Tripura\"], \"xaxis\": \"x\", \"y\": [2], \"yaxis\": \"y\"}, {\"alignmentgroup\": \"True\", \"hoverlabel\": {\"namelength\": 0}, \"hovertemplate\": \"State/UnionTerritory=%{x}<br>Confirmed=%{y}\", \"legendgroup\": \"Uttarakhand\", \"marker\": {\"color\": \"#FECB52\"}, \"name\": \"Uttarakhand\", \"offsetgroup\": \"Uttarakhand\", \"orientation\": \"v\", \"showlegend\": true, \"textposition\": \"auto\", \"type\": \"bar\", \"x\": [\"Uttarakhand\"], \"xaxis\": \"x\", \"y\": [50], \"yaxis\": \"y\"}, {\"alignmentgroup\": \"True\", \"hoverlabel\": {\"namelength\": 0}, \"hovertemplate\": \"State/UnionTerritory=%{x}<br>Confirmed=%{y}\", \"legendgroup\": \"Uttar Pradesh\", \"marker\": {\"color\": \"#636efa\"}, \"name\": \"Uttar Pradesh\", \"offsetgroup\": \"Uttar Pradesh\", \"orientation\": \"v\", \"showlegend\": true, \"textposition\": \"auto\", \"type\": \"bar\", \"x\": [\"Uttar Pradesh\"], \"xaxis\": \"x\", \"y\": [1843], \"yaxis\": \"y\"}, {\"alignmentgroup\": \"True\", \"hoverlabel\": {\"namelength\": 0}, \"hovertemplate\": \"State/UnionTerritory=%{x}<br>Confirmed=%{y}\", \"legendgroup\": \"West Bengal\", \"marker\": {\"color\": \"#EF553B\"}, \"name\": \"West Bengal\", \"offsetgroup\": \"West Bengal\", \"orientation\": \"v\", \"showlegend\": true, \"textposition\": \"auto\", \"type\": \"bar\", \"x\": [\"West Bengal\"], \"xaxis\": \"x\", \"y\": [611], \"yaxis\": \"y\"}],\n",
       "                        {\"barmode\": \"relative\", \"height\": 700, \"legend\": {\"title\": {\"text\": \"State/UnionTerritory\"}, \"tracegroupgap\": 0}, \"template\": {\"data\": {\"bar\": [{\"error_x\": {\"color\": \"#2a3f5f\"}, \"error_y\": {\"color\": \"#2a3f5f\"}, \"marker\": {\"line\": {\"color\": \"#E5ECF6\", \"width\": 0.5}}, \"type\": \"bar\"}], \"barpolar\": [{\"marker\": {\"line\": {\"color\": \"#E5ECF6\", \"width\": 0.5}}, \"type\": \"barpolar\"}], \"carpet\": [{\"aaxis\": {\"endlinecolor\": \"#2a3f5f\", \"gridcolor\": \"white\", \"linecolor\": \"white\", \"minorgridcolor\": \"white\", \"startlinecolor\": \"#2a3f5f\"}, \"baxis\": {\"endlinecolor\": \"#2a3f5f\", \"gridcolor\": \"white\", \"linecolor\": \"white\", \"minorgridcolor\": \"white\", \"startlinecolor\": \"#2a3f5f\"}, \"type\": \"carpet\"}], \"choropleth\": [{\"colorbar\": {\"outlinewidth\": 0, \"ticks\": \"\"}, \"type\": \"choropleth\"}], \"contour\": [{\"colorbar\": {\"outlinewidth\": 0, \"ticks\": \"\"}, \"colorscale\": [[0.0, \"#0d0887\"], [0.1111111111111111, \"#46039f\"], [0.2222222222222222, \"#7201a8\"], [0.3333333333333333, \"#9c179e\"], [0.4444444444444444, \"#bd3786\"], [0.5555555555555556, \"#d8576b\"], [0.6666666666666666, \"#ed7953\"], [0.7777777777777778, \"#fb9f3a\"], [0.8888888888888888, \"#fdca26\"], [1.0, \"#f0f921\"]], \"type\": \"contour\"}], \"contourcarpet\": [{\"colorbar\": {\"outlinewidth\": 0, \"ticks\": \"\"}, \"type\": \"contourcarpet\"}], \"heatmap\": [{\"colorbar\": {\"outlinewidth\": 0, \"ticks\": \"\"}, \"colorscale\": [[0.0, \"#0d0887\"], [0.1111111111111111, \"#46039f\"], [0.2222222222222222, \"#7201a8\"], [0.3333333333333333, \"#9c179e\"], [0.4444444444444444, \"#bd3786\"], [0.5555555555555556, \"#d8576b\"], [0.6666666666666666, \"#ed7953\"], [0.7777777777777778, \"#fb9f3a\"], [0.8888888888888888, \"#fdca26\"], [1.0, \"#f0f921\"]], \"type\": \"heatmap\"}], \"heatmapgl\": [{\"colorbar\": {\"outlinewidth\": 0, \"ticks\": \"\"}, \"colorscale\": [[0.0, \"#0d0887\"], [0.1111111111111111, \"#46039f\"], [0.2222222222222222, \"#7201a8\"], [0.3333333333333333, \"#9c179e\"], [0.4444444444444444, \"#bd3786\"], [0.5555555555555556, \"#d8576b\"], [0.6666666666666666, \"#ed7953\"], [0.7777777777777778, \"#fb9f3a\"], [0.8888888888888888, \"#fdca26\"], [1.0, \"#f0f921\"]], \"type\": \"heatmapgl\"}], \"histogram\": [{\"marker\": {\"colorbar\": {\"outlinewidth\": 0, \"ticks\": \"\"}}, \"type\": \"histogram\"}], \"histogram2d\": [{\"colorbar\": {\"outlinewidth\": 0, \"ticks\": \"\"}, \"colorscale\": [[0.0, \"#0d0887\"], [0.1111111111111111, \"#46039f\"], [0.2222222222222222, \"#7201a8\"], [0.3333333333333333, \"#9c179e\"], [0.4444444444444444, \"#bd3786\"], [0.5555555555555556, \"#d8576b\"], [0.6666666666666666, \"#ed7953\"], [0.7777777777777778, \"#fb9f3a\"], [0.8888888888888888, \"#fdca26\"], [1.0, \"#f0f921\"]], \"type\": \"histogram2d\"}], \"histogram2dcontour\": [{\"colorbar\": {\"outlinewidth\": 0, \"ticks\": \"\"}, \"colorscale\": [[0.0, \"#0d0887\"], [0.1111111111111111, \"#46039f\"], [0.2222222222222222, \"#7201a8\"], [0.3333333333333333, \"#9c179e\"], [0.4444444444444444, \"#bd3786\"], [0.5555555555555556, \"#d8576b\"], [0.6666666666666666, \"#ed7953\"], [0.7777777777777778, \"#fb9f3a\"], [0.8888888888888888, \"#fdca26\"], [1.0, \"#f0f921\"]], \"type\": \"histogram2dcontour\"}], \"mesh3d\": [{\"colorbar\": {\"outlinewidth\": 0, \"ticks\": \"\"}, \"type\": \"mesh3d\"}], \"parcoords\": [{\"line\": {\"colorbar\": {\"outlinewidth\": 0, \"ticks\": \"\"}}, \"type\": \"parcoords\"}], \"pie\": [{\"automargin\": true, \"type\": \"pie\"}], \"scatter\": [{\"marker\": {\"colorbar\": {\"outlinewidth\": 0, \"ticks\": \"\"}}, \"type\": \"scatter\"}], \"scatter3d\": [{\"line\": {\"colorbar\": {\"outlinewidth\": 0, \"ticks\": \"\"}}, \"marker\": {\"colorbar\": {\"outlinewidth\": 0, \"ticks\": \"\"}}, \"type\": \"scatter3d\"}], \"scattercarpet\": [{\"marker\": {\"colorbar\": {\"outlinewidth\": 0, \"ticks\": \"\"}}, \"type\": \"scattercarpet\"}], \"scattergeo\": [{\"marker\": {\"colorbar\": {\"outlinewidth\": 0, \"ticks\": \"\"}}, \"type\": \"scattergeo\"}], \"scattergl\": [{\"marker\": {\"colorbar\": {\"outlinewidth\": 0, \"ticks\": \"\"}}, \"type\": \"scattergl\"}], \"scattermapbox\": [{\"marker\": {\"colorbar\": {\"outlinewidth\": 0, \"ticks\": \"\"}}, \"type\": \"scattermapbox\"}], \"scatterpolar\": [{\"marker\": {\"colorbar\": {\"outlinewidth\": 0, \"ticks\": \"\"}}, \"type\": \"scatterpolar\"}], \"scatterpolargl\": [{\"marker\": {\"colorbar\": {\"outlinewidth\": 0, \"ticks\": \"\"}}, \"type\": \"scatterpolargl\"}], \"scatterternary\": [{\"marker\": {\"colorbar\": {\"outlinewidth\": 0, \"ticks\": \"\"}}, \"type\": \"scatterternary\"}], \"surface\": [{\"colorbar\": {\"outlinewidth\": 0, \"ticks\": \"\"}, \"colorscale\": [[0.0, \"#0d0887\"], [0.1111111111111111, \"#46039f\"], [0.2222222222222222, \"#7201a8\"], [0.3333333333333333, \"#9c179e\"], [0.4444444444444444, \"#bd3786\"], [0.5555555555555556, \"#d8576b\"], [0.6666666666666666, \"#ed7953\"], [0.7777777777777778, \"#fb9f3a\"], [0.8888888888888888, \"#fdca26\"], [1.0, \"#f0f921\"]], \"type\": \"surface\"}], \"table\": [{\"cells\": {\"fill\": {\"color\": \"#EBF0F8\"}, \"line\": {\"color\": \"white\"}}, \"header\": {\"fill\": {\"color\": \"#C8D4E3\"}, \"line\": {\"color\": \"white\"}}, \"type\": \"table\"}]}, \"layout\": {\"annotationdefaults\": {\"arrowcolor\": \"#2a3f5f\", \"arrowhead\": 0, \"arrowwidth\": 1}, \"coloraxis\": {\"colorbar\": {\"outlinewidth\": 0, \"ticks\": \"\"}}, \"colorscale\": {\"diverging\": [[0, \"#8e0152\"], [0.1, \"#c51b7d\"], [0.2, \"#de77ae\"], [0.3, \"#f1b6da\"], [0.4, \"#fde0ef\"], [0.5, \"#f7f7f7\"], [0.6, \"#e6f5d0\"], [0.7, \"#b8e186\"], [0.8, \"#7fbc41\"], [0.9, \"#4d9221\"], [1, \"#276419\"]], \"sequential\": [[0.0, \"#0d0887\"], [0.1111111111111111, \"#46039f\"], [0.2222222222222222, \"#7201a8\"], [0.3333333333333333, \"#9c179e\"], [0.4444444444444444, \"#bd3786\"], [0.5555555555555556, \"#d8576b\"], [0.6666666666666666, \"#ed7953\"], [0.7777777777777778, \"#fb9f3a\"], [0.8888888888888888, \"#fdca26\"], [1.0, \"#f0f921\"]], \"sequentialminus\": [[0.0, \"#0d0887\"], [0.1111111111111111, \"#46039f\"], [0.2222222222222222, \"#7201a8\"], [0.3333333333333333, \"#9c179e\"], [0.4444444444444444, \"#bd3786\"], [0.5555555555555556, \"#d8576b\"], [0.6666666666666666, \"#ed7953\"], [0.7777777777777778, \"#fb9f3a\"], [0.8888888888888888, \"#fdca26\"], [1.0, \"#f0f921\"]]}, \"colorway\": [\"#636efa\", \"#EF553B\", \"#00cc96\", \"#ab63fa\", \"#FFA15A\", \"#19d3f3\", \"#FF6692\", \"#B6E880\", \"#FF97FF\", \"#FECB52\"], \"font\": {\"color\": \"#2a3f5f\"}, \"geo\": {\"bgcolor\": \"white\", \"lakecolor\": \"white\", \"landcolor\": \"#E5ECF6\", \"showlakes\": true, \"showland\": true, \"subunitcolor\": \"white\"}, \"hoverlabel\": {\"align\": \"left\"}, \"hovermode\": \"closest\", \"mapbox\": {\"style\": \"light\"}, \"paper_bgcolor\": \"white\", \"plot_bgcolor\": \"#E5ECF6\", \"polar\": {\"angularaxis\": {\"gridcolor\": \"white\", \"linecolor\": \"white\", \"ticks\": \"\"}, \"bgcolor\": \"#E5ECF6\", \"radialaxis\": {\"gridcolor\": \"white\", \"linecolor\": \"white\", \"ticks\": \"\"}}, \"scene\": {\"xaxis\": {\"backgroundcolor\": \"#E5ECF6\", \"gridcolor\": \"white\", \"gridwidth\": 2, \"linecolor\": \"white\", \"showbackground\": true, \"ticks\": \"\", \"zerolinecolor\": \"white\"}, \"yaxis\": {\"backgroundcolor\": \"#E5ECF6\", \"gridcolor\": \"white\", \"gridwidth\": 2, \"linecolor\": \"white\", \"showbackground\": true, \"ticks\": \"\", \"zerolinecolor\": \"white\"}, \"zaxis\": {\"backgroundcolor\": \"#E5ECF6\", \"gridcolor\": \"white\", \"gridwidth\": 2, \"linecolor\": \"white\", \"showbackground\": true, \"ticks\": \"\", \"zerolinecolor\": \"white\"}}, \"shapedefaults\": {\"line\": {\"color\": \"#2a3f5f\"}}, \"ternary\": {\"aaxis\": {\"gridcolor\": \"white\", \"linecolor\": \"white\", \"ticks\": \"\"}, \"baxis\": {\"gridcolor\": \"white\", \"linecolor\": \"white\", \"ticks\": \"\"}, \"bgcolor\": \"#E5ECF6\", \"caxis\": {\"gridcolor\": \"white\", \"linecolor\": \"white\", \"ticks\": \"\"}}, \"title\": {\"x\": 0.05}, \"xaxis\": {\"automargin\": true, \"gridcolor\": \"white\", \"linecolor\": \"white\", \"ticks\": \"\", \"title\": {\"standoff\": 15}, \"zerolinecolor\": \"white\", \"zerolinewidth\": 2}, \"yaxis\": {\"automargin\": true, \"gridcolor\": \"white\", \"linecolor\": \"white\", \"ticks\": \"\", \"title\": {\"standoff\": 15}, \"zerolinecolor\": \"white\", \"zerolinewidth\": 2}}}, \"title\": {\"text\": \"Cases as of 26 April\"}, \"xaxis\": {\"anchor\": \"y\", \"categoryarray\": [\"Andaman and Nicobar Islands\", \"Andhra Pradesh\", \"Arunachal Pradesh\", \"Assam\", \"Bihar\", \"Chandigarh\", \"Chhattisgarh\", \"Delhi\", \"Goa\", \"Gujarat\", \"Haryana\", \"Himachal Pradesh\", \"Jammu and Kashmir\", \"Jharkhand\", \"Karnataka\", \"Kerala\", \"Ladakh\", \"Madhya Pradesh\", \"Maharashtra\", \"Manipur\", \"Meghalaya\", \"Mizoram\", \"Odisha\", \"Puducherry\", \"Punjab\", \"Rajasthan\", \"Tamil Nadu\", \"Telengana\", \"Tripura\", \"Uttarakhand\", \"Uttar Pradesh\", \"West Bengal\"], \"categoryorder\": \"array\", \"domain\": [0.0, 1.0], \"title\": {\"text\": \"State/UnionTerritory\"}}, \"yaxis\": {\"anchor\": \"x\", \"domain\": [0.0, 1.0], \"title\": {\"text\": \"Confirmed\"}}},\n",
       "                        {\"responsive\": true}\n",
       "                    ).then(function(){\n",
       "                            \n",
       "var gd = document.getElementById('3bb1be9e-c8c2-45a2-9c72-9e103cb46137');\n",
       "var x = new MutationObserver(function (mutations, observer) {{\n",
       "        var display = window.getComputedStyle(gd).display;\n",
       "        if (!display || display === 'none') {{\n",
       "            console.log([gd, 'removed!']);\n",
       "            Plotly.purge(gd);\n",
       "            observer.disconnect();\n",
       "        }}\n",
       "}});\n",
       "\n",
       "// Listen for the removal of the full notebook cells\n",
       "var notebookContainer = gd.closest('#notebook-container');\n",
       "if (notebookContainer) {{\n",
       "    x.observe(notebookContainer, {childList: true});\n",
       "}}\n",
       "\n",
       "// Listen for the clearing of the current output cell\n",
       "var outputEl = gd.closest('.output');\n",
       "if (outputEl) {{\n",
       "    x.observe(outputEl, {childList: true});\n",
       "}}\n",
       "\n",
       "                        })\n",
       "                };\n",
       "                });\n",
       "            </script>\n",
       "        </div>"
      ]
     },
     "metadata": {},
     "output_type": "display_data"
    }
   ],
   "source": [
    "fig.show()"
   ]
  },
  {
   "cell_type": "code",
   "execution_count": 25,
   "metadata": {},
   "outputs": [
    {
     "data": {
      "application/vnd.plotly.v1+json": {
       "config": {
        "plotlyServerURL": "https://plot.ly"
       },
       "data": [
        {
         "domain": {
          "x": [
           0,
           1
          ],
          "y": [
           0,
           1
          ]
         },
         "hoverlabel": {
          "namelength": 0
         },
         "hovertemplate": "State/UnionTerritory=%{label}<br>Confirmed=%{value}",
         "labels": [
          "Andaman and Nicobar Islands",
          "Andhra Pradesh",
          "Arunachal Pradesh",
          "Assam",
          "Bihar",
          "Chandigarh",
          "Chhattisgarh",
          "Delhi",
          "Goa",
          "Gujarat",
          "Haryana",
          "Himachal Pradesh",
          "Jammu and Kashmir",
          "Jharkhand",
          "Karnataka",
          "Kerala",
          "Ladakh",
          "Madhya Pradesh",
          "Maharashtra",
          "Manipur",
          "Meghalaya",
          "Mizoram",
          "Odisha",
          "Puducherry",
          "Punjab",
          "Rajasthan",
          "Tamil Nadu",
          "Telengana",
          "Tripura",
          "Uttarakhand",
          "Uttar Pradesh",
          "West Bengal"
         ],
         "legendgroup": "",
         "name": "",
         "showlegend": true,
         "type": "pie",
         "values": [
          33,
          1097,
          1,
          36,
          251,
          30,
          37,
          2625,
          7,
          3071,
          289,
          40,
          494,
          67,
          501,
          458,
          20,
          2096,
          7628,
          2,
          12,
          1,
          103,
          7,
          298,
          2083,
          1821,
          991,
          2,
          50,
          1843,
          611
         ]
        }
       ],
       "layout": {
        "legend": {
         "tracegroupgap": 0
        },
        "piecolorway": [
         "rgb(103,0,31)",
         "rgb(178,24,43)",
         "rgb(214,96,77)",
         "rgb(244,165,130)",
         "rgb(253,219,199)",
         "rgb(247,247,247)",
         "rgb(209,229,240)",
         "rgb(146,197,222)",
         "rgb(67,147,195)",
         "rgb(33,102,172)",
         "rgb(5,48,97)"
        ],
        "template": {
         "data": {
          "bar": [
           {
            "error_x": {
             "color": "#2a3f5f"
            },
            "error_y": {
             "color": "#2a3f5f"
            },
            "marker": {
             "line": {
              "color": "#E5ECF6",
              "width": 0.5
             }
            },
            "type": "bar"
           }
          ],
          "barpolar": [
           {
            "marker": {
             "line": {
              "color": "#E5ECF6",
              "width": 0.5
             }
            },
            "type": "barpolar"
           }
          ],
          "carpet": [
           {
            "aaxis": {
             "endlinecolor": "#2a3f5f",
             "gridcolor": "white",
             "linecolor": "white",
             "minorgridcolor": "white",
             "startlinecolor": "#2a3f5f"
            },
            "baxis": {
             "endlinecolor": "#2a3f5f",
             "gridcolor": "white",
             "linecolor": "white",
             "minorgridcolor": "white",
             "startlinecolor": "#2a3f5f"
            },
            "type": "carpet"
           }
          ],
          "choropleth": [
           {
            "colorbar": {
             "outlinewidth": 0,
             "ticks": ""
            },
            "type": "choropleth"
           }
          ],
          "contour": [
           {
            "colorbar": {
             "outlinewidth": 0,
             "ticks": ""
            },
            "colorscale": [
             [
              0,
              "#0d0887"
             ],
             [
              0.1111111111111111,
              "#46039f"
             ],
             [
              0.2222222222222222,
              "#7201a8"
             ],
             [
              0.3333333333333333,
              "#9c179e"
             ],
             [
              0.4444444444444444,
              "#bd3786"
             ],
             [
              0.5555555555555556,
              "#d8576b"
             ],
             [
              0.6666666666666666,
              "#ed7953"
             ],
             [
              0.7777777777777778,
              "#fb9f3a"
             ],
             [
              0.8888888888888888,
              "#fdca26"
             ],
             [
              1,
              "#f0f921"
             ]
            ],
            "type": "contour"
           }
          ],
          "contourcarpet": [
           {
            "colorbar": {
             "outlinewidth": 0,
             "ticks": ""
            },
            "type": "contourcarpet"
           }
          ],
          "heatmap": [
           {
            "colorbar": {
             "outlinewidth": 0,
             "ticks": ""
            },
            "colorscale": [
             [
              0,
              "#0d0887"
             ],
             [
              0.1111111111111111,
              "#46039f"
             ],
             [
              0.2222222222222222,
              "#7201a8"
             ],
             [
              0.3333333333333333,
              "#9c179e"
             ],
             [
              0.4444444444444444,
              "#bd3786"
             ],
             [
              0.5555555555555556,
              "#d8576b"
             ],
             [
              0.6666666666666666,
              "#ed7953"
             ],
             [
              0.7777777777777778,
              "#fb9f3a"
             ],
             [
              0.8888888888888888,
              "#fdca26"
             ],
             [
              1,
              "#f0f921"
             ]
            ],
            "type": "heatmap"
           }
          ],
          "heatmapgl": [
           {
            "colorbar": {
             "outlinewidth": 0,
             "ticks": ""
            },
            "colorscale": [
             [
              0,
              "#0d0887"
             ],
             [
              0.1111111111111111,
              "#46039f"
             ],
             [
              0.2222222222222222,
              "#7201a8"
             ],
             [
              0.3333333333333333,
              "#9c179e"
             ],
             [
              0.4444444444444444,
              "#bd3786"
             ],
             [
              0.5555555555555556,
              "#d8576b"
             ],
             [
              0.6666666666666666,
              "#ed7953"
             ],
             [
              0.7777777777777778,
              "#fb9f3a"
             ],
             [
              0.8888888888888888,
              "#fdca26"
             ],
             [
              1,
              "#f0f921"
             ]
            ],
            "type": "heatmapgl"
           }
          ],
          "histogram": [
           {
            "marker": {
             "colorbar": {
              "outlinewidth": 0,
              "ticks": ""
             }
            },
            "type": "histogram"
           }
          ],
          "histogram2d": [
           {
            "colorbar": {
             "outlinewidth": 0,
             "ticks": ""
            },
            "colorscale": [
             [
              0,
              "#0d0887"
             ],
             [
              0.1111111111111111,
              "#46039f"
             ],
             [
              0.2222222222222222,
              "#7201a8"
             ],
             [
              0.3333333333333333,
              "#9c179e"
             ],
             [
              0.4444444444444444,
              "#bd3786"
             ],
             [
              0.5555555555555556,
              "#d8576b"
             ],
             [
              0.6666666666666666,
              "#ed7953"
             ],
             [
              0.7777777777777778,
              "#fb9f3a"
             ],
             [
              0.8888888888888888,
              "#fdca26"
             ],
             [
              1,
              "#f0f921"
             ]
            ],
            "type": "histogram2d"
           }
          ],
          "histogram2dcontour": [
           {
            "colorbar": {
             "outlinewidth": 0,
             "ticks": ""
            },
            "colorscale": [
             [
              0,
              "#0d0887"
             ],
             [
              0.1111111111111111,
              "#46039f"
             ],
             [
              0.2222222222222222,
              "#7201a8"
             ],
             [
              0.3333333333333333,
              "#9c179e"
             ],
             [
              0.4444444444444444,
              "#bd3786"
             ],
             [
              0.5555555555555556,
              "#d8576b"
             ],
             [
              0.6666666666666666,
              "#ed7953"
             ],
             [
              0.7777777777777778,
              "#fb9f3a"
             ],
             [
              0.8888888888888888,
              "#fdca26"
             ],
             [
              1,
              "#f0f921"
             ]
            ],
            "type": "histogram2dcontour"
           }
          ],
          "mesh3d": [
           {
            "colorbar": {
             "outlinewidth": 0,
             "ticks": ""
            },
            "type": "mesh3d"
           }
          ],
          "parcoords": [
           {
            "line": {
             "colorbar": {
              "outlinewidth": 0,
              "ticks": ""
             }
            },
            "type": "parcoords"
           }
          ],
          "pie": [
           {
            "automargin": true,
            "type": "pie"
           }
          ],
          "scatter": [
           {
            "marker": {
             "colorbar": {
              "outlinewidth": 0,
              "ticks": ""
             }
            },
            "type": "scatter"
           }
          ],
          "scatter3d": [
           {
            "line": {
             "colorbar": {
              "outlinewidth": 0,
              "ticks": ""
             }
            },
            "marker": {
             "colorbar": {
              "outlinewidth": 0,
              "ticks": ""
             }
            },
            "type": "scatter3d"
           }
          ],
          "scattercarpet": [
           {
            "marker": {
             "colorbar": {
              "outlinewidth": 0,
              "ticks": ""
             }
            },
            "type": "scattercarpet"
           }
          ],
          "scattergeo": [
           {
            "marker": {
             "colorbar": {
              "outlinewidth": 0,
              "ticks": ""
             }
            },
            "type": "scattergeo"
           }
          ],
          "scattergl": [
           {
            "marker": {
             "colorbar": {
              "outlinewidth": 0,
              "ticks": ""
             }
            },
            "type": "scattergl"
           }
          ],
          "scattermapbox": [
           {
            "marker": {
             "colorbar": {
              "outlinewidth": 0,
              "ticks": ""
             }
            },
            "type": "scattermapbox"
           }
          ],
          "scatterpolar": [
           {
            "marker": {
             "colorbar": {
              "outlinewidth": 0,
              "ticks": ""
             }
            },
            "type": "scatterpolar"
           }
          ],
          "scatterpolargl": [
           {
            "marker": {
             "colorbar": {
              "outlinewidth": 0,
              "ticks": ""
             }
            },
            "type": "scatterpolargl"
           }
          ],
          "scatterternary": [
           {
            "marker": {
             "colorbar": {
              "outlinewidth": 0,
              "ticks": ""
             }
            },
            "type": "scatterternary"
           }
          ],
          "surface": [
           {
            "colorbar": {
             "outlinewidth": 0,
             "ticks": ""
            },
            "colorscale": [
             [
              0,
              "#0d0887"
             ],
             [
              0.1111111111111111,
              "#46039f"
             ],
             [
              0.2222222222222222,
              "#7201a8"
             ],
             [
              0.3333333333333333,
              "#9c179e"
             ],
             [
              0.4444444444444444,
              "#bd3786"
             ],
             [
              0.5555555555555556,
              "#d8576b"
             ],
             [
              0.6666666666666666,
              "#ed7953"
             ],
             [
              0.7777777777777778,
              "#fb9f3a"
             ],
             [
              0.8888888888888888,
              "#fdca26"
             ],
             [
              1,
              "#f0f921"
             ]
            ],
            "type": "surface"
           }
          ],
          "table": [
           {
            "cells": {
             "fill": {
              "color": "#EBF0F8"
             },
             "line": {
              "color": "white"
             }
            },
            "header": {
             "fill": {
              "color": "#C8D4E3"
             },
             "line": {
              "color": "white"
             }
            },
            "type": "table"
           }
          ]
         },
         "layout": {
          "annotationdefaults": {
           "arrowcolor": "#2a3f5f",
           "arrowhead": 0,
           "arrowwidth": 1
          },
          "coloraxis": {
           "colorbar": {
            "outlinewidth": 0,
            "ticks": ""
           }
          },
          "colorscale": {
           "diverging": [
            [
             0,
             "#8e0152"
            ],
            [
             0.1,
             "#c51b7d"
            ],
            [
             0.2,
             "#de77ae"
            ],
            [
             0.3,
             "#f1b6da"
            ],
            [
             0.4,
             "#fde0ef"
            ],
            [
             0.5,
             "#f7f7f7"
            ],
            [
             0.6,
             "#e6f5d0"
            ],
            [
             0.7,
             "#b8e186"
            ],
            [
             0.8,
             "#7fbc41"
            ],
            [
             0.9,
             "#4d9221"
            ],
            [
             1,
             "#276419"
            ]
           ],
           "sequential": [
            [
             0,
             "#0d0887"
            ],
            [
             0.1111111111111111,
             "#46039f"
            ],
            [
             0.2222222222222222,
             "#7201a8"
            ],
            [
             0.3333333333333333,
             "#9c179e"
            ],
            [
             0.4444444444444444,
             "#bd3786"
            ],
            [
             0.5555555555555556,
             "#d8576b"
            ],
            [
             0.6666666666666666,
             "#ed7953"
            ],
            [
             0.7777777777777778,
             "#fb9f3a"
            ],
            [
             0.8888888888888888,
             "#fdca26"
            ],
            [
             1,
             "#f0f921"
            ]
           ],
           "sequentialminus": [
            [
             0,
             "#0d0887"
            ],
            [
             0.1111111111111111,
             "#46039f"
            ],
            [
             0.2222222222222222,
             "#7201a8"
            ],
            [
             0.3333333333333333,
             "#9c179e"
            ],
            [
             0.4444444444444444,
             "#bd3786"
            ],
            [
             0.5555555555555556,
             "#d8576b"
            ],
            [
             0.6666666666666666,
             "#ed7953"
            ],
            [
             0.7777777777777778,
             "#fb9f3a"
            ],
            [
             0.8888888888888888,
             "#fdca26"
            ],
            [
             1,
             "#f0f921"
            ]
           ]
          },
          "colorway": [
           "#636efa",
           "#EF553B",
           "#00cc96",
           "#ab63fa",
           "#FFA15A",
           "#19d3f3",
           "#FF6692",
           "#B6E880",
           "#FF97FF",
           "#FECB52"
          ],
          "font": {
           "color": "#2a3f5f"
          },
          "geo": {
           "bgcolor": "white",
           "lakecolor": "white",
           "landcolor": "#E5ECF6",
           "showlakes": true,
           "showland": true,
           "subunitcolor": "white"
          },
          "hoverlabel": {
           "align": "left"
          },
          "hovermode": "closest",
          "mapbox": {
           "style": "light"
          },
          "paper_bgcolor": "white",
          "plot_bgcolor": "#E5ECF6",
          "polar": {
           "angularaxis": {
            "gridcolor": "white",
            "linecolor": "white",
            "ticks": ""
           },
           "bgcolor": "#E5ECF6",
           "radialaxis": {
            "gridcolor": "white",
            "linecolor": "white",
            "ticks": ""
           }
          },
          "scene": {
           "xaxis": {
            "backgroundcolor": "#E5ECF6",
            "gridcolor": "white",
            "gridwidth": 2,
            "linecolor": "white",
            "showbackground": true,
            "ticks": "",
            "zerolinecolor": "white"
           },
           "yaxis": {
            "backgroundcolor": "#E5ECF6",
            "gridcolor": "white",
            "gridwidth": 2,
            "linecolor": "white",
            "showbackground": true,
            "ticks": "",
            "zerolinecolor": "white"
           },
           "zaxis": {
            "backgroundcolor": "#E5ECF6",
            "gridcolor": "white",
            "gridwidth": 2,
            "linecolor": "white",
            "showbackground": true,
            "ticks": "",
            "zerolinecolor": "white"
           }
          },
          "shapedefaults": {
           "line": {
            "color": "#2a3f5f"
           }
          },
          "ternary": {
           "aaxis": {
            "gridcolor": "white",
            "linecolor": "white",
            "ticks": ""
           },
           "baxis": {
            "gridcolor": "white",
            "linecolor": "white",
            "ticks": ""
           },
           "bgcolor": "#E5ECF6",
           "caxis": {
            "gridcolor": "white",
            "linecolor": "white",
            "ticks": ""
           }
          },
          "title": {
           "x": 0.05
          },
          "xaxis": {
           "automargin": true,
           "gridcolor": "white",
           "linecolor": "white",
           "ticks": "",
           "title": {
            "standoff": 15
           },
           "zerolinecolor": "white",
           "zerolinewidth": 2
          },
          "yaxis": {
           "automargin": true,
           "gridcolor": "white",
           "linecolor": "white",
           "ticks": "",
           "title": {
            "standoff": 15
           },
           "zerolinecolor": "white",
           "zerolinewidth": 2
          }
         }
        },
        "title": {
         "text": "Cases as of 26 April"
        }
       }
      },
      "text/html": [
       "<div>\n",
       "        \n",
       "        \n",
       "            <div id=\"5ca8f3ec-767b-4747-a786-325100de4ef2\" class=\"plotly-graph-div\" style=\"height:525px; width:100%;\"></div>\n",
       "            <script type=\"text/javascript\">\n",
       "                require([\"plotly\"], function(Plotly) {\n",
       "                    window.PLOTLYENV=window.PLOTLYENV || {};\n",
       "                    \n",
       "                if (document.getElementById(\"5ca8f3ec-767b-4747-a786-325100de4ef2\")) {\n",
       "                    Plotly.newPlot(\n",
       "                        '5ca8f3ec-767b-4747-a786-325100de4ef2',\n",
       "                        [{\"domain\": {\"x\": [0.0, 1.0], \"y\": [0.0, 1.0]}, \"hoverlabel\": {\"namelength\": 0}, \"hovertemplate\": \"State/UnionTerritory=%{label}<br>Confirmed=%{value}\", \"labels\": [\"Andaman and Nicobar Islands\", \"Andhra Pradesh\", \"Arunachal Pradesh\", \"Assam\", \"Bihar\", \"Chandigarh\", \"Chhattisgarh\", \"Delhi\", \"Goa\", \"Gujarat\", \"Haryana\", \"Himachal Pradesh\", \"Jammu and Kashmir\", \"Jharkhand\", \"Karnataka\", \"Kerala\", \"Ladakh\", \"Madhya Pradesh\", \"Maharashtra\", \"Manipur\", \"Meghalaya\", \"Mizoram\", \"Odisha\", \"Puducherry\", \"Punjab\", \"Rajasthan\", \"Tamil Nadu\", \"Telengana\", \"Tripura\", \"Uttarakhand\", \"Uttar Pradesh\", \"West Bengal\"], \"legendgroup\": \"\", \"name\": \"\", \"showlegend\": true, \"type\": \"pie\", \"values\": [33, 1097, 1, 36, 251, 30, 37, 2625, 7, 3071, 289, 40, 494, 67, 501, 458, 20, 2096, 7628, 2, 12, 1, 103, 7, 298, 2083, 1821, 991, 2, 50, 1843, 611]}],\n",
       "                        {\"legend\": {\"tracegroupgap\": 0}, \"piecolorway\": [\"rgb(103,0,31)\", \"rgb(178,24,43)\", \"rgb(214,96,77)\", \"rgb(244,165,130)\", \"rgb(253,219,199)\", \"rgb(247,247,247)\", \"rgb(209,229,240)\", \"rgb(146,197,222)\", \"rgb(67,147,195)\", \"rgb(33,102,172)\", \"rgb(5,48,97)\"], \"template\": {\"data\": {\"bar\": [{\"error_x\": {\"color\": \"#2a3f5f\"}, \"error_y\": {\"color\": \"#2a3f5f\"}, \"marker\": {\"line\": {\"color\": \"#E5ECF6\", \"width\": 0.5}}, \"type\": \"bar\"}], \"barpolar\": [{\"marker\": {\"line\": {\"color\": \"#E5ECF6\", \"width\": 0.5}}, \"type\": \"barpolar\"}], \"carpet\": [{\"aaxis\": {\"endlinecolor\": \"#2a3f5f\", \"gridcolor\": \"white\", \"linecolor\": \"white\", \"minorgridcolor\": \"white\", \"startlinecolor\": \"#2a3f5f\"}, \"baxis\": {\"endlinecolor\": \"#2a3f5f\", \"gridcolor\": \"white\", \"linecolor\": \"white\", \"minorgridcolor\": \"white\", \"startlinecolor\": \"#2a3f5f\"}, \"type\": \"carpet\"}], \"choropleth\": [{\"colorbar\": {\"outlinewidth\": 0, \"ticks\": \"\"}, \"type\": \"choropleth\"}], \"contour\": [{\"colorbar\": {\"outlinewidth\": 0, \"ticks\": \"\"}, \"colorscale\": [[0.0, \"#0d0887\"], [0.1111111111111111, \"#46039f\"], [0.2222222222222222, \"#7201a8\"], [0.3333333333333333, \"#9c179e\"], [0.4444444444444444, \"#bd3786\"], [0.5555555555555556, \"#d8576b\"], [0.6666666666666666, \"#ed7953\"], [0.7777777777777778, \"#fb9f3a\"], [0.8888888888888888, \"#fdca26\"], [1.0, \"#f0f921\"]], \"type\": \"contour\"}], \"contourcarpet\": [{\"colorbar\": {\"outlinewidth\": 0, \"ticks\": \"\"}, \"type\": \"contourcarpet\"}], \"heatmap\": [{\"colorbar\": {\"outlinewidth\": 0, \"ticks\": \"\"}, \"colorscale\": [[0.0, \"#0d0887\"], [0.1111111111111111, \"#46039f\"], [0.2222222222222222, \"#7201a8\"], [0.3333333333333333, \"#9c179e\"], [0.4444444444444444, \"#bd3786\"], [0.5555555555555556, \"#d8576b\"], [0.6666666666666666, \"#ed7953\"], [0.7777777777777778, \"#fb9f3a\"], [0.8888888888888888, \"#fdca26\"], [1.0, \"#f0f921\"]], \"type\": \"heatmap\"}], \"heatmapgl\": [{\"colorbar\": {\"outlinewidth\": 0, \"ticks\": \"\"}, \"colorscale\": [[0.0, \"#0d0887\"], [0.1111111111111111, \"#46039f\"], [0.2222222222222222, \"#7201a8\"], [0.3333333333333333, \"#9c179e\"], [0.4444444444444444, \"#bd3786\"], [0.5555555555555556, \"#d8576b\"], [0.6666666666666666, \"#ed7953\"], [0.7777777777777778, \"#fb9f3a\"], [0.8888888888888888, \"#fdca26\"], [1.0, \"#f0f921\"]], \"type\": \"heatmapgl\"}], \"histogram\": [{\"marker\": {\"colorbar\": {\"outlinewidth\": 0, \"ticks\": \"\"}}, \"type\": \"histogram\"}], \"histogram2d\": [{\"colorbar\": {\"outlinewidth\": 0, \"ticks\": \"\"}, \"colorscale\": [[0.0, \"#0d0887\"], [0.1111111111111111, \"#46039f\"], [0.2222222222222222, \"#7201a8\"], [0.3333333333333333, \"#9c179e\"], [0.4444444444444444, \"#bd3786\"], [0.5555555555555556, \"#d8576b\"], [0.6666666666666666, \"#ed7953\"], [0.7777777777777778, \"#fb9f3a\"], [0.8888888888888888, \"#fdca26\"], [1.0, \"#f0f921\"]], \"type\": \"histogram2d\"}], \"histogram2dcontour\": [{\"colorbar\": {\"outlinewidth\": 0, \"ticks\": \"\"}, \"colorscale\": [[0.0, \"#0d0887\"], [0.1111111111111111, \"#46039f\"], [0.2222222222222222, \"#7201a8\"], [0.3333333333333333, \"#9c179e\"], [0.4444444444444444, \"#bd3786\"], [0.5555555555555556, \"#d8576b\"], [0.6666666666666666, \"#ed7953\"], [0.7777777777777778, \"#fb9f3a\"], [0.8888888888888888, \"#fdca26\"], [1.0, \"#f0f921\"]], \"type\": \"histogram2dcontour\"}], \"mesh3d\": [{\"colorbar\": {\"outlinewidth\": 0, \"ticks\": \"\"}, \"type\": \"mesh3d\"}], \"parcoords\": [{\"line\": {\"colorbar\": {\"outlinewidth\": 0, \"ticks\": \"\"}}, \"type\": \"parcoords\"}], \"pie\": [{\"automargin\": true, \"type\": \"pie\"}], \"scatter\": [{\"marker\": {\"colorbar\": {\"outlinewidth\": 0, \"ticks\": \"\"}}, \"type\": \"scatter\"}], \"scatter3d\": [{\"line\": {\"colorbar\": {\"outlinewidth\": 0, \"ticks\": \"\"}}, \"marker\": {\"colorbar\": {\"outlinewidth\": 0, \"ticks\": \"\"}}, \"type\": \"scatter3d\"}], \"scattercarpet\": [{\"marker\": {\"colorbar\": {\"outlinewidth\": 0, \"ticks\": \"\"}}, \"type\": \"scattercarpet\"}], \"scattergeo\": [{\"marker\": {\"colorbar\": {\"outlinewidth\": 0, \"ticks\": \"\"}}, \"type\": \"scattergeo\"}], \"scattergl\": [{\"marker\": {\"colorbar\": {\"outlinewidth\": 0, \"ticks\": \"\"}}, \"type\": \"scattergl\"}], \"scattermapbox\": [{\"marker\": {\"colorbar\": {\"outlinewidth\": 0, \"ticks\": \"\"}}, \"type\": \"scattermapbox\"}], \"scatterpolar\": [{\"marker\": {\"colorbar\": {\"outlinewidth\": 0, \"ticks\": \"\"}}, \"type\": \"scatterpolar\"}], \"scatterpolargl\": [{\"marker\": {\"colorbar\": {\"outlinewidth\": 0, \"ticks\": \"\"}}, \"type\": \"scatterpolargl\"}], \"scatterternary\": [{\"marker\": {\"colorbar\": {\"outlinewidth\": 0, \"ticks\": \"\"}}, \"type\": \"scatterternary\"}], \"surface\": [{\"colorbar\": {\"outlinewidth\": 0, \"ticks\": \"\"}, \"colorscale\": [[0.0, \"#0d0887\"], [0.1111111111111111, \"#46039f\"], [0.2222222222222222, \"#7201a8\"], [0.3333333333333333, \"#9c179e\"], [0.4444444444444444, \"#bd3786\"], [0.5555555555555556, \"#d8576b\"], [0.6666666666666666, \"#ed7953\"], [0.7777777777777778, \"#fb9f3a\"], [0.8888888888888888, \"#fdca26\"], [1.0, \"#f0f921\"]], \"type\": \"surface\"}], \"table\": [{\"cells\": {\"fill\": {\"color\": \"#EBF0F8\"}, \"line\": {\"color\": \"white\"}}, \"header\": {\"fill\": {\"color\": \"#C8D4E3\"}, \"line\": {\"color\": \"white\"}}, \"type\": \"table\"}]}, \"layout\": {\"annotationdefaults\": {\"arrowcolor\": \"#2a3f5f\", \"arrowhead\": 0, \"arrowwidth\": 1}, \"coloraxis\": {\"colorbar\": {\"outlinewidth\": 0, \"ticks\": \"\"}}, \"colorscale\": {\"diverging\": [[0, \"#8e0152\"], [0.1, \"#c51b7d\"], [0.2, \"#de77ae\"], [0.3, \"#f1b6da\"], [0.4, \"#fde0ef\"], [0.5, \"#f7f7f7\"], [0.6, \"#e6f5d0\"], [0.7, \"#b8e186\"], [0.8, \"#7fbc41\"], [0.9, \"#4d9221\"], [1, \"#276419\"]], \"sequential\": [[0.0, \"#0d0887\"], [0.1111111111111111, \"#46039f\"], [0.2222222222222222, \"#7201a8\"], [0.3333333333333333, \"#9c179e\"], [0.4444444444444444, \"#bd3786\"], [0.5555555555555556, \"#d8576b\"], [0.6666666666666666, \"#ed7953\"], [0.7777777777777778, \"#fb9f3a\"], [0.8888888888888888, \"#fdca26\"], [1.0, \"#f0f921\"]], \"sequentialminus\": [[0.0, \"#0d0887\"], [0.1111111111111111, \"#46039f\"], [0.2222222222222222, \"#7201a8\"], [0.3333333333333333, \"#9c179e\"], [0.4444444444444444, \"#bd3786\"], [0.5555555555555556, \"#d8576b\"], [0.6666666666666666, \"#ed7953\"], [0.7777777777777778, \"#fb9f3a\"], [0.8888888888888888, \"#fdca26\"], [1.0, \"#f0f921\"]]}, \"colorway\": [\"#636efa\", \"#EF553B\", \"#00cc96\", \"#ab63fa\", \"#FFA15A\", \"#19d3f3\", \"#FF6692\", \"#B6E880\", \"#FF97FF\", \"#FECB52\"], \"font\": {\"color\": \"#2a3f5f\"}, \"geo\": {\"bgcolor\": \"white\", \"lakecolor\": \"white\", \"landcolor\": \"#E5ECF6\", \"showlakes\": true, \"showland\": true, \"subunitcolor\": \"white\"}, \"hoverlabel\": {\"align\": \"left\"}, \"hovermode\": \"closest\", \"mapbox\": {\"style\": \"light\"}, \"paper_bgcolor\": \"white\", \"plot_bgcolor\": \"#E5ECF6\", \"polar\": {\"angularaxis\": {\"gridcolor\": \"white\", \"linecolor\": \"white\", \"ticks\": \"\"}, \"bgcolor\": \"#E5ECF6\", \"radialaxis\": {\"gridcolor\": \"white\", \"linecolor\": \"white\", \"ticks\": \"\"}}, \"scene\": {\"xaxis\": {\"backgroundcolor\": \"#E5ECF6\", \"gridcolor\": \"white\", \"gridwidth\": 2, \"linecolor\": \"white\", \"showbackground\": true, \"ticks\": \"\", \"zerolinecolor\": \"white\"}, \"yaxis\": {\"backgroundcolor\": \"#E5ECF6\", \"gridcolor\": \"white\", \"gridwidth\": 2, \"linecolor\": \"white\", \"showbackground\": true, \"ticks\": \"\", \"zerolinecolor\": \"white\"}, \"zaxis\": {\"backgroundcolor\": \"#E5ECF6\", \"gridcolor\": \"white\", \"gridwidth\": 2, \"linecolor\": \"white\", \"showbackground\": true, \"ticks\": \"\", \"zerolinecolor\": \"white\"}}, \"shapedefaults\": {\"line\": {\"color\": \"#2a3f5f\"}}, \"ternary\": {\"aaxis\": {\"gridcolor\": \"white\", \"linecolor\": \"white\", \"ticks\": \"\"}, \"baxis\": {\"gridcolor\": \"white\", \"linecolor\": \"white\", \"ticks\": \"\"}, \"bgcolor\": \"#E5ECF6\", \"caxis\": {\"gridcolor\": \"white\", \"linecolor\": \"white\", \"ticks\": \"\"}}, \"title\": {\"x\": 0.05}, \"xaxis\": {\"automargin\": true, \"gridcolor\": \"white\", \"linecolor\": \"white\", \"ticks\": \"\", \"title\": {\"standoff\": 15}, \"zerolinecolor\": \"white\", \"zerolinewidth\": 2}, \"yaxis\": {\"automargin\": true, \"gridcolor\": \"white\", \"linecolor\": \"white\", \"ticks\": \"\", \"title\": {\"standoff\": 15}, \"zerolinecolor\": \"white\", \"zerolinewidth\": 2}}}, \"title\": {\"text\": \"Cases as of 26 April\"}},\n",
       "                        {\"responsive\": true}\n",
       "                    ).then(function(){\n",
       "                            \n",
       "var gd = document.getElementById('5ca8f3ec-767b-4747-a786-325100de4ef2');\n",
       "var x = new MutationObserver(function (mutations, observer) {{\n",
       "        var display = window.getComputedStyle(gd).display;\n",
       "        if (!display || display === 'none') {{\n",
       "            console.log([gd, 'removed!']);\n",
       "            Plotly.purge(gd);\n",
       "            observer.disconnect();\n",
       "        }}\n",
       "}});\n",
       "\n",
       "// Listen for the removal of the full notebook cells\n",
       "var notebookContainer = gd.closest('#notebook-container');\n",
       "if (notebookContainer) {{\n",
       "    x.observe(notebookContainer, {childList: true});\n",
       "}}\n",
       "\n",
       "// Listen for the clearing of the current output cell\n",
       "var outputEl = gd.closest('.output');\n",
       "if (outputEl) {{\n",
       "    x.observe(outputEl, {childList: true});\n",
       "}}\n",
       "\n",
       "                        })\n",
       "                };\n",
       "                });\n",
       "            </script>\n",
       "        </div>"
      ]
     },
     "metadata": {},
     "output_type": "display_data"
    }
   ],
   "source": [
    "fig = px.pie(df_train[df_train['Date']=='26/04/20'], values='Confirmed', names='State/UnionTerritory',color_discrete_sequence=px.colors.sequential.RdBu,title='Cases as of 26 April')\n",
    "fig.show()"
   ]
  },
  {
   "cell_type": "code",
   "execution_count": 31,
   "metadata": {},
   "outputs": [
    {
     "data": {
      "application/vnd.plotly.v1+json": {
       "config": {
        "plotlyServerURL": "https://plot.ly"
       },
       "data": [
        {
         "alignmentgroup": "True",
         "hoverlabel": {
          "namelength": 0
         },
         "hovertemplate": "State/UnionTerritory=%{x}<br>Deaths=%{y}",
         "legendgroup": "Andaman and Nicobar Islands",
         "marker": {
          "color": "#636efa"
         },
         "name": "Andaman and Nicobar Islands",
         "offsetgroup": "Andaman and Nicobar Islands",
         "orientation": "v",
         "showlegend": true,
         "textposition": "auto",
         "type": "bar",
         "x": [
          "Andaman and Nicobar Islands"
         ],
         "xaxis": "x",
         "y": [
          0
         ],
         "yaxis": "y"
        },
        {
         "alignmentgroup": "True",
         "hoverlabel": {
          "namelength": 0
         },
         "hovertemplate": "State/UnionTerritory=%{x}<br>Deaths=%{y}",
         "legendgroup": "Andhra Pradesh",
         "marker": {
          "color": "#EF553B"
         },
         "name": "Andhra Pradesh",
         "offsetgroup": "Andhra Pradesh",
         "orientation": "v",
         "showlegend": true,
         "textposition": "auto",
         "type": "bar",
         "x": [
          "Andhra Pradesh"
         ],
         "xaxis": "x",
         "y": [
          31
         ],
         "yaxis": "y"
        },
        {
         "alignmentgroup": "True",
         "hoverlabel": {
          "namelength": 0
         },
         "hovertemplate": "State/UnionTerritory=%{x}<br>Deaths=%{y}",
         "legendgroup": "Arunachal Pradesh",
         "marker": {
          "color": "#00cc96"
         },
         "name": "Arunachal Pradesh",
         "offsetgroup": "Arunachal Pradesh",
         "orientation": "v",
         "showlegend": true,
         "textposition": "auto",
         "type": "bar",
         "x": [
          "Arunachal Pradesh"
         ],
         "xaxis": "x",
         "y": [
          0
         ],
         "yaxis": "y"
        },
        {
         "alignmentgroup": "True",
         "hoverlabel": {
          "namelength": 0
         },
         "hovertemplate": "State/UnionTerritory=%{x}<br>Deaths=%{y}",
         "legendgroup": "Assam",
         "marker": {
          "color": "#ab63fa"
         },
         "name": "Assam",
         "offsetgroup": "Assam",
         "orientation": "v",
         "showlegend": true,
         "textposition": "auto",
         "type": "bar",
         "x": [
          "Assam"
         ],
         "xaxis": "x",
         "y": [
          1
         ],
         "yaxis": "y"
        },
        {
         "alignmentgroup": "True",
         "hoverlabel": {
          "namelength": 0
         },
         "hovertemplate": "State/UnionTerritory=%{x}<br>Deaths=%{y}",
         "legendgroup": "Bihar",
         "marker": {
          "color": "#FFA15A"
         },
         "name": "Bihar",
         "offsetgroup": "Bihar",
         "orientation": "v",
         "showlegend": true,
         "textposition": "auto",
         "type": "bar",
         "x": [
          "Bihar"
         ],
         "xaxis": "x",
         "y": [
          2
         ],
         "yaxis": "y"
        },
        {
         "alignmentgroup": "True",
         "hoverlabel": {
          "namelength": 0
         },
         "hovertemplate": "State/UnionTerritory=%{x}<br>Deaths=%{y}",
         "legendgroup": "Chandigarh",
         "marker": {
          "color": "#19d3f3"
         },
         "name": "Chandigarh",
         "offsetgroup": "Chandigarh",
         "orientation": "v",
         "showlegend": true,
         "textposition": "auto",
         "type": "bar",
         "x": [
          "Chandigarh"
         ],
         "xaxis": "x",
         "y": [
          0
         ],
         "yaxis": "y"
        },
        {
         "alignmentgroup": "True",
         "hoverlabel": {
          "namelength": 0
         },
         "hovertemplate": "State/UnionTerritory=%{x}<br>Deaths=%{y}",
         "legendgroup": "Chhattisgarh",
         "marker": {
          "color": "#FF6692"
         },
         "name": "Chhattisgarh",
         "offsetgroup": "Chhattisgarh",
         "orientation": "v",
         "showlegend": true,
         "textposition": "auto",
         "type": "bar",
         "x": [
          "Chhattisgarh"
         ],
         "xaxis": "x",
         "y": [
          0
         ],
         "yaxis": "y"
        },
        {
         "alignmentgroup": "True",
         "hoverlabel": {
          "namelength": 0
         },
         "hovertemplate": "State/UnionTerritory=%{x}<br>Deaths=%{y}",
         "legendgroup": "Delhi",
         "marker": {
          "color": "#B6E880"
         },
         "name": "Delhi",
         "offsetgroup": "Delhi",
         "orientation": "v",
         "showlegend": true,
         "textposition": "auto",
         "type": "bar",
         "x": [
          "Delhi"
         ],
         "xaxis": "x",
         "y": [
          54
         ],
         "yaxis": "y"
        },
        {
         "alignmentgroup": "True",
         "hoverlabel": {
          "namelength": 0
         },
         "hovertemplate": "State/UnionTerritory=%{x}<br>Deaths=%{y}",
         "legendgroup": "Goa",
         "marker": {
          "color": "#FF97FF"
         },
         "name": "Goa",
         "offsetgroup": "Goa",
         "orientation": "v",
         "showlegend": true,
         "textposition": "auto",
         "type": "bar",
         "x": [
          "Goa"
         ],
         "xaxis": "x",
         "y": [
          0
         ],
         "yaxis": "y"
        },
        {
         "alignmentgroup": "True",
         "hoverlabel": {
          "namelength": 0
         },
         "hovertemplate": "State/UnionTerritory=%{x}<br>Deaths=%{y}",
         "legendgroup": "Gujarat",
         "marker": {
          "color": "#FECB52"
         },
         "name": "Gujarat",
         "offsetgroup": "Gujarat",
         "orientation": "v",
         "showlegend": true,
         "textposition": "auto",
         "type": "bar",
         "x": [
          "Gujarat"
         ],
         "xaxis": "x",
         "y": [
          133
         ],
         "yaxis": "y"
        },
        {
         "alignmentgroup": "True",
         "hoverlabel": {
          "namelength": 0
         },
         "hovertemplate": "State/UnionTerritory=%{x}<br>Deaths=%{y}",
         "legendgroup": "Haryana",
         "marker": {
          "color": "#636efa"
         },
         "name": "Haryana",
         "offsetgroup": "Haryana",
         "orientation": "v",
         "showlegend": true,
         "textposition": "auto",
         "type": "bar",
         "x": [
          "Haryana"
         ],
         "xaxis": "x",
         "y": [
          3
         ],
         "yaxis": "y"
        },
        {
         "alignmentgroup": "True",
         "hoverlabel": {
          "namelength": 0
         },
         "hovertemplate": "State/UnionTerritory=%{x}<br>Deaths=%{y}",
         "legendgroup": "Himachal Pradesh",
         "marker": {
          "color": "#EF553B"
         },
         "name": "Himachal Pradesh",
         "offsetgroup": "Himachal Pradesh",
         "orientation": "v",
         "showlegend": true,
         "textposition": "auto",
         "type": "bar",
         "x": [
          "Himachal Pradesh"
         ],
         "xaxis": "x",
         "y": [
          1
         ],
         "yaxis": "y"
        },
        {
         "alignmentgroup": "True",
         "hoverlabel": {
          "namelength": 0
         },
         "hovertemplate": "State/UnionTerritory=%{x}<br>Deaths=%{y}",
         "legendgroup": "Jammu and Kashmir",
         "marker": {
          "color": "#00cc96"
         },
         "name": "Jammu and Kashmir",
         "offsetgroup": "Jammu and Kashmir",
         "orientation": "v",
         "showlegend": true,
         "textposition": "auto",
         "type": "bar",
         "x": [
          "Jammu and Kashmir"
         ],
         "xaxis": "x",
         "y": [
          6
         ],
         "yaxis": "y"
        },
        {
         "alignmentgroup": "True",
         "hoverlabel": {
          "namelength": 0
         },
         "hovertemplate": "State/UnionTerritory=%{x}<br>Deaths=%{y}",
         "legendgroup": "Jharkhand",
         "marker": {
          "color": "#ab63fa"
         },
         "name": "Jharkhand",
         "offsetgroup": "Jharkhand",
         "orientation": "v",
         "showlegend": true,
         "textposition": "auto",
         "type": "bar",
         "x": [
          "Jharkhand"
         ],
         "xaxis": "x",
         "y": [
          3
         ],
         "yaxis": "y"
        },
        {
         "alignmentgroup": "True",
         "hoverlabel": {
          "namelength": 0
         },
         "hovertemplate": "State/UnionTerritory=%{x}<br>Deaths=%{y}",
         "legendgroup": "Karnataka",
         "marker": {
          "color": "#FFA15A"
         },
         "name": "Karnataka",
         "offsetgroup": "Karnataka",
         "orientation": "v",
         "showlegend": true,
         "textposition": "auto",
         "type": "bar",
         "x": [
          "Karnataka"
         ],
         "xaxis": "x",
         "y": [
          18
         ],
         "yaxis": "y"
        },
        {
         "alignmentgroup": "True",
         "hoverlabel": {
          "namelength": 0
         },
         "hovertemplate": "State/UnionTerritory=%{x}<br>Deaths=%{y}",
         "legendgroup": "Kerala",
         "marker": {
          "color": "#19d3f3"
         },
         "name": "Kerala",
         "offsetgroup": "Kerala",
         "orientation": "v",
         "showlegend": true,
         "textposition": "auto",
         "type": "bar",
         "x": [
          "Kerala"
         ],
         "xaxis": "x",
         "y": [
          4
         ],
         "yaxis": "y"
        },
        {
         "alignmentgroup": "True",
         "hoverlabel": {
          "namelength": 0
         },
         "hovertemplate": "State/UnionTerritory=%{x}<br>Deaths=%{y}",
         "legendgroup": "Ladakh",
         "marker": {
          "color": "#FF6692"
         },
         "name": "Ladakh",
         "offsetgroup": "Ladakh",
         "orientation": "v",
         "showlegend": true,
         "textposition": "auto",
         "type": "bar",
         "x": [
          "Ladakh"
         ],
         "xaxis": "x",
         "y": [
          0
         ],
         "yaxis": "y"
        },
        {
         "alignmentgroup": "True",
         "hoverlabel": {
          "namelength": 0
         },
         "hovertemplate": "State/UnionTerritory=%{x}<br>Deaths=%{y}",
         "legendgroup": "Madhya Pradesh",
         "marker": {
          "color": "#B6E880"
         },
         "name": "Madhya Pradesh",
         "offsetgroup": "Madhya Pradesh",
         "orientation": "v",
         "showlegend": true,
         "textposition": "auto",
         "type": "bar",
         "x": [
          "Madhya Pradesh"
         ],
         "xaxis": "x",
         "y": [
          99
         ],
         "yaxis": "y"
        },
        {
         "alignmentgroup": "True",
         "hoverlabel": {
          "namelength": 0
         },
         "hovertemplate": "State/UnionTerritory=%{x}<br>Deaths=%{y}",
         "legendgroup": "Maharashtra",
         "marker": {
          "color": "#FF97FF"
         },
         "name": "Maharashtra",
         "offsetgroup": "Maharashtra",
         "orientation": "v",
         "showlegend": true,
         "textposition": "auto",
         "type": "bar",
         "x": [
          "Maharashtra"
         ],
         "xaxis": "x",
         "y": [
          323
         ],
         "yaxis": "y"
        },
        {
         "alignmentgroup": "True",
         "hoverlabel": {
          "namelength": 0
         },
         "hovertemplate": "State/UnionTerritory=%{x}<br>Deaths=%{y}",
         "legendgroup": "Manipur",
         "marker": {
          "color": "#FECB52"
         },
         "name": "Manipur",
         "offsetgroup": "Manipur",
         "orientation": "v",
         "showlegend": true,
         "textposition": "auto",
         "type": "bar",
         "x": [
          "Manipur"
         ],
         "xaxis": "x",
         "y": [
          0
         ],
         "yaxis": "y"
        },
        {
         "alignmentgroup": "True",
         "hoverlabel": {
          "namelength": 0
         },
         "hovertemplate": "State/UnionTerritory=%{x}<br>Deaths=%{y}",
         "legendgroup": "Meghalaya",
         "marker": {
          "color": "#636efa"
         },
         "name": "Meghalaya",
         "offsetgroup": "Meghalaya",
         "orientation": "v",
         "showlegend": true,
         "textposition": "auto",
         "type": "bar",
         "x": [
          "Meghalaya"
         ],
         "xaxis": "x",
         "y": [
          1
         ],
         "yaxis": "y"
        },
        {
         "alignmentgroup": "True",
         "hoverlabel": {
          "namelength": 0
         },
         "hovertemplate": "State/UnionTerritory=%{x}<br>Deaths=%{y}",
         "legendgroup": "Mizoram",
         "marker": {
          "color": "#EF553B"
         },
         "name": "Mizoram",
         "offsetgroup": "Mizoram",
         "orientation": "v",
         "showlegend": true,
         "textposition": "auto",
         "type": "bar",
         "x": [
          "Mizoram"
         ],
         "xaxis": "x",
         "y": [
          0
         ],
         "yaxis": "y"
        },
        {
         "alignmentgroup": "True",
         "hoverlabel": {
          "namelength": 0
         },
         "hovertemplate": "State/UnionTerritory=%{x}<br>Deaths=%{y}",
         "legendgroup": "Odisha",
         "marker": {
          "color": "#00cc96"
         },
         "name": "Odisha",
         "offsetgroup": "Odisha",
         "orientation": "v",
         "showlegend": true,
         "textposition": "auto",
         "type": "bar",
         "x": [
          "Odisha"
         ],
         "xaxis": "x",
         "y": [
          1
         ],
         "yaxis": "y"
        },
        {
         "alignmentgroup": "True",
         "hoverlabel": {
          "namelength": 0
         },
         "hovertemplate": "State/UnionTerritory=%{x}<br>Deaths=%{y}",
         "legendgroup": "Puducherry",
         "marker": {
          "color": "#ab63fa"
         },
         "name": "Puducherry",
         "offsetgroup": "Puducherry",
         "orientation": "v",
         "showlegend": true,
         "textposition": "auto",
         "type": "bar",
         "x": [
          "Puducherry"
         ],
         "xaxis": "x",
         "y": [
          0
         ],
         "yaxis": "y"
        },
        {
         "alignmentgroup": "True",
         "hoverlabel": {
          "namelength": 0
         },
         "hovertemplate": "State/UnionTerritory=%{x}<br>Deaths=%{y}",
         "legendgroup": "Punjab",
         "marker": {
          "color": "#FFA15A"
         },
         "name": "Punjab",
         "offsetgroup": "Punjab",
         "orientation": "v",
         "showlegend": true,
         "textposition": "auto",
         "type": "bar",
         "x": [
          "Punjab"
         ],
         "xaxis": "x",
         "y": [
          17
         ],
         "yaxis": "y"
        },
        {
         "alignmentgroup": "True",
         "hoverlabel": {
          "namelength": 0
         },
         "hovertemplate": "State/UnionTerritory=%{x}<br>Deaths=%{y}",
         "legendgroup": "Rajasthan",
         "marker": {
          "color": "#19d3f3"
         },
         "name": "Rajasthan",
         "offsetgroup": "Rajasthan",
         "orientation": "v",
         "showlegend": true,
         "textposition": "auto",
         "type": "bar",
         "x": [
          "Rajasthan"
         ],
         "xaxis": "x",
         "y": [
          33
         ],
         "yaxis": "y"
        },
        {
         "alignmentgroup": "True",
         "hoverlabel": {
          "namelength": 0
         },
         "hovertemplate": "State/UnionTerritory=%{x}<br>Deaths=%{y}",
         "legendgroup": "Tamil Nadu",
         "marker": {
          "color": "#FF6692"
         },
         "name": "Tamil Nadu",
         "offsetgroup": "Tamil Nadu",
         "orientation": "v",
         "showlegend": true,
         "textposition": "auto",
         "type": "bar",
         "x": [
          "Tamil Nadu"
         ],
         "xaxis": "x",
         "y": [
          23
         ],
         "yaxis": "y"
        },
        {
         "alignmentgroup": "True",
         "hoverlabel": {
          "namelength": 0
         },
         "hovertemplate": "State/UnionTerritory=%{x}<br>Deaths=%{y}",
         "legendgroup": "Telengana",
         "marker": {
          "color": "#B6E880"
         },
         "name": "Telengana",
         "offsetgroup": "Telengana",
         "orientation": "v",
         "showlegend": true,
         "textposition": "auto",
         "type": "bar",
         "x": [
          "Telengana"
         ],
         "xaxis": "x",
         "y": [
          26
         ],
         "yaxis": "y"
        },
        {
         "alignmentgroup": "True",
         "hoverlabel": {
          "namelength": 0
         },
         "hovertemplate": "State/UnionTerritory=%{x}<br>Deaths=%{y}",
         "legendgroup": "Tripura",
         "marker": {
          "color": "#FF97FF"
         },
         "name": "Tripura",
         "offsetgroup": "Tripura",
         "orientation": "v",
         "showlegend": true,
         "textposition": "auto",
         "type": "bar",
         "x": [
          "Tripura"
         ],
         "xaxis": "x",
         "y": [
          0
         ],
         "yaxis": "y"
        },
        {
         "alignmentgroup": "True",
         "hoverlabel": {
          "namelength": 0
         },
         "hovertemplate": "State/UnionTerritory=%{x}<br>Deaths=%{y}",
         "legendgroup": "Uttarakhand",
         "marker": {
          "color": "#FECB52"
         },
         "name": "Uttarakhand",
         "offsetgroup": "Uttarakhand",
         "orientation": "v",
         "showlegend": true,
         "textposition": "auto",
         "type": "bar",
         "x": [
          "Uttarakhand"
         ],
         "xaxis": "x",
         "y": [
          0
         ],
         "yaxis": "y"
        },
        {
         "alignmentgroup": "True",
         "hoverlabel": {
          "namelength": 0
         },
         "hovertemplate": "State/UnionTerritory=%{x}<br>Deaths=%{y}",
         "legendgroup": "Uttar Pradesh",
         "marker": {
          "color": "#636efa"
         },
         "name": "Uttar Pradesh",
         "offsetgroup": "Uttar Pradesh",
         "orientation": "v",
         "showlegend": true,
         "textposition": "auto",
         "type": "bar",
         "x": [
          "Uttar Pradesh"
         ],
         "xaxis": "x",
         "y": [
          29
         ],
         "yaxis": "y"
        },
        {
         "alignmentgroup": "True",
         "hoverlabel": {
          "namelength": 0
         },
         "hovertemplate": "State/UnionTerritory=%{x}<br>Deaths=%{y}",
         "legendgroup": "West Bengal",
         "marker": {
          "color": "#EF553B"
         },
         "name": "West Bengal",
         "offsetgroup": "West Bengal",
         "orientation": "v",
         "showlegend": true,
         "textposition": "auto",
         "type": "bar",
         "x": [
          "West Bengal"
         ],
         "xaxis": "x",
         "y": [
          18
         ],
         "yaxis": "y"
        }
       ],
       "layout": {
        "barmode": "relative",
        "height": 700,
        "legend": {
         "title": {
          "text": "State/UnionTerritory"
         },
         "tracegroupgap": 0
        },
        "template": {
         "data": {
          "bar": [
           {
            "error_x": {
             "color": "#2a3f5f"
            },
            "error_y": {
             "color": "#2a3f5f"
            },
            "marker": {
             "line": {
              "color": "#E5ECF6",
              "width": 0.5
             }
            },
            "type": "bar"
           }
          ],
          "barpolar": [
           {
            "marker": {
             "line": {
              "color": "#E5ECF6",
              "width": 0.5
             }
            },
            "type": "barpolar"
           }
          ],
          "carpet": [
           {
            "aaxis": {
             "endlinecolor": "#2a3f5f",
             "gridcolor": "white",
             "linecolor": "white",
             "minorgridcolor": "white",
             "startlinecolor": "#2a3f5f"
            },
            "baxis": {
             "endlinecolor": "#2a3f5f",
             "gridcolor": "white",
             "linecolor": "white",
             "minorgridcolor": "white",
             "startlinecolor": "#2a3f5f"
            },
            "type": "carpet"
           }
          ],
          "choropleth": [
           {
            "colorbar": {
             "outlinewidth": 0,
             "ticks": ""
            },
            "type": "choropleth"
           }
          ],
          "contour": [
           {
            "colorbar": {
             "outlinewidth": 0,
             "ticks": ""
            },
            "colorscale": [
             [
              0,
              "#0d0887"
             ],
             [
              0.1111111111111111,
              "#46039f"
             ],
             [
              0.2222222222222222,
              "#7201a8"
             ],
             [
              0.3333333333333333,
              "#9c179e"
             ],
             [
              0.4444444444444444,
              "#bd3786"
             ],
             [
              0.5555555555555556,
              "#d8576b"
             ],
             [
              0.6666666666666666,
              "#ed7953"
             ],
             [
              0.7777777777777778,
              "#fb9f3a"
             ],
             [
              0.8888888888888888,
              "#fdca26"
             ],
             [
              1,
              "#f0f921"
             ]
            ],
            "type": "contour"
           }
          ],
          "contourcarpet": [
           {
            "colorbar": {
             "outlinewidth": 0,
             "ticks": ""
            },
            "type": "contourcarpet"
           }
          ],
          "heatmap": [
           {
            "colorbar": {
             "outlinewidth": 0,
             "ticks": ""
            },
            "colorscale": [
             [
              0,
              "#0d0887"
             ],
             [
              0.1111111111111111,
              "#46039f"
             ],
             [
              0.2222222222222222,
              "#7201a8"
             ],
             [
              0.3333333333333333,
              "#9c179e"
             ],
             [
              0.4444444444444444,
              "#bd3786"
             ],
             [
              0.5555555555555556,
              "#d8576b"
             ],
             [
              0.6666666666666666,
              "#ed7953"
             ],
             [
              0.7777777777777778,
              "#fb9f3a"
             ],
             [
              0.8888888888888888,
              "#fdca26"
             ],
             [
              1,
              "#f0f921"
             ]
            ],
            "type": "heatmap"
           }
          ],
          "heatmapgl": [
           {
            "colorbar": {
             "outlinewidth": 0,
             "ticks": ""
            },
            "colorscale": [
             [
              0,
              "#0d0887"
             ],
             [
              0.1111111111111111,
              "#46039f"
             ],
             [
              0.2222222222222222,
              "#7201a8"
             ],
             [
              0.3333333333333333,
              "#9c179e"
             ],
             [
              0.4444444444444444,
              "#bd3786"
             ],
             [
              0.5555555555555556,
              "#d8576b"
             ],
             [
              0.6666666666666666,
              "#ed7953"
             ],
             [
              0.7777777777777778,
              "#fb9f3a"
             ],
             [
              0.8888888888888888,
              "#fdca26"
             ],
             [
              1,
              "#f0f921"
             ]
            ],
            "type": "heatmapgl"
           }
          ],
          "histogram": [
           {
            "marker": {
             "colorbar": {
              "outlinewidth": 0,
              "ticks": ""
             }
            },
            "type": "histogram"
           }
          ],
          "histogram2d": [
           {
            "colorbar": {
             "outlinewidth": 0,
             "ticks": ""
            },
            "colorscale": [
             [
              0,
              "#0d0887"
             ],
             [
              0.1111111111111111,
              "#46039f"
             ],
             [
              0.2222222222222222,
              "#7201a8"
             ],
             [
              0.3333333333333333,
              "#9c179e"
             ],
             [
              0.4444444444444444,
              "#bd3786"
             ],
             [
              0.5555555555555556,
              "#d8576b"
             ],
             [
              0.6666666666666666,
              "#ed7953"
             ],
             [
              0.7777777777777778,
              "#fb9f3a"
             ],
             [
              0.8888888888888888,
              "#fdca26"
             ],
             [
              1,
              "#f0f921"
             ]
            ],
            "type": "histogram2d"
           }
          ],
          "histogram2dcontour": [
           {
            "colorbar": {
             "outlinewidth": 0,
             "ticks": ""
            },
            "colorscale": [
             [
              0,
              "#0d0887"
             ],
             [
              0.1111111111111111,
              "#46039f"
             ],
             [
              0.2222222222222222,
              "#7201a8"
             ],
             [
              0.3333333333333333,
              "#9c179e"
             ],
             [
              0.4444444444444444,
              "#bd3786"
             ],
             [
              0.5555555555555556,
              "#d8576b"
             ],
             [
              0.6666666666666666,
              "#ed7953"
             ],
             [
              0.7777777777777778,
              "#fb9f3a"
             ],
             [
              0.8888888888888888,
              "#fdca26"
             ],
             [
              1,
              "#f0f921"
             ]
            ],
            "type": "histogram2dcontour"
           }
          ],
          "mesh3d": [
           {
            "colorbar": {
             "outlinewidth": 0,
             "ticks": ""
            },
            "type": "mesh3d"
           }
          ],
          "parcoords": [
           {
            "line": {
             "colorbar": {
              "outlinewidth": 0,
              "ticks": ""
             }
            },
            "type": "parcoords"
           }
          ],
          "pie": [
           {
            "automargin": true,
            "type": "pie"
           }
          ],
          "scatter": [
           {
            "marker": {
             "colorbar": {
              "outlinewidth": 0,
              "ticks": ""
             }
            },
            "type": "scatter"
           }
          ],
          "scatter3d": [
           {
            "line": {
             "colorbar": {
              "outlinewidth": 0,
              "ticks": ""
             }
            },
            "marker": {
             "colorbar": {
              "outlinewidth": 0,
              "ticks": ""
             }
            },
            "type": "scatter3d"
           }
          ],
          "scattercarpet": [
           {
            "marker": {
             "colorbar": {
              "outlinewidth": 0,
              "ticks": ""
             }
            },
            "type": "scattercarpet"
           }
          ],
          "scattergeo": [
           {
            "marker": {
             "colorbar": {
              "outlinewidth": 0,
              "ticks": ""
             }
            },
            "type": "scattergeo"
           }
          ],
          "scattergl": [
           {
            "marker": {
             "colorbar": {
              "outlinewidth": 0,
              "ticks": ""
             }
            },
            "type": "scattergl"
           }
          ],
          "scattermapbox": [
           {
            "marker": {
             "colorbar": {
              "outlinewidth": 0,
              "ticks": ""
             }
            },
            "type": "scattermapbox"
           }
          ],
          "scatterpolar": [
           {
            "marker": {
             "colorbar": {
              "outlinewidth": 0,
              "ticks": ""
             }
            },
            "type": "scatterpolar"
           }
          ],
          "scatterpolargl": [
           {
            "marker": {
             "colorbar": {
              "outlinewidth": 0,
              "ticks": ""
             }
            },
            "type": "scatterpolargl"
           }
          ],
          "scatterternary": [
           {
            "marker": {
             "colorbar": {
              "outlinewidth": 0,
              "ticks": ""
             }
            },
            "type": "scatterternary"
           }
          ],
          "surface": [
           {
            "colorbar": {
             "outlinewidth": 0,
             "ticks": ""
            },
            "colorscale": [
             [
              0,
              "#0d0887"
             ],
             [
              0.1111111111111111,
              "#46039f"
             ],
             [
              0.2222222222222222,
              "#7201a8"
             ],
             [
              0.3333333333333333,
              "#9c179e"
             ],
             [
              0.4444444444444444,
              "#bd3786"
             ],
             [
              0.5555555555555556,
              "#d8576b"
             ],
             [
              0.6666666666666666,
              "#ed7953"
             ],
             [
              0.7777777777777778,
              "#fb9f3a"
             ],
             [
              0.8888888888888888,
              "#fdca26"
             ],
             [
              1,
              "#f0f921"
             ]
            ],
            "type": "surface"
           }
          ],
          "table": [
           {
            "cells": {
             "fill": {
              "color": "#EBF0F8"
             },
             "line": {
              "color": "white"
             }
            },
            "header": {
             "fill": {
              "color": "#C8D4E3"
             },
             "line": {
              "color": "white"
             }
            },
            "type": "table"
           }
          ]
         },
         "layout": {
          "annotationdefaults": {
           "arrowcolor": "#2a3f5f",
           "arrowhead": 0,
           "arrowwidth": 1
          },
          "coloraxis": {
           "colorbar": {
            "outlinewidth": 0,
            "ticks": ""
           }
          },
          "colorscale": {
           "diverging": [
            [
             0,
             "#8e0152"
            ],
            [
             0.1,
             "#c51b7d"
            ],
            [
             0.2,
             "#de77ae"
            ],
            [
             0.3,
             "#f1b6da"
            ],
            [
             0.4,
             "#fde0ef"
            ],
            [
             0.5,
             "#f7f7f7"
            ],
            [
             0.6,
             "#e6f5d0"
            ],
            [
             0.7,
             "#b8e186"
            ],
            [
             0.8,
             "#7fbc41"
            ],
            [
             0.9,
             "#4d9221"
            ],
            [
             1,
             "#276419"
            ]
           ],
           "sequential": [
            [
             0,
             "#0d0887"
            ],
            [
             0.1111111111111111,
             "#46039f"
            ],
            [
             0.2222222222222222,
             "#7201a8"
            ],
            [
             0.3333333333333333,
             "#9c179e"
            ],
            [
             0.4444444444444444,
             "#bd3786"
            ],
            [
             0.5555555555555556,
             "#d8576b"
            ],
            [
             0.6666666666666666,
             "#ed7953"
            ],
            [
             0.7777777777777778,
             "#fb9f3a"
            ],
            [
             0.8888888888888888,
             "#fdca26"
            ],
            [
             1,
             "#f0f921"
            ]
           ],
           "sequentialminus": [
            [
             0,
             "#0d0887"
            ],
            [
             0.1111111111111111,
             "#46039f"
            ],
            [
             0.2222222222222222,
             "#7201a8"
            ],
            [
             0.3333333333333333,
             "#9c179e"
            ],
            [
             0.4444444444444444,
             "#bd3786"
            ],
            [
             0.5555555555555556,
             "#d8576b"
            ],
            [
             0.6666666666666666,
             "#ed7953"
            ],
            [
             0.7777777777777778,
             "#fb9f3a"
            ],
            [
             0.8888888888888888,
             "#fdca26"
            ],
            [
             1,
             "#f0f921"
            ]
           ]
          },
          "colorway": [
           "#636efa",
           "#EF553B",
           "#00cc96",
           "#ab63fa",
           "#FFA15A",
           "#19d3f3",
           "#FF6692",
           "#B6E880",
           "#FF97FF",
           "#FECB52"
          ],
          "font": {
           "color": "#2a3f5f"
          },
          "geo": {
           "bgcolor": "white",
           "lakecolor": "white",
           "landcolor": "#E5ECF6",
           "showlakes": true,
           "showland": true,
           "subunitcolor": "white"
          },
          "hoverlabel": {
           "align": "left"
          },
          "hovermode": "closest",
          "mapbox": {
           "style": "light"
          },
          "paper_bgcolor": "white",
          "plot_bgcolor": "#E5ECF6",
          "polar": {
           "angularaxis": {
            "gridcolor": "white",
            "linecolor": "white",
            "ticks": ""
           },
           "bgcolor": "#E5ECF6",
           "radialaxis": {
            "gridcolor": "white",
            "linecolor": "white",
            "ticks": ""
           }
          },
          "scene": {
           "xaxis": {
            "backgroundcolor": "#E5ECF6",
            "gridcolor": "white",
            "gridwidth": 2,
            "linecolor": "white",
            "showbackground": true,
            "ticks": "",
            "zerolinecolor": "white"
           },
           "yaxis": {
            "backgroundcolor": "#E5ECF6",
            "gridcolor": "white",
            "gridwidth": 2,
            "linecolor": "white",
            "showbackground": true,
            "ticks": "",
            "zerolinecolor": "white"
           },
           "zaxis": {
            "backgroundcolor": "#E5ECF6",
            "gridcolor": "white",
            "gridwidth": 2,
            "linecolor": "white",
            "showbackground": true,
            "ticks": "",
            "zerolinecolor": "white"
           }
          },
          "shapedefaults": {
           "line": {
            "color": "#2a3f5f"
           }
          },
          "ternary": {
           "aaxis": {
            "gridcolor": "white",
            "linecolor": "white",
            "ticks": ""
           },
           "baxis": {
            "gridcolor": "white",
            "linecolor": "white",
            "ticks": ""
           },
           "bgcolor": "#E5ECF6",
           "caxis": {
            "gridcolor": "white",
            "linecolor": "white",
            "ticks": ""
           }
          },
          "title": {
           "x": 0.05
          },
          "xaxis": {
           "automargin": true,
           "gridcolor": "white",
           "linecolor": "white",
           "ticks": "",
           "title": {
            "standoff": 15
           },
           "zerolinecolor": "white",
           "zerolinewidth": 2
          },
          "yaxis": {
           "automargin": true,
           "gridcolor": "white",
           "linecolor": "white",
           "ticks": "",
           "title": {
            "standoff": 15
           },
           "zerolinecolor": "white",
           "zerolinewidth": 2
          }
         }
        },
        "title": {
         "text": "Deaths as of 26 April"
        },
        "xaxis": {
         "anchor": "y",
         "categoryarray": [
          "Andaman and Nicobar Islands",
          "Andhra Pradesh",
          "Arunachal Pradesh",
          "Assam",
          "Bihar",
          "Chandigarh",
          "Chhattisgarh",
          "Delhi",
          "Goa",
          "Gujarat",
          "Haryana",
          "Himachal Pradesh",
          "Jammu and Kashmir",
          "Jharkhand",
          "Karnataka",
          "Kerala",
          "Ladakh",
          "Madhya Pradesh",
          "Maharashtra",
          "Manipur",
          "Meghalaya",
          "Mizoram",
          "Odisha",
          "Puducherry",
          "Punjab",
          "Rajasthan",
          "Tamil Nadu",
          "Telengana",
          "Tripura",
          "Uttarakhand",
          "Uttar Pradesh",
          "West Bengal"
         ],
         "categoryorder": "array",
         "domain": [
          0,
          1
         ],
         "title": {
          "text": "State/UnionTerritory"
         }
        },
        "yaxis": {
         "anchor": "x",
         "domain": [
          0,
          1
         ],
         "title": {
          "text": "Deaths"
         }
        }
       }
      },
      "text/html": [
       "<div>\n",
       "        \n",
       "        \n",
       "            <div id=\"0ee38c20-4dad-4d05-8d5d-694d49346b7f\" class=\"plotly-graph-div\" style=\"height:700px; width:100%;\"></div>\n",
       "            <script type=\"text/javascript\">\n",
       "                require([\"plotly\"], function(Plotly) {\n",
       "                    window.PLOTLYENV=window.PLOTLYENV || {};\n",
       "                    \n",
       "                if (document.getElementById(\"0ee38c20-4dad-4d05-8d5d-694d49346b7f\")) {\n",
       "                    Plotly.newPlot(\n",
       "                        '0ee38c20-4dad-4d05-8d5d-694d49346b7f',\n",
       "                        [{\"alignmentgroup\": \"True\", \"hoverlabel\": {\"namelength\": 0}, \"hovertemplate\": \"State/UnionTerritory=%{x}<br>Deaths=%{y}\", \"legendgroup\": \"Andaman and Nicobar Islands\", \"marker\": {\"color\": \"#636efa\"}, \"name\": \"Andaman and Nicobar Islands\", \"offsetgroup\": \"Andaman and Nicobar Islands\", \"orientation\": \"v\", \"showlegend\": true, \"textposition\": \"auto\", \"type\": \"bar\", \"x\": [\"Andaman and Nicobar Islands\"], \"xaxis\": \"x\", \"y\": [0], \"yaxis\": \"y\"}, {\"alignmentgroup\": \"True\", \"hoverlabel\": {\"namelength\": 0}, \"hovertemplate\": \"State/UnionTerritory=%{x}<br>Deaths=%{y}\", \"legendgroup\": \"Andhra Pradesh\", \"marker\": {\"color\": \"#EF553B\"}, \"name\": \"Andhra Pradesh\", \"offsetgroup\": \"Andhra Pradesh\", \"orientation\": \"v\", \"showlegend\": true, \"textposition\": \"auto\", \"type\": \"bar\", \"x\": [\"Andhra Pradesh\"], \"xaxis\": \"x\", \"y\": [31], \"yaxis\": \"y\"}, {\"alignmentgroup\": \"True\", \"hoverlabel\": {\"namelength\": 0}, \"hovertemplate\": \"State/UnionTerritory=%{x}<br>Deaths=%{y}\", \"legendgroup\": \"Arunachal Pradesh\", \"marker\": {\"color\": \"#00cc96\"}, \"name\": \"Arunachal Pradesh\", \"offsetgroup\": \"Arunachal Pradesh\", \"orientation\": \"v\", \"showlegend\": true, \"textposition\": \"auto\", \"type\": \"bar\", \"x\": [\"Arunachal Pradesh\"], \"xaxis\": \"x\", \"y\": [0], \"yaxis\": \"y\"}, {\"alignmentgroup\": \"True\", \"hoverlabel\": {\"namelength\": 0}, \"hovertemplate\": \"State/UnionTerritory=%{x}<br>Deaths=%{y}\", \"legendgroup\": \"Assam\", \"marker\": {\"color\": \"#ab63fa\"}, \"name\": \"Assam\", \"offsetgroup\": \"Assam\", \"orientation\": \"v\", \"showlegend\": true, \"textposition\": \"auto\", \"type\": \"bar\", \"x\": [\"Assam\"], \"xaxis\": \"x\", \"y\": [1], \"yaxis\": \"y\"}, {\"alignmentgroup\": \"True\", \"hoverlabel\": {\"namelength\": 0}, \"hovertemplate\": \"State/UnionTerritory=%{x}<br>Deaths=%{y}\", \"legendgroup\": \"Bihar\", \"marker\": {\"color\": \"#FFA15A\"}, \"name\": \"Bihar\", \"offsetgroup\": \"Bihar\", \"orientation\": \"v\", \"showlegend\": true, \"textposition\": \"auto\", \"type\": \"bar\", \"x\": [\"Bihar\"], \"xaxis\": \"x\", \"y\": [2], \"yaxis\": \"y\"}, {\"alignmentgroup\": \"True\", \"hoverlabel\": {\"namelength\": 0}, \"hovertemplate\": \"State/UnionTerritory=%{x}<br>Deaths=%{y}\", \"legendgroup\": \"Chandigarh\", \"marker\": {\"color\": \"#19d3f3\"}, \"name\": \"Chandigarh\", \"offsetgroup\": \"Chandigarh\", \"orientation\": \"v\", \"showlegend\": true, \"textposition\": \"auto\", \"type\": \"bar\", \"x\": [\"Chandigarh\"], \"xaxis\": \"x\", \"y\": [0], \"yaxis\": \"y\"}, {\"alignmentgroup\": \"True\", \"hoverlabel\": {\"namelength\": 0}, \"hovertemplate\": \"State/UnionTerritory=%{x}<br>Deaths=%{y}\", \"legendgroup\": \"Chhattisgarh\", \"marker\": {\"color\": \"#FF6692\"}, \"name\": \"Chhattisgarh\", \"offsetgroup\": \"Chhattisgarh\", \"orientation\": \"v\", \"showlegend\": true, \"textposition\": \"auto\", \"type\": \"bar\", \"x\": [\"Chhattisgarh\"], \"xaxis\": \"x\", \"y\": [0], \"yaxis\": \"y\"}, {\"alignmentgroup\": \"True\", \"hoverlabel\": {\"namelength\": 0}, \"hovertemplate\": \"State/UnionTerritory=%{x}<br>Deaths=%{y}\", \"legendgroup\": \"Delhi\", \"marker\": {\"color\": \"#B6E880\"}, \"name\": \"Delhi\", \"offsetgroup\": \"Delhi\", \"orientation\": \"v\", \"showlegend\": true, \"textposition\": \"auto\", \"type\": \"bar\", \"x\": [\"Delhi\"], \"xaxis\": \"x\", \"y\": [54], \"yaxis\": \"y\"}, {\"alignmentgroup\": \"True\", \"hoverlabel\": {\"namelength\": 0}, \"hovertemplate\": \"State/UnionTerritory=%{x}<br>Deaths=%{y}\", \"legendgroup\": \"Goa\", \"marker\": {\"color\": \"#FF97FF\"}, \"name\": \"Goa\", \"offsetgroup\": \"Goa\", \"orientation\": \"v\", \"showlegend\": true, \"textposition\": \"auto\", \"type\": \"bar\", \"x\": [\"Goa\"], \"xaxis\": \"x\", \"y\": [0], \"yaxis\": \"y\"}, {\"alignmentgroup\": \"True\", \"hoverlabel\": {\"namelength\": 0}, \"hovertemplate\": \"State/UnionTerritory=%{x}<br>Deaths=%{y}\", \"legendgroup\": \"Gujarat\", \"marker\": {\"color\": \"#FECB52\"}, \"name\": \"Gujarat\", \"offsetgroup\": \"Gujarat\", \"orientation\": \"v\", \"showlegend\": true, \"textposition\": \"auto\", \"type\": \"bar\", \"x\": [\"Gujarat\"], \"xaxis\": \"x\", \"y\": [133], \"yaxis\": \"y\"}, {\"alignmentgroup\": \"True\", \"hoverlabel\": {\"namelength\": 0}, \"hovertemplate\": \"State/UnionTerritory=%{x}<br>Deaths=%{y}\", \"legendgroup\": \"Haryana\", \"marker\": {\"color\": \"#636efa\"}, \"name\": \"Haryana\", \"offsetgroup\": \"Haryana\", \"orientation\": \"v\", \"showlegend\": true, \"textposition\": \"auto\", \"type\": \"bar\", \"x\": [\"Haryana\"], \"xaxis\": \"x\", \"y\": [3], \"yaxis\": \"y\"}, {\"alignmentgroup\": \"True\", \"hoverlabel\": {\"namelength\": 0}, \"hovertemplate\": \"State/UnionTerritory=%{x}<br>Deaths=%{y}\", \"legendgroup\": \"Himachal Pradesh\", \"marker\": {\"color\": \"#EF553B\"}, \"name\": \"Himachal Pradesh\", \"offsetgroup\": \"Himachal Pradesh\", \"orientation\": \"v\", \"showlegend\": true, \"textposition\": \"auto\", \"type\": \"bar\", \"x\": [\"Himachal Pradesh\"], \"xaxis\": \"x\", \"y\": [1], \"yaxis\": \"y\"}, {\"alignmentgroup\": \"True\", \"hoverlabel\": {\"namelength\": 0}, \"hovertemplate\": \"State/UnionTerritory=%{x}<br>Deaths=%{y}\", \"legendgroup\": \"Jammu and Kashmir\", \"marker\": {\"color\": \"#00cc96\"}, \"name\": \"Jammu and Kashmir\", \"offsetgroup\": \"Jammu and Kashmir\", \"orientation\": \"v\", \"showlegend\": true, \"textposition\": \"auto\", \"type\": \"bar\", \"x\": [\"Jammu and Kashmir\"], \"xaxis\": \"x\", \"y\": [6], \"yaxis\": \"y\"}, {\"alignmentgroup\": \"True\", \"hoverlabel\": {\"namelength\": 0}, \"hovertemplate\": \"State/UnionTerritory=%{x}<br>Deaths=%{y}\", \"legendgroup\": \"Jharkhand\", \"marker\": {\"color\": \"#ab63fa\"}, \"name\": \"Jharkhand\", \"offsetgroup\": \"Jharkhand\", \"orientation\": \"v\", \"showlegend\": true, \"textposition\": \"auto\", \"type\": \"bar\", \"x\": [\"Jharkhand\"], \"xaxis\": \"x\", \"y\": [3], \"yaxis\": \"y\"}, {\"alignmentgroup\": \"True\", \"hoverlabel\": {\"namelength\": 0}, \"hovertemplate\": \"State/UnionTerritory=%{x}<br>Deaths=%{y}\", \"legendgroup\": \"Karnataka\", \"marker\": {\"color\": \"#FFA15A\"}, \"name\": \"Karnataka\", \"offsetgroup\": \"Karnataka\", \"orientation\": \"v\", \"showlegend\": true, \"textposition\": \"auto\", \"type\": \"bar\", \"x\": [\"Karnataka\"], \"xaxis\": \"x\", \"y\": [18], \"yaxis\": \"y\"}, {\"alignmentgroup\": \"True\", \"hoverlabel\": {\"namelength\": 0}, \"hovertemplate\": \"State/UnionTerritory=%{x}<br>Deaths=%{y}\", \"legendgroup\": \"Kerala\", \"marker\": {\"color\": \"#19d3f3\"}, \"name\": \"Kerala\", \"offsetgroup\": \"Kerala\", \"orientation\": \"v\", \"showlegend\": true, \"textposition\": \"auto\", \"type\": \"bar\", \"x\": [\"Kerala\"], \"xaxis\": \"x\", \"y\": [4], \"yaxis\": \"y\"}, {\"alignmentgroup\": \"True\", \"hoverlabel\": {\"namelength\": 0}, \"hovertemplate\": \"State/UnionTerritory=%{x}<br>Deaths=%{y}\", \"legendgroup\": \"Ladakh\", \"marker\": {\"color\": \"#FF6692\"}, \"name\": \"Ladakh\", \"offsetgroup\": \"Ladakh\", \"orientation\": \"v\", \"showlegend\": true, \"textposition\": \"auto\", \"type\": \"bar\", \"x\": [\"Ladakh\"], \"xaxis\": \"x\", \"y\": [0], \"yaxis\": \"y\"}, {\"alignmentgroup\": \"True\", \"hoverlabel\": {\"namelength\": 0}, \"hovertemplate\": \"State/UnionTerritory=%{x}<br>Deaths=%{y}\", \"legendgroup\": \"Madhya Pradesh\", \"marker\": {\"color\": \"#B6E880\"}, \"name\": \"Madhya Pradesh\", \"offsetgroup\": \"Madhya Pradesh\", \"orientation\": \"v\", \"showlegend\": true, \"textposition\": \"auto\", \"type\": \"bar\", \"x\": [\"Madhya Pradesh\"], \"xaxis\": \"x\", \"y\": [99], \"yaxis\": \"y\"}, {\"alignmentgroup\": \"True\", \"hoverlabel\": {\"namelength\": 0}, \"hovertemplate\": \"State/UnionTerritory=%{x}<br>Deaths=%{y}\", \"legendgroup\": \"Maharashtra\", \"marker\": {\"color\": \"#FF97FF\"}, \"name\": \"Maharashtra\", \"offsetgroup\": \"Maharashtra\", \"orientation\": \"v\", \"showlegend\": true, \"textposition\": \"auto\", \"type\": \"bar\", \"x\": [\"Maharashtra\"], \"xaxis\": \"x\", \"y\": [323], \"yaxis\": \"y\"}, {\"alignmentgroup\": \"True\", \"hoverlabel\": {\"namelength\": 0}, \"hovertemplate\": \"State/UnionTerritory=%{x}<br>Deaths=%{y}\", \"legendgroup\": \"Manipur\", \"marker\": {\"color\": \"#FECB52\"}, \"name\": \"Manipur\", \"offsetgroup\": \"Manipur\", \"orientation\": \"v\", \"showlegend\": true, \"textposition\": \"auto\", \"type\": \"bar\", \"x\": [\"Manipur\"], \"xaxis\": \"x\", \"y\": [0], \"yaxis\": \"y\"}, {\"alignmentgroup\": \"True\", \"hoverlabel\": {\"namelength\": 0}, \"hovertemplate\": \"State/UnionTerritory=%{x}<br>Deaths=%{y}\", \"legendgroup\": \"Meghalaya\", \"marker\": {\"color\": \"#636efa\"}, \"name\": \"Meghalaya\", \"offsetgroup\": \"Meghalaya\", \"orientation\": \"v\", \"showlegend\": true, \"textposition\": \"auto\", \"type\": \"bar\", \"x\": [\"Meghalaya\"], \"xaxis\": \"x\", \"y\": [1], \"yaxis\": \"y\"}, {\"alignmentgroup\": \"True\", \"hoverlabel\": {\"namelength\": 0}, \"hovertemplate\": \"State/UnionTerritory=%{x}<br>Deaths=%{y}\", \"legendgroup\": \"Mizoram\", \"marker\": {\"color\": \"#EF553B\"}, \"name\": \"Mizoram\", \"offsetgroup\": \"Mizoram\", \"orientation\": \"v\", \"showlegend\": true, \"textposition\": \"auto\", \"type\": \"bar\", \"x\": [\"Mizoram\"], \"xaxis\": \"x\", \"y\": [0], \"yaxis\": \"y\"}, {\"alignmentgroup\": \"True\", \"hoverlabel\": {\"namelength\": 0}, \"hovertemplate\": \"State/UnionTerritory=%{x}<br>Deaths=%{y}\", \"legendgroup\": \"Odisha\", \"marker\": {\"color\": \"#00cc96\"}, \"name\": \"Odisha\", \"offsetgroup\": \"Odisha\", \"orientation\": \"v\", \"showlegend\": true, \"textposition\": \"auto\", \"type\": \"bar\", \"x\": [\"Odisha\"], \"xaxis\": \"x\", \"y\": [1], \"yaxis\": \"y\"}, {\"alignmentgroup\": \"True\", \"hoverlabel\": {\"namelength\": 0}, \"hovertemplate\": \"State/UnionTerritory=%{x}<br>Deaths=%{y}\", \"legendgroup\": \"Puducherry\", \"marker\": {\"color\": \"#ab63fa\"}, \"name\": \"Puducherry\", \"offsetgroup\": \"Puducherry\", \"orientation\": \"v\", \"showlegend\": true, \"textposition\": \"auto\", \"type\": \"bar\", \"x\": [\"Puducherry\"], \"xaxis\": \"x\", \"y\": [0], \"yaxis\": \"y\"}, {\"alignmentgroup\": \"True\", \"hoverlabel\": {\"namelength\": 0}, \"hovertemplate\": \"State/UnionTerritory=%{x}<br>Deaths=%{y}\", \"legendgroup\": \"Punjab\", \"marker\": {\"color\": \"#FFA15A\"}, \"name\": \"Punjab\", \"offsetgroup\": \"Punjab\", \"orientation\": \"v\", \"showlegend\": true, \"textposition\": \"auto\", \"type\": \"bar\", \"x\": [\"Punjab\"], \"xaxis\": \"x\", \"y\": [17], \"yaxis\": \"y\"}, {\"alignmentgroup\": \"True\", \"hoverlabel\": {\"namelength\": 0}, \"hovertemplate\": \"State/UnionTerritory=%{x}<br>Deaths=%{y}\", \"legendgroup\": \"Rajasthan\", \"marker\": {\"color\": \"#19d3f3\"}, \"name\": \"Rajasthan\", \"offsetgroup\": \"Rajasthan\", \"orientation\": \"v\", \"showlegend\": true, \"textposition\": \"auto\", \"type\": \"bar\", \"x\": [\"Rajasthan\"], \"xaxis\": \"x\", \"y\": [33], \"yaxis\": \"y\"}, {\"alignmentgroup\": \"True\", \"hoverlabel\": {\"namelength\": 0}, \"hovertemplate\": \"State/UnionTerritory=%{x}<br>Deaths=%{y}\", \"legendgroup\": \"Tamil Nadu\", \"marker\": {\"color\": \"#FF6692\"}, \"name\": \"Tamil Nadu\", \"offsetgroup\": \"Tamil Nadu\", \"orientation\": \"v\", \"showlegend\": true, \"textposition\": \"auto\", \"type\": \"bar\", \"x\": [\"Tamil Nadu\"], \"xaxis\": \"x\", \"y\": [23], \"yaxis\": \"y\"}, {\"alignmentgroup\": \"True\", \"hoverlabel\": {\"namelength\": 0}, \"hovertemplate\": \"State/UnionTerritory=%{x}<br>Deaths=%{y}\", \"legendgroup\": \"Telengana\", \"marker\": {\"color\": \"#B6E880\"}, \"name\": \"Telengana\", \"offsetgroup\": \"Telengana\", \"orientation\": \"v\", \"showlegend\": true, \"textposition\": \"auto\", \"type\": \"bar\", \"x\": [\"Telengana\"], \"xaxis\": \"x\", \"y\": [26], \"yaxis\": \"y\"}, {\"alignmentgroup\": \"True\", \"hoverlabel\": {\"namelength\": 0}, \"hovertemplate\": \"State/UnionTerritory=%{x}<br>Deaths=%{y}\", \"legendgroup\": \"Tripura\", \"marker\": {\"color\": \"#FF97FF\"}, \"name\": \"Tripura\", \"offsetgroup\": \"Tripura\", \"orientation\": \"v\", \"showlegend\": true, \"textposition\": \"auto\", \"type\": \"bar\", \"x\": [\"Tripura\"], \"xaxis\": \"x\", \"y\": [0], \"yaxis\": \"y\"}, {\"alignmentgroup\": \"True\", \"hoverlabel\": {\"namelength\": 0}, \"hovertemplate\": \"State/UnionTerritory=%{x}<br>Deaths=%{y}\", \"legendgroup\": \"Uttarakhand\", \"marker\": {\"color\": \"#FECB52\"}, \"name\": \"Uttarakhand\", \"offsetgroup\": \"Uttarakhand\", \"orientation\": \"v\", \"showlegend\": true, \"textposition\": \"auto\", \"type\": \"bar\", \"x\": [\"Uttarakhand\"], \"xaxis\": \"x\", \"y\": [0], \"yaxis\": \"y\"}, {\"alignmentgroup\": \"True\", \"hoverlabel\": {\"namelength\": 0}, \"hovertemplate\": \"State/UnionTerritory=%{x}<br>Deaths=%{y}\", \"legendgroup\": \"Uttar Pradesh\", \"marker\": {\"color\": \"#636efa\"}, \"name\": \"Uttar Pradesh\", \"offsetgroup\": \"Uttar Pradesh\", \"orientation\": \"v\", \"showlegend\": true, \"textposition\": \"auto\", \"type\": \"bar\", \"x\": [\"Uttar Pradesh\"], \"xaxis\": \"x\", \"y\": [29], \"yaxis\": \"y\"}, {\"alignmentgroup\": \"True\", \"hoverlabel\": {\"namelength\": 0}, \"hovertemplate\": \"State/UnionTerritory=%{x}<br>Deaths=%{y}\", \"legendgroup\": \"West Bengal\", \"marker\": {\"color\": \"#EF553B\"}, \"name\": \"West Bengal\", \"offsetgroup\": \"West Bengal\", \"orientation\": \"v\", \"showlegend\": true, \"textposition\": \"auto\", \"type\": \"bar\", \"x\": [\"West Bengal\"], \"xaxis\": \"x\", \"y\": [18], \"yaxis\": \"y\"}],\n",
       "                        {\"barmode\": \"relative\", \"height\": 700, \"legend\": {\"title\": {\"text\": \"State/UnionTerritory\"}, \"tracegroupgap\": 0}, \"template\": {\"data\": {\"bar\": [{\"error_x\": {\"color\": \"#2a3f5f\"}, \"error_y\": {\"color\": \"#2a3f5f\"}, \"marker\": {\"line\": {\"color\": \"#E5ECF6\", \"width\": 0.5}}, \"type\": \"bar\"}], \"barpolar\": [{\"marker\": {\"line\": {\"color\": \"#E5ECF6\", \"width\": 0.5}}, \"type\": \"barpolar\"}], \"carpet\": [{\"aaxis\": {\"endlinecolor\": \"#2a3f5f\", \"gridcolor\": \"white\", \"linecolor\": \"white\", \"minorgridcolor\": \"white\", \"startlinecolor\": \"#2a3f5f\"}, \"baxis\": {\"endlinecolor\": \"#2a3f5f\", \"gridcolor\": \"white\", \"linecolor\": \"white\", \"minorgridcolor\": \"white\", \"startlinecolor\": \"#2a3f5f\"}, \"type\": \"carpet\"}], \"choropleth\": [{\"colorbar\": {\"outlinewidth\": 0, \"ticks\": \"\"}, \"type\": \"choropleth\"}], \"contour\": [{\"colorbar\": {\"outlinewidth\": 0, \"ticks\": \"\"}, \"colorscale\": [[0.0, \"#0d0887\"], [0.1111111111111111, \"#46039f\"], [0.2222222222222222, \"#7201a8\"], [0.3333333333333333, \"#9c179e\"], [0.4444444444444444, \"#bd3786\"], [0.5555555555555556, \"#d8576b\"], [0.6666666666666666, \"#ed7953\"], [0.7777777777777778, \"#fb9f3a\"], [0.8888888888888888, \"#fdca26\"], [1.0, \"#f0f921\"]], \"type\": \"contour\"}], \"contourcarpet\": [{\"colorbar\": {\"outlinewidth\": 0, \"ticks\": \"\"}, \"type\": \"contourcarpet\"}], \"heatmap\": [{\"colorbar\": {\"outlinewidth\": 0, \"ticks\": \"\"}, \"colorscale\": [[0.0, \"#0d0887\"], [0.1111111111111111, \"#46039f\"], [0.2222222222222222, \"#7201a8\"], [0.3333333333333333, \"#9c179e\"], [0.4444444444444444, \"#bd3786\"], [0.5555555555555556, \"#d8576b\"], [0.6666666666666666, \"#ed7953\"], [0.7777777777777778, \"#fb9f3a\"], [0.8888888888888888, \"#fdca26\"], [1.0, \"#f0f921\"]], \"type\": \"heatmap\"}], \"heatmapgl\": [{\"colorbar\": {\"outlinewidth\": 0, \"ticks\": \"\"}, \"colorscale\": [[0.0, \"#0d0887\"], [0.1111111111111111, \"#46039f\"], [0.2222222222222222, \"#7201a8\"], [0.3333333333333333, \"#9c179e\"], [0.4444444444444444, \"#bd3786\"], [0.5555555555555556, \"#d8576b\"], [0.6666666666666666, \"#ed7953\"], [0.7777777777777778, \"#fb9f3a\"], [0.8888888888888888, \"#fdca26\"], [1.0, \"#f0f921\"]], \"type\": \"heatmapgl\"}], \"histogram\": [{\"marker\": {\"colorbar\": {\"outlinewidth\": 0, \"ticks\": \"\"}}, \"type\": \"histogram\"}], \"histogram2d\": [{\"colorbar\": {\"outlinewidth\": 0, \"ticks\": \"\"}, \"colorscale\": [[0.0, \"#0d0887\"], [0.1111111111111111, \"#46039f\"], [0.2222222222222222, \"#7201a8\"], [0.3333333333333333, \"#9c179e\"], [0.4444444444444444, \"#bd3786\"], [0.5555555555555556, \"#d8576b\"], [0.6666666666666666, \"#ed7953\"], [0.7777777777777778, \"#fb9f3a\"], [0.8888888888888888, \"#fdca26\"], [1.0, \"#f0f921\"]], \"type\": \"histogram2d\"}], \"histogram2dcontour\": [{\"colorbar\": {\"outlinewidth\": 0, \"ticks\": \"\"}, \"colorscale\": [[0.0, \"#0d0887\"], [0.1111111111111111, \"#46039f\"], [0.2222222222222222, \"#7201a8\"], [0.3333333333333333, \"#9c179e\"], [0.4444444444444444, \"#bd3786\"], [0.5555555555555556, \"#d8576b\"], [0.6666666666666666, \"#ed7953\"], [0.7777777777777778, \"#fb9f3a\"], [0.8888888888888888, \"#fdca26\"], [1.0, \"#f0f921\"]], \"type\": \"histogram2dcontour\"}], \"mesh3d\": [{\"colorbar\": {\"outlinewidth\": 0, \"ticks\": \"\"}, \"type\": \"mesh3d\"}], \"parcoords\": [{\"line\": {\"colorbar\": {\"outlinewidth\": 0, \"ticks\": \"\"}}, \"type\": \"parcoords\"}], \"pie\": [{\"automargin\": true, \"type\": \"pie\"}], \"scatter\": [{\"marker\": {\"colorbar\": {\"outlinewidth\": 0, \"ticks\": \"\"}}, \"type\": \"scatter\"}], \"scatter3d\": [{\"line\": {\"colorbar\": {\"outlinewidth\": 0, \"ticks\": \"\"}}, \"marker\": {\"colorbar\": {\"outlinewidth\": 0, \"ticks\": \"\"}}, \"type\": \"scatter3d\"}], \"scattercarpet\": [{\"marker\": {\"colorbar\": {\"outlinewidth\": 0, \"ticks\": \"\"}}, \"type\": \"scattercarpet\"}], \"scattergeo\": [{\"marker\": {\"colorbar\": {\"outlinewidth\": 0, \"ticks\": \"\"}}, \"type\": \"scattergeo\"}], \"scattergl\": [{\"marker\": {\"colorbar\": {\"outlinewidth\": 0, \"ticks\": \"\"}}, \"type\": \"scattergl\"}], \"scattermapbox\": [{\"marker\": {\"colorbar\": {\"outlinewidth\": 0, \"ticks\": \"\"}}, \"type\": \"scattermapbox\"}], \"scatterpolar\": [{\"marker\": {\"colorbar\": {\"outlinewidth\": 0, \"ticks\": \"\"}}, \"type\": \"scatterpolar\"}], \"scatterpolargl\": [{\"marker\": {\"colorbar\": {\"outlinewidth\": 0, \"ticks\": \"\"}}, \"type\": \"scatterpolargl\"}], \"scatterternary\": [{\"marker\": {\"colorbar\": {\"outlinewidth\": 0, \"ticks\": \"\"}}, \"type\": \"scatterternary\"}], \"surface\": [{\"colorbar\": {\"outlinewidth\": 0, \"ticks\": \"\"}, \"colorscale\": [[0.0, \"#0d0887\"], [0.1111111111111111, \"#46039f\"], [0.2222222222222222, \"#7201a8\"], [0.3333333333333333, \"#9c179e\"], [0.4444444444444444, \"#bd3786\"], [0.5555555555555556, \"#d8576b\"], [0.6666666666666666, \"#ed7953\"], [0.7777777777777778, \"#fb9f3a\"], [0.8888888888888888, \"#fdca26\"], [1.0, \"#f0f921\"]], \"type\": \"surface\"}], \"table\": [{\"cells\": {\"fill\": {\"color\": \"#EBF0F8\"}, \"line\": {\"color\": \"white\"}}, \"header\": {\"fill\": {\"color\": \"#C8D4E3\"}, \"line\": {\"color\": \"white\"}}, \"type\": \"table\"}]}, \"layout\": {\"annotationdefaults\": {\"arrowcolor\": \"#2a3f5f\", \"arrowhead\": 0, \"arrowwidth\": 1}, \"coloraxis\": {\"colorbar\": {\"outlinewidth\": 0, \"ticks\": \"\"}}, \"colorscale\": {\"diverging\": [[0, \"#8e0152\"], [0.1, \"#c51b7d\"], [0.2, \"#de77ae\"], [0.3, \"#f1b6da\"], [0.4, \"#fde0ef\"], [0.5, \"#f7f7f7\"], [0.6, \"#e6f5d0\"], [0.7, \"#b8e186\"], [0.8, \"#7fbc41\"], [0.9, \"#4d9221\"], [1, \"#276419\"]], \"sequential\": [[0.0, \"#0d0887\"], [0.1111111111111111, \"#46039f\"], [0.2222222222222222, \"#7201a8\"], [0.3333333333333333, \"#9c179e\"], [0.4444444444444444, \"#bd3786\"], [0.5555555555555556, \"#d8576b\"], [0.6666666666666666, \"#ed7953\"], [0.7777777777777778, \"#fb9f3a\"], [0.8888888888888888, \"#fdca26\"], [1.0, \"#f0f921\"]], \"sequentialminus\": [[0.0, \"#0d0887\"], [0.1111111111111111, \"#46039f\"], [0.2222222222222222, \"#7201a8\"], [0.3333333333333333, \"#9c179e\"], [0.4444444444444444, \"#bd3786\"], [0.5555555555555556, \"#d8576b\"], [0.6666666666666666, \"#ed7953\"], [0.7777777777777778, \"#fb9f3a\"], [0.8888888888888888, \"#fdca26\"], [1.0, \"#f0f921\"]]}, \"colorway\": [\"#636efa\", \"#EF553B\", \"#00cc96\", \"#ab63fa\", \"#FFA15A\", \"#19d3f3\", \"#FF6692\", \"#B6E880\", \"#FF97FF\", \"#FECB52\"], \"font\": {\"color\": \"#2a3f5f\"}, \"geo\": {\"bgcolor\": \"white\", \"lakecolor\": \"white\", \"landcolor\": \"#E5ECF6\", \"showlakes\": true, \"showland\": true, \"subunitcolor\": \"white\"}, \"hoverlabel\": {\"align\": \"left\"}, \"hovermode\": \"closest\", \"mapbox\": {\"style\": \"light\"}, \"paper_bgcolor\": \"white\", \"plot_bgcolor\": \"#E5ECF6\", \"polar\": {\"angularaxis\": {\"gridcolor\": \"white\", \"linecolor\": \"white\", \"ticks\": \"\"}, \"bgcolor\": \"#E5ECF6\", \"radialaxis\": {\"gridcolor\": \"white\", \"linecolor\": \"white\", \"ticks\": \"\"}}, \"scene\": {\"xaxis\": {\"backgroundcolor\": \"#E5ECF6\", \"gridcolor\": \"white\", \"gridwidth\": 2, \"linecolor\": \"white\", \"showbackground\": true, \"ticks\": \"\", \"zerolinecolor\": \"white\"}, \"yaxis\": {\"backgroundcolor\": \"#E5ECF6\", \"gridcolor\": \"white\", \"gridwidth\": 2, \"linecolor\": \"white\", \"showbackground\": true, \"ticks\": \"\", \"zerolinecolor\": \"white\"}, \"zaxis\": {\"backgroundcolor\": \"#E5ECF6\", \"gridcolor\": \"white\", \"gridwidth\": 2, \"linecolor\": \"white\", \"showbackground\": true, \"ticks\": \"\", \"zerolinecolor\": \"white\"}}, \"shapedefaults\": {\"line\": {\"color\": \"#2a3f5f\"}}, \"ternary\": {\"aaxis\": {\"gridcolor\": \"white\", \"linecolor\": \"white\", \"ticks\": \"\"}, \"baxis\": {\"gridcolor\": \"white\", \"linecolor\": \"white\", \"ticks\": \"\"}, \"bgcolor\": \"#E5ECF6\", \"caxis\": {\"gridcolor\": \"white\", \"linecolor\": \"white\", \"ticks\": \"\"}}, \"title\": {\"x\": 0.05}, \"xaxis\": {\"automargin\": true, \"gridcolor\": \"white\", \"linecolor\": \"white\", \"ticks\": \"\", \"title\": {\"standoff\": 15}, \"zerolinecolor\": \"white\", \"zerolinewidth\": 2}, \"yaxis\": {\"automargin\": true, \"gridcolor\": \"white\", \"linecolor\": \"white\", \"ticks\": \"\", \"title\": {\"standoff\": 15}, \"zerolinecolor\": \"white\", \"zerolinewidth\": 2}}}, \"title\": {\"text\": \"Deaths as of 26 April\"}, \"xaxis\": {\"anchor\": \"y\", \"categoryarray\": [\"Andaman and Nicobar Islands\", \"Andhra Pradesh\", \"Arunachal Pradesh\", \"Assam\", \"Bihar\", \"Chandigarh\", \"Chhattisgarh\", \"Delhi\", \"Goa\", \"Gujarat\", \"Haryana\", \"Himachal Pradesh\", \"Jammu and Kashmir\", \"Jharkhand\", \"Karnataka\", \"Kerala\", \"Ladakh\", \"Madhya Pradesh\", \"Maharashtra\", \"Manipur\", \"Meghalaya\", \"Mizoram\", \"Odisha\", \"Puducherry\", \"Punjab\", \"Rajasthan\", \"Tamil Nadu\", \"Telengana\", \"Tripura\", \"Uttarakhand\", \"Uttar Pradesh\", \"West Bengal\"], \"categoryorder\": \"array\", \"domain\": [0.0, 1.0], \"title\": {\"text\": \"State/UnionTerritory\"}}, \"yaxis\": {\"anchor\": \"x\", \"domain\": [0.0, 1.0], \"title\": {\"text\": \"Deaths\"}}},\n",
       "                        {\"responsive\": true}\n",
       "                    ).then(function(){\n",
       "                            \n",
       "var gd = document.getElementById('0ee38c20-4dad-4d05-8d5d-694d49346b7f');\n",
       "var x = new MutationObserver(function (mutations, observer) {{\n",
       "        var display = window.getComputedStyle(gd).display;\n",
       "        if (!display || display === 'none') {{\n",
       "            console.log([gd, 'removed!']);\n",
       "            Plotly.purge(gd);\n",
       "            observer.disconnect();\n",
       "        }}\n",
       "}});\n",
       "\n",
       "// Listen for the removal of the full notebook cells\n",
       "var notebookContainer = gd.closest('#notebook-container');\n",
       "if (notebookContainer) {{\n",
       "    x.observe(notebookContainer, {childList: true});\n",
       "}}\n",
       "\n",
       "// Listen for the clearing of the current output cell\n",
       "var outputEl = gd.closest('.output');\n",
       "if (outputEl) {{\n",
       "    x.observe(outputEl, {childList: true});\n",
       "}}\n",
       "\n",
       "                        })\n",
       "                };\n",
       "                });\n",
       "            </script>\n",
       "        </div>"
      ]
     },
     "metadata": {},
     "output_type": "display_data"
    }
   ],
   "source": [
    "df2= df_train[df_train['Date']=='26/04/20']\n",
    "fig = px.bar(df2, x='State/UnionTerritory', y='Deaths', color='State/UnionTerritory',height=700,title='Deaths as of 26 April')\n",
    "fig.show()"
   ]
  },
  {
   "cell_type": "code",
   "execution_count": 32,
   "metadata": {},
   "outputs": [],
   "source": [
    "fig = px.line(df_train, x='Date', y='Confirmed',height=700,line_shape=\"spline\", render_mode=\"svg\",title='Increase of cases with date')"
   ]
  },
  {
   "cell_type": "code",
   "execution_count": 28,
   "metadata": {},
   "outputs": [
    {
     "data": {
      "application/vnd.plotly.v1+json": {
       "config": {
        "plotlyServerURL": "https://plot.ly"
       },
       "data": [
        {
         "hoverlabel": {
          "namelength": 0
         },
         "hovertemplate": "Date=%{x}<br>Confirmed=%{y}",
         "legendgroup": "",
         "line": {
          "color": "#636efa",
          "dash": "solid",
          "shape": "spline"
         },
         "mode": "lines",
         "name": "",
         "showlegend": false,
         "type": "scatter",
         "x": [
          "30/01/20",
          "31/01/20",
          "01/02/20",
          "02/02/20",
          "03/02/20",
          "04/02/20",
          "05/02/20",
          "06/02/20",
          "07/02/20",
          "08/02/20",
          "09/02/20",
          "10/02/20",
          "11/02/20",
          "12/02/20",
          "13/02/20",
          "14/02/20",
          "15/02/20",
          "16/02/20",
          "17/02/20",
          "18/02/20",
          "19/02/20",
          "20/02/20",
          "21/02/20",
          "22/02/20",
          "23/02/20",
          "24/02/20",
          "25/02/20",
          "26/02/20",
          "27/02/20",
          "28/02/20",
          "29/02/20",
          "01/03/20",
          "02/03/20",
          "02/03/20",
          "02/03/20",
          "03/03/20",
          "03/03/20",
          "03/03/20",
          "03/03/20",
          "04/03/20",
          "04/03/20",
          "04/03/20",
          "04/03/20",
          "04/03/20",
          "04/03/20",
          "05/03/20",
          "05/03/20",
          "05/03/20",
          "05/03/20",
          "05/03/20",
          "05/03/20",
          "06/03/20",
          "06/03/20",
          "06/03/20",
          "06/03/20",
          "06/03/20",
          "06/03/20",
          "07/03/20",
          "07/03/20",
          "07/03/20",
          "07/03/20",
          "07/03/20",
          "07/03/20",
          "07/03/20",
          "07/03/20",
          "08/03/20",
          "08/03/20",
          "08/03/20",
          "08/03/20",
          "08/03/20",
          "08/03/20",
          "08/03/20",
          "08/03/20",
          "09/03/20",
          "09/03/20",
          "09/03/20",
          "09/03/20",
          "09/03/20",
          "09/03/20",
          "09/03/20",
          "09/03/20",
          "09/03/20",
          "09/03/20",
          "09/03/20",
          "09/03/20",
          "10/03/20",
          "10/03/20",
          "10/03/20",
          "10/03/20",
          "10/03/20",
          "10/03/20",
          "10/03/20",
          "10/03/20",
          "10/03/20",
          "10/03/20",
          "10/03/20",
          "10/03/20",
          "11/03/20",
          "11/03/20",
          "11/03/20",
          "11/03/20",
          "11/03/20",
          "11/03/20",
          "11/03/20",
          "11/03/20",
          "11/03/20",
          "11/03/20",
          "11/03/20",
          "11/03/20",
          "12/03/20",
          "12/03/20",
          "12/03/20",
          "12/03/20",
          "12/03/20",
          "12/03/20",
          "12/03/20",
          "12/03/20",
          "12/03/20",
          "12/03/20",
          "12/03/20",
          "12/03/20",
          "12/03/20",
          "13/03/20",
          "13/03/20",
          "13/03/20",
          "13/03/20",
          "13/03/20",
          "13/03/20",
          "13/03/20",
          "13/03/20",
          "13/03/20",
          "13/03/20",
          "13/03/20",
          "13/03/20",
          "13/03/20",
          "14/03/20",
          "14/03/20",
          "14/03/20",
          "14/03/20",
          "14/03/20",
          "14/03/20",
          "14/03/20",
          "14/03/20",
          "14/03/20",
          "14/03/20",
          "14/03/20",
          "14/03/20",
          "14/03/20",
          "15/03/20",
          "15/03/20",
          "15/03/20",
          "15/03/20",
          "15/03/20",
          "15/03/20",
          "15/03/20",
          "15/03/20",
          "15/03/20",
          "15/03/20",
          "15/03/20",
          "15/03/20",
          "15/03/20",
          "15/03/20",
          "16/03/20",
          "16/03/20",
          "16/03/20",
          "16/03/20",
          "16/03/20",
          "16/03/20",
          "16/03/20",
          "16/03/20",
          "16/03/20",
          "16/03/20",
          "16/03/20",
          "16/03/20",
          "16/03/20",
          "16/03/20",
          "16/03/20",
          "17/03/20",
          "17/03/20",
          "17/03/20",
          "17/03/20",
          "17/03/20",
          "17/03/20",
          "17/03/20",
          "17/03/20",
          "17/03/20",
          "17/03/20",
          "17/03/20",
          "17/03/20",
          "17/03/20",
          "17/03/20",
          "17/03/20",
          "18/03/20",
          "18/03/20",
          "18/03/20",
          "18/03/20",
          "18/03/20",
          "18/03/20",
          "18/03/20",
          "18/03/20",
          "18/03/20",
          "18/03/20",
          "18/03/20",
          "18/03/20",
          "18/03/20",
          "18/03/20",
          "18/03/20",
          "18/03/20",
          "18/03/20",
          "19/03/20",
          "19/03/20",
          "19/03/20",
          "19/03/20",
          "19/03/20",
          "19/03/20",
          "19/03/20",
          "19/03/20",
          "19/03/20",
          "19/03/20",
          "19/03/20",
          "19/03/20",
          "19/03/20",
          "19/03/20",
          "19/03/20",
          "19/03/20",
          "19/03/20",
          "19/03/20",
          "19/03/20",
          "20/03/20",
          "20/03/20",
          "20/03/20",
          "20/03/20",
          "20/03/20",
          "20/03/20",
          "20/03/20",
          "20/03/20",
          "20/03/20",
          "20/03/20",
          "20/03/20",
          "20/03/20",
          "20/03/20",
          "20/03/20",
          "20/03/20",
          "20/03/20",
          "20/03/20",
          "20/03/20",
          "20/03/20",
          "20/03/20",
          "21/03/20",
          "21/03/20",
          "21/03/20",
          "21/03/20",
          "21/03/20",
          "21/03/20",
          "21/03/20",
          "21/03/20",
          "21/03/20",
          "21/03/20",
          "21/03/20",
          "21/03/20",
          "21/03/20",
          "21/03/20",
          "21/03/20",
          "21/03/20",
          "21/03/20",
          "21/03/20",
          "21/03/20",
          "21/03/20",
          "21/03/20",
          "21/03/20",
          "22/03/20",
          "22/03/20",
          "22/03/20",
          "22/03/20",
          "22/03/20",
          "22/03/20",
          "22/03/20",
          "22/03/20",
          "22/03/20",
          "22/03/20",
          "22/03/20",
          "22/03/20",
          "22/03/20",
          "22/03/20",
          "22/03/20",
          "22/03/20",
          "22/03/20",
          "22/03/20",
          "22/03/20",
          "22/03/20",
          "22/03/20",
          "22/03/20",
          "22/03/20",
          "23/03/20",
          "23/03/20",
          "23/03/20",
          "23/03/20",
          "23/03/20",
          "23/03/20",
          "23/03/20",
          "23/03/20",
          "23/03/20",
          "23/03/20",
          "23/03/20",
          "23/03/20",
          "23/03/20",
          "23/03/20",
          "23/03/20",
          "23/03/20",
          "23/03/20",
          "23/03/20",
          "23/03/20",
          "23/03/20",
          "23/03/20",
          "23/03/20",
          "23/03/20",
          "24/03/20",
          "24/03/20",
          "24/03/20",
          "24/03/20",
          "24/03/20",
          "24/03/20",
          "24/03/20",
          "24/03/20",
          "24/03/20",
          "24/03/20",
          "24/03/20",
          "24/03/20",
          "24/03/20",
          "24/03/20",
          "24/03/20",
          "24/03/20",
          "24/03/20",
          "24/03/20",
          "24/03/20",
          "24/03/20",
          "24/03/20",
          "24/03/20",
          "24/03/20",
          "24/03/20",
          "25/03/20",
          "25/03/20",
          "25/03/20",
          "25/03/20",
          "25/03/20",
          "25/03/20",
          "25/03/20",
          "25/03/20",
          "25/03/20",
          "25/03/20",
          "25/03/20",
          "25/03/20",
          "25/03/20",
          "25/03/20",
          "25/03/20",
          "25/03/20",
          "25/03/20",
          "25/03/20",
          "25/03/20",
          "25/03/20",
          "25/03/20",
          "25/03/20",
          "25/03/20",
          "25/03/20",
          "25/03/20",
          "26/03/20",
          "26/03/20",
          "26/03/20",
          "26/03/20",
          "26/03/20",
          "26/03/20",
          "26/03/20",
          "26/03/20",
          "26/03/20",
          "26/03/20",
          "26/03/20",
          "26/03/20",
          "26/03/20",
          "26/03/20",
          "26/03/20",
          "26/03/20",
          "26/03/20",
          "26/03/20",
          "26/03/20",
          "26/03/20",
          "26/03/20",
          "26/03/20",
          "26/03/20",
          "26/03/20",
          "26/03/20",
          "26/03/20",
          "26/03/20",
          "27/03/20",
          "27/03/20",
          "27/03/20",
          "27/03/20",
          "27/03/20",
          "27/03/20",
          "27/03/20",
          "27/03/20",
          "27/03/20",
          "27/03/20",
          "27/03/20",
          "27/03/20",
          "27/03/20",
          "27/03/20",
          "27/03/20",
          "27/03/20",
          "27/03/20",
          "27/03/20",
          "27/03/20",
          "27/03/20",
          "27/03/20",
          "27/03/20",
          "27/03/20",
          "27/03/20",
          "27/03/20",
          "27/03/20",
          "27/03/20",
          "28/03/20",
          "28/03/20",
          "28/03/20",
          "28/03/20",
          "28/03/20",
          "28/03/20",
          "28/03/20",
          "28/03/20",
          "28/03/20",
          "28/03/20",
          "28/03/20",
          "28/03/20",
          "28/03/20",
          "28/03/20",
          "28/03/20",
          "28/03/20",
          "28/03/20",
          "28/03/20",
          "28/03/20",
          "28/03/20",
          "28/03/20",
          "28/03/20",
          "28/03/20",
          "28/03/20",
          "28/03/20",
          "28/03/20",
          "28/03/20",
          "29/03/20",
          "29/03/20",
          "29/03/20",
          "29/03/20",
          "29/03/20",
          "29/03/20",
          "29/03/20",
          "29/03/20",
          "29/03/20",
          "29/03/20",
          "29/03/20",
          "29/03/20",
          "29/03/20",
          "29/03/20",
          "29/03/20",
          "29/03/20",
          "29/03/20",
          "29/03/20",
          "29/03/20",
          "29/03/20",
          "29/03/20",
          "29/03/20",
          "29/03/20",
          "29/03/20",
          "29/03/20",
          "29/03/20",
          "29/03/20",
          "30/03/20",
          "30/03/20",
          "30/03/20",
          "30/03/20",
          "30/03/20",
          "30/03/20",
          "30/03/20",
          "30/03/20",
          "30/03/20",
          "30/03/20",
          "30/03/20",
          "30/03/20",
          "30/03/20",
          "30/03/20",
          "30/03/20",
          "30/03/20",
          "30/03/20",
          "30/03/20",
          "30/03/20",
          "30/03/20",
          "30/03/20",
          "30/03/20",
          "30/03/20",
          "30/03/20",
          "30/03/20",
          "30/03/20",
          "30/03/20",
          "30/03/20",
          "31/03/20",
          "31/03/20",
          "31/03/20",
          "31/03/20",
          "31/03/20",
          "31/03/20",
          "31/03/20",
          "31/03/20",
          "31/03/20",
          "31/03/20",
          "31/03/20",
          "31/03/20",
          "31/03/20",
          "31/03/20",
          "31/03/20",
          "31/03/20",
          "31/03/20",
          "31/03/20",
          "31/03/20",
          "31/03/20",
          "31/03/20",
          "31/03/20",
          "31/03/20",
          "31/03/20",
          "31/03/20",
          "31/03/20",
          "31/03/20",
          "31/03/20",
          "01/04/20",
          "01/04/20",
          "01/04/20",
          "01/04/20",
          "01/04/20",
          "01/04/20",
          "01/04/20",
          "01/04/20",
          "01/04/20",
          "01/04/20",
          "01/04/20",
          "01/04/20",
          "01/04/20",
          "01/04/20",
          "01/04/20",
          "01/04/20",
          "01/04/20",
          "01/04/20",
          "01/04/20",
          "01/04/20",
          "01/04/20",
          "01/04/20",
          "01/04/20",
          "01/04/20",
          "01/04/20",
          "01/04/20",
          "01/04/20",
          "01/04/20",
          "01/04/20",
          "02/04/20",
          "02/04/20",
          "02/04/20",
          "02/04/20",
          "02/04/20",
          "02/04/20",
          "02/04/20",
          "02/04/20",
          "02/04/20",
          "02/04/20",
          "02/04/20",
          "02/04/20",
          "02/04/20",
          "02/04/20",
          "02/04/20",
          "02/04/20",
          "02/04/20",
          "02/04/20",
          "02/04/20",
          "02/04/20",
          "02/04/20",
          "02/04/20",
          "02/04/20",
          "02/04/20",
          "02/04/20",
          "02/04/20",
          "02/04/20",
          "02/04/20",
          "02/04/20",
          "03/04/20",
          "03/04/20",
          "03/04/20",
          "03/04/20",
          "03/04/20",
          "03/04/20",
          "03/04/20",
          "03/04/20",
          "03/04/20",
          "03/04/20",
          "03/04/20",
          "03/04/20",
          "03/04/20",
          "03/04/20",
          "03/04/20",
          "03/04/20",
          "03/04/20",
          "03/04/20",
          "03/04/20",
          "03/04/20",
          "03/04/20",
          "03/04/20",
          "03/04/20",
          "03/04/20",
          "03/04/20",
          "03/04/20",
          "03/04/20",
          "03/04/20",
          "03/04/20",
          "03/04/20",
          "03/04/20",
          "04/04/20",
          "04/04/20",
          "04/04/20",
          "04/04/20",
          "04/04/20",
          "04/04/20",
          "04/04/20",
          "04/04/20",
          "04/04/20",
          "04/04/20",
          "04/04/20",
          "04/04/20",
          "04/04/20",
          "04/04/20",
          "04/04/20",
          "04/04/20",
          "04/04/20",
          "04/04/20",
          "04/04/20",
          "04/04/20",
          "04/04/20",
          "04/04/20",
          "04/04/20",
          "04/04/20",
          "04/04/20",
          "04/04/20",
          "04/04/20",
          "04/04/20",
          "04/04/20",
          "04/04/20",
          "05/04/20",
          "05/04/20",
          "05/04/20",
          "05/04/20",
          "05/04/20",
          "05/04/20",
          "05/04/20",
          "05/04/20",
          "05/04/20",
          "05/04/20",
          "05/04/20",
          "05/04/20",
          "05/04/20",
          "05/04/20",
          "05/04/20",
          "05/04/20",
          "05/04/20",
          "05/04/20",
          "05/04/20",
          "05/04/20",
          "05/04/20",
          "05/04/20",
          "05/04/20",
          "05/04/20",
          "05/04/20",
          "05/04/20",
          "05/04/20",
          "05/04/20",
          "05/04/20",
          "05/04/20",
          "06/04/20",
          "06/04/20",
          "06/04/20",
          "06/04/20",
          "06/04/20",
          "06/04/20",
          "06/04/20",
          "06/04/20",
          "06/04/20",
          "06/04/20",
          "06/04/20",
          "06/04/20",
          "06/04/20",
          "06/04/20",
          "06/04/20",
          "06/04/20",
          "06/04/20",
          "06/04/20",
          "06/04/20",
          "06/04/20",
          "06/04/20",
          "06/04/20",
          "06/04/20",
          "06/04/20",
          "06/04/20",
          "06/04/20",
          "06/04/20",
          "06/04/20",
          "06/04/20",
          "06/04/20",
          "07/04/20",
          "07/04/20",
          "07/04/20",
          "07/04/20",
          "07/04/20",
          "07/04/20",
          "07/04/20",
          "07/04/20",
          "07/04/20",
          "07/04/20",
          "07/04/20",
          "07/04/20",
          "07/04/20",
          "07/04/20",
          "07/04/20",
          "07/04/20",
          "07/04/20",
          "07/04/20",
          "07/04/20",
          "07/04/20",
          "07/04/20",
          "07/04/20",
          "07/04/20",
          "07/04/20",
          "07/04/20",
          "07/04/20",
          "07/04/20",
          "07/04/20",
          "07/04/20",
          "07/04/20",
          "07/04/20",
          "08/04/20",
          "08/04/20",
          "08/04/20",
          "08/04/20",
          "08/04/20",
          "08/04/20",
          "08/04/20",
          "08/04/20",
          "08/04/20",
          "08/04/20",
          "08/04/20",
          "08/04/20",
          "08/04/20",
          "08/04/20",
          "08/04/20",
          "08/04/20",
          "08/04/20",
          "08/04/20",
          "08/04/20",
          "08/04/20",
          "08/04/20",
          "08/04/20",
          "08/04/20",
          "08/04/20",
          "08/04/20",
          "08/04/20",
          "08/04/20",
          "08/04/20",
          "08/04/20",
          "08/04/20",
          "08/04/20",
          "09/04/20",
          "09/04/20",
          "09/04/20",
          "09/04/20",
          "09/04/20",
          "09/04/20",
          "09/04/20",
          "09/04/20",
          "09/04/20",
          "09/04/20",
          "09/04/20",
          "09/04/20",
          "09/04/20",
          "09/04/20",
          "09/04/20",
          "09/04/20",
          "09/04/20",
          "09/04/20",
          "09/04/20",
          "09/04/20",
          "09/04/20",
          "09/04/20",
          "09/04/20",
          "09/04/20",
          "09/04/20",
          "09/04/20",
          "09/04/20",
          "09/04/20",
          "09/04/20",
          "09/04/20",
          "09/04/20",
          "10/04/20",
          "10/04/20",
          "10/04/20",
          "10/04/20",
          "10/04/20",
          "10/04/20",
          "10/04/20",
          "10/04/20",
          "10/04/20",
          "10/04/20",
          "10/04/20",
          "10/04/20",
          "10/04/20",
          "10/04/20",
          "10/04/20",
          "10/04/20",
          "10/04/20",
          "10/04/20",
          "10/04/20",
          "10/04/20",
          "10/04/20",
          "10/04/20",
          "10/04/20",
          "10/04/20",
          "10/04/20",
          "10/04/20",
          "10/04/20",
          "10/04/20",
          "10/04/20",
          "10/04/20",
          "10/04/20",
          "11/04/20",
          "11/04/20",
          "11/04/20",
          "11/04/20",
          "11/04/20",
          "11/04/20",
          "11/04/20",
          "11/04/20",
          "11/04/20",
          "11/04/20",
          "11/04/20",
          "11/04/20",
          "11/04/20",
          "11/04/20",
          "11/04/20",
          "11/04/20",
          "11/04/20",
          "11/04/20",
          "11/04/20",
          "11/04/20",
          "11/04/20",
          "11/04/20",
          "11/04/20",
          "11/04/20",
          "11/04/20",
          "11/04/20",
          "11/04/20",
          "11/04/20",
          "11/04/20",
          "11/04/20",
          "11/04/20",
          "12/04/20",
          "12/04/20",
          "12/04/20",
          "12/04/20",
          "12/04/20",
          "12/04/20",
          "12/04/20",
          "12/04/20",
          "12/04/20",
          "12/04/20",
          "12/04/20",
          "12/04/20",
          "12/04/20",
          "12/04/20",
          "12/04/20",
          "12/04/20",
          "12/04/20",
          "12/04/20",
          "12/04/20",
          "12/04/20",
          "12/04/20",
          "12/04/20",
          "12/04/20",
          "12/04/20",
          "12/04/20",
          "12/04/20",
          "12/04/20",
          "12/04/20",
          "12/04/20",
          "12/04/20",
          "12/04/20",
          "13/04/20",
          "13/04/20",
          "13/04/20",
          "13/04/20",
          "13/04/20",
          "13/04/20",
          "13/04/20",
          "13/04/20",
          "13/04/20",
          "13/04/20",
          "13/04/20",
          "13/04/20",
          "13/04/20",
          "13/04/20",
          "13/04/20",
          "13/04/20",
          "13/04/20",
          "13/04/20",
          "13/04/20",
          "13/04/20",
          "13/04/20",
          "13/04/20",
          "13/04/20",
          "13/04/20",
          "13/04/20",
          "13/04/20",
          "13/04/20",
          "13/04/20",
          "13/04/20",
          "13/04/20",
          "13/04/20",
          "13/04/20",
          "14/04/20",
          "14/04/20",
          "14/04/20",
          "14/04/20",
          "14/04/20",
          "14/04/20",
          "14/04/20",
          "14/04/20",
          "14/04/20",
          "14/04/20",
          "14/04/20",
          "14/04/20",
          "14/04/20",
          "14/04/20",
          "14/04/20",
          "14/04/20",
          "14/04/20",
          "14/04/20",
          "14/04/20",
          "14/04/20",
          "14/04/20",
          "14/04/20",
          "14/04/20",
          "14/04/20",
          "14/04/20",
          "14/04/20",
          "14/04/20",
          "14/04/20",
          "14/04/20",
          "14/04/20",
          "14/04/20",
          "14/04/20",
          "14/04/20",
          "15/04/20",
          "15/04/20",
          "15/04/20",
          "15/04/20",
          "15/04/20",
          "15/04/20",
          "15/04/20",
          "15/04/20",
          "15/04/20",
          "15/04/20",
          "15/04/20",
          "15/04/20",
          "15/04/20",
          "15/04/20",
          "15/04/20",
          "15/04/20",
          "15/04/20",
          "15/04/20",
          "15/04/20",
          "15/04/20",
          "15/04/20",
          "15/04/20",
          "15/04/20",
          "15/04/20",
          "15/04/20",
          "15/04/20",
          "15/04/20",
          "15/04/20",
          "15/04/20",
          "15/04/20",
          "15/04/20",
          "15/04/20",
          "15/04/20",
          "16/04/20",
          "16/04/20",
          "16/04/20",
          "16/04/20",
          "16/04/20",
          "16/04/20",
          "16/04/20",
          "16/04/20",
          "16/04/20",
          "16/04/20",
          "16/04/20",
          "16/04/20",
          "16/04/20",
          "16/04/20",
          "16/04/20",
          "16/04/20",
          "16/04/20",
          "16/04/20",
          "16/04/20",
          "16/04/20",
          "16/04/20",
          "16/04/20",
          "16/04/20",
          "16/04/20",
          "16/04/20",
          "16/04/20",
          "16/04/20",
          "16/04/20",
          "16/04/20",
          "16/04/20",
          "16/04/20",
          "16/04/20",
          "16/04/20",
          "17/04/20",
          "17/04/20",
          "17/04/20",
          "17/04/20",
          "17/04/20",
          "17/04/20",
          "17/04/20",
          "17/04/20",
          "17/04/20",
          "17/04/20",
          "17/04/20",
          "17/04/20",
          "17/04/20",
          "17/04/20",
          "17/04/20",
          "17/04/20",
          "17/04/20",
          "17/04/20",
          "17/04/20",
          "17/04/20",
          "17/04/20",
          "17/04/20",
          "17/04/20",
          "17/04/20",
          "17/04/20",
          "17/04/20",
          "17/04/20",
          "17/04/20",
          "17/04/20",
          "17/04/20",
          "17/04/20",
          "17/04/20",
          "17/04/20",
          "18/04/20",
          "18/04/20",
          "18/04/20",
          "18/04/20",
          "18/04/20",
          "18/04/20",
          "18/04/20",
          "18/04/20",
          "18/04/20",
          "18/04/20",
          "18/04/20",
          "18/04/20",
          "18/04/20",
          "18/04/20",
          "18/04/20",
          "18/04/20",
          "18/04/20",
          "18/04/20",
          "18/04/20",
          "18/04/20",
          "18/04/20",
          "18/04/20",
          "18/04/20",
          "18/04/20",
          "18/04/20",
          "18/04/20",
          "18/04/20",
          "18/04/20",
          "18/04/20",
          "18/04/20",
          "18/04/20",
          "18/04/20",
          "18/04/20",
          "19/04/20",
          "19/04/20",
          "19/04/20",
          "19/04/20",
          "19/04/20",
          "19/04/20",
          "19/04/20",
          "19/04/20",
          "19/04/20",
          "19/04/20",
          "19/04/20",
          "19/04/20",
          "19/04/20",
          "19/04/20",
          "19/04/20",
          "19/04/20",
          "19/04/20",
          "19/04/20",
          "19/04/20",
          "19/04/20",
          "19/04/20",
          "19/04/20",
          "19/04/20",
          "19/04/20",
          "19/04/20",
          "19/04/20",
          "19/04/20",
          "19/04/20",
          "19/04/20",
          "19/04/20",
          "19/04/20",
          "19/04/20",
          "19/04/20",
          "20/04/20",
          "20/04/20",
          "20/04/20",
          "20/04/20",
          "20/04/20",
          "20/04/20",
          "20/04/20",
          "20/04/20",
          "20/04/20",
          "20/04/20",
          "20/04/20",
          "20/04/20",
          "20/04/20",
          "20/04/20",
          "20/04/20",
          "20/04/20",
          "20/04/20",
          "20/04/20",
          "20/04/20",
          "20/04/20",
          "20/04/20",
          "20/04/20",
          "20/04/20",
          "20/04/20",
          "20/04/20",
          "20/04/20",
          "20/04/20",
          "20/04/20",
          "20/04/20",
          "20/04/20",
          "20/04/20",
          "20/04/20",
          "20/04/20",
          "21/04/20",
          "21/04/20",
          "21/04/20",
          "21/04/20",
          "21/04/20",
          "21/04/20",
          "21/04/20",
          "21/04/20",
          "21/04/20",
          "21/04/20",
          "21/04/20",
          "21/04/20",
          "21/04/20",
          "21/04/20",
          "21/04/20",
          "21/04/20",
          "21/04/20",
          "21/04/20",
          "21/04/20",
          "21/04/20",
          "21/04/20",
          "21/04/20",
          "21/04/20",
          "21/04/20",
          "21/04/20",
          "21/04/20",
          "21/04/20",
          "21/04/20",
          "21/04/20",
          "21/04/20",
          "21/04/20",
          "21/04/20",
          "21/04/20",
          "22/04/20",
          "22/04/20",
          "22/04/20",
          "22/04/20",
          "22/04/20",
          "22/04/20",
          "22/04/20",
          "22/04/20",
          "22/04/20",
          "22/04/20",
          "22/04/20",
          "22/04/20",
          "22/04/20",
          "22/04/20",
          "22/04/20",
          "22/04/20",
          "22/04/20",
          "22/04/20",
          "22/04/20",
          "22/04/20",
          "22/04/20",
          "22/04/20",
          "22/04/20",
          "22/04/20",
          "22/04/20",
          "22/04/20",
          "22/04/20",
          "22/04/20",
          "22/04/20",
          "22/04/20",
          "22/04/20",
          "22/04/20",
          "23/04/20",
          "23/04/20",
          "23/04/20",
          "23/04/20",
          "23/04/20",
          "23/04/20",
          "23/04/20",
          "23/04/20",
          "23/04/20",
          "23/04/20",
          "23/04/20",
          "23/04/20",
          "23/04/20",
          "23/04/20",
          "23/04/20",
          "23/04/20",
          "23/04/20",
          "23/04/20",
          "23/04/20",
          "23/04/20",
          "23/04/20",
          "23/04/20",
          "23/04/20",
          "23/04/20",
          "23/04/20",
          "23/04/20",
          "23/04/20",
          "23/04/20",
          "23/04/20",
          "23/04/20",
          "23/04/20",
          "23/04/20",
          "24/04/20",
          "24/04/20",
          "24/04/20",
          "24/04/20",
          "24/04/20",
          "24/04/20",
          "24/04/20",
          "24/04/20",
          "24/04/20",
          "24/04/20",
          "24/04/20",
          "24/04/20",
          "24/04/20",
          "24/04/20",
          "24/04/20",
          "24/04/20",
          "24/04/20",
          "24/04/20",
          "24/04/20",
          "24/04/20",
          "24/04/20",
          "24/04/20",
          "24/04/20",
          "24/04/20",
          "24/04/20",
          "24/04/20",
          "24/04/20",
          "24/04/20",
          "24/04/20",
          "24/04/20",
          "24/04/20",
          "24/04/20",
          "25/04/20",
          "25/04/20",
          "25/04/20",
          "25/04/20",
          "25/04/20",
          "25/04/20",
          "25/04/20",
          "25/04/20",
          "25/04/20",
          "25/04/20",
          "25/04/20",
          "25/04/20",
          "25/04/20",
          "25/04/20",
          "25/04/20",
          "25/04/20",
          "25/04/20",
          "25/04/20",
          "25/04/20",
          "25/04/20",
          "25/04/20",
          "25/04/20",
          "25/04/20",
          "25/04/20",
          "25/04/20",
          "25/04/20",
          "25/04/20",
          "25/04/20",
          "25/04/20",
          "25/04/20",
          "25/04/20",
          "25/04/20",
          "26/04/20",
          "26/04/20",
          "26/04/20",
          "26/04/20",
          "26/04/20",
          "26/04/20",
          "26/04/20",
          "26/04/20",
          "26/04/20",
          "26/04/20",
          "26/04/20",
          "26/04/20",
          "26/04/20",
          "26/04/20",
          "26/04/20",
          "26/04/20",
          "26/04/20",
          "26/04/20",
          "26/04/20",
          "26/04/20",
          "26/04/20",
          "26/04/20",
          "26/04/20",
          "26/04/20",
          "26/04/20",
          "26/04/20",
          "26/04/20",
          "26/04/20",
          "26/04/20",
          "26/04/20",
          "26/04/20",
          "26/04/20"
         ],
         "xaxis": "x",
         "y": [
          1,
          1,
          2,
          3,
          3,
          3,
          3,
          3,
          3,
          3,
          3,
          3,
          3,
          3,
          3,
          3,
          3,
          3,
          3,
          3,
          3,
          3,
          3,
          3,
          3,
          3,
          3,
          3,
          3,
          3,
          3,
          3,
          1,
          3,
          1,
          1,
          1,
          3,
          1,
          6,
          3,
          2,
          1,
          1,
          15,
          2,
          2,
          3,
          15,
          1,
          7,
          3,
          2,
          3,
          15,
          7,
          1,
          3,
          7,
          2,
          1,
          1,
          3,
          2,
          15,
          2,
          1,
          1,
          15,
          8,
          2,
          3,
          7,
          2,
          1,
          9,
          2,
          1,
          15,
          1,
          1,
          1,
          7,
          2,
          4,
          7,
          2,
          4,
          2,
          4,
          15,
          5,
          1,
          15,
          1,
          1,
          1,
          2,
          5,
          14,
          17,
          3,
          1,
          9,
          2,
          1,
          1,
          1,
          4,
          6,
          14,
          17,
          3,
          1,
          11,
          3,
          1,
          1,
          1,
          4,
          11,
          1,
          6,
          14,
          19,
          3,
          1,
          11,
          3,
          1,
          1,
          1,
          6,
          14,
          1,
          7,
          14,
          19,
          3,
          1,
          12,
          3,
          1,
          2,
          1,
          6,
          14,
          1,
          1,
          7,
          14,
          6,
          22,
          32,
          1,
          4,
          1,
          3,
          2,
          3,
          13,
          1,
          1,
          7,
          14,
          6,
          23,
          32,
          1,
          1,
          4,
          1,
          3,
          3,
          4,
          13,
          1,
          1,
          8,
          15,
          11,
          26,
          39,
          1,
          1,
          4,
          1,
          5,
          3,
          6,
          15,
          1,
          1,
          10,
          17,
          11,
          27,
          42,
          1,
          1,
          1,
          4,
          1,
          6,
          3,
          8,
          16,
          1,
          1,
          2,
          1,
          12,
          17,
          14,
          27,
          47,
          1,
          1,
          2,
          7,
          2,
          6,
          1,
          4,
          8,
          19,
          1,
          1,
          3,
          1,
          17,
          5,
          17,
          15,
          28,
          52,
          2,
          1,
          2,
          17,
          3,
          17,
          1,
          4,
          10,
          23,
          3,
          2,
          3,
          1,
          26,
          7,
          17,
          2,
          15,
          40,
          4,
          63,
          2,
          1,
          13,
          17,
          3,
          21,
          1,
          4,
          13,
          24,
          3,
          3,
          5,
          2,
          1,
          29,
          18,
          21,
          2,
          26,
          52,
          4,
          67,
          2,
          1,
          21,
          24,
          7,
          22,
          5,
          4,
          13,
          27,
          3,
          4,
          7,
          2,
          1,
          29,
          29,
          26,
          2,
          33,
          67,
          6,
          74,
          2,
          1,
          21,
          28,
          9,
          32,
          6,
          4,
          13,
          31,
          3,
          7,
          8,
          3,
          1,
          30,
          33,
          28,
          3,
          37,
          95,
          7,
          89,
          1,
          2,
          1,
          29,
          32,
          15,
          35,
          7,
          4,
          13,
          33,
          4,
          9,
          9,
          4,
          1,
          31,
          38,
          28,
          3,
          41,
          109,
          14,
          128,
          1,
          1,
          2,
          1,
          29,
          36,
          18,
          35,
          7,
          7,
          13,
          37,
          4,
          9,
          1,
          11,
          6,
          7,
          6,
          36,
          3,
          43,
          30,
          3,
          13,
          55,
          118,
          13,
          20,
          124,
          1,
          1,
          2,
          1,
          33,
          41,
          26,
          44,
          5,
          41,
          10,
          1,
          12,
          6,
          7,
          6,
          36,
          3,
          43,
          30,
          3,
          13,
          55,
          137,
          13,
          20,
          130,
          1,
          1,
          2,
          1,
          33,
          41,
          29,
          45,
          5,
          41,
          10,
          14,
          6,
          9,
          8,
          6,
          39,
          3,
          45,
          33,
          3,
          20,
          55,
          176,
          13,
          30,
          180,
          1,
          1,
          3,
          1,
          38,
          54,
          40,
          56,
          5,
          55,
          15,
          19,
          9,
          11,
          8,
          7,
          49,
          5,
          58,
          33,
          3,
          31,
          76,
          182,
          13,
          30,
          186,
          1,
          1,
          3,
          1,
          38,
          55,
          49,
          66,
          7,
          65,
          18,
          23,
          9,
          15,
          8,
          7,
          87,
          5,
          69,
          36,
          3,
          48,
          83,
          202,
          13,
          47,
          198,
          1,
          1,
          3,
          1,
          38,
          59,
          67,
          71,
          7,
          82,
          22,
          46,
          40,
          10,
          15,
          13,
          8,
          97,
          5,
          73,
          40,
          3,
          54,
          83,
          234,
          13,
          47,
          216,
          1,
          1,
          3,
          1,
          41,
          74,
          74,
          79,
          7,
          101,
          26,
          38,
          83,
          10,
          1,
          23,
          16,
          9,
          152,
          5,
          82,
          43,
          3,
          62,
          1,
          101,
          241,
          13,
          66,
          302,
          1,
          1,
          4,
          3,
          42,
          93,
          234,
          96,
          7,
          103,
          37,
          86,
          10,
          5,
          24,
          16,
          9,
          219,
          5,
          87,
          43,
          3,
          62,
          1,
          110,
          265,
          13,
          99,
          335,
          1,
          1,
          4,
          3,
          46,
          108,
          234,
          107,
          7,
          113,
          53,
          132,
          10,
          1,
          16,
          29,
          18,
          9,
          219,
          6,
          95,
          49,
          6,
          75,
          2,
          124,
          286,
          14,
          104,
          335,
          2,
          1,
          5,
          5,
          48,
          167,
          309,
          158,
          10,
          172,
          63,
          77,
          161,
          10,
          1,
          24,
          30,
          18,
          9,
          445,
          7,
          105,
          49,
          6,
          75,
          2,
          128,
          295,
          14,
          104,
          490,
          2,
          1,
          5,
          5,
          57,
          200,
          411,
          159,
          16,
          174,
          69,
          190,
          10,
          1,
          26,
          30,
          18,
          9,
          503,
          7,
          122,
          59,
          6,
          106,
          3,
          144,
          306,
          14,
          165,
          490,
          2,
          1,
          20,
          5,
          57,
          200,
          485,
          269,
          22,
          227,
          80,
          226,
          10,
          1,
          26,
          32,
          18,
          10,
          523,
          7,
          144,
          84,
          13,
          109,
          4,
          151,
          314,
          14,
          165,
          748,
          2,
          1,
          21,
          5,
          76,
          274,
          571,
          321,
          26,
          305,
          80,
          266,
          10,
          1,
          26,
          32,
          18,
          10,
          576,
          7,
          165,
          90,
          13,
          116,
          4,
          175,
          327,
          14,
          229,
          868,
          2,
          1,
          42,
          5,
          91,
          288,
          621,
          364,
          1,
          31,
          305,
          91,
          305,
          10,
          1,
          27,
          38,
          18,
          10,
          576,
          7,
          165,
          147,
          18,
          116,
          4,
          175,
          336,
          14,
          229,
          1018,
          2,
          1,
          42,
          5,
          91,
          328,
          690,
          427,
          1,
          31,
          343,
          99,
          348,
          11,
          1,
          28,
          39,
          18,
          10,
          669,
          7,
          179,
          169,
          18,
          158,
          13,
          181,
          345,
          14,
          259,
          1135,
          2,
          1,
          42,
          5,
          101,
          383,
          738,
          442,
          1,
          35,
          410,
          103,
          363,
          11,
          1,
          29,
          60,
          18,
          10,
          898,
          7,
          241,
          169,
          28,
          184,
          13,
          197,
          357,
          15,
          259,
          1364,
          2,
          1,
          44,
          5,
          132,
          463,
          834,
          473,
          1,
          35,
          431,
          116,
          381,
          11,
          1,
          29,
          60,
          18,
          18,
          903,
          7,
          308,
          177,
          28,
          207,
          17,
          214,
          364,
          15,
          443,
          1574,
          2,
          1,
          48,
          7,
          132,
          553,
          911,
          504,
          2,
          35,
          433,
          126,
          381,
          11,
          1,
          29,
          64,
          19,
          25,
          1069,
          7,
          432,
          185,
          32,
          224,
          17,
          226,
          374,
          15,
          564,
          1761,
          2,
          1,
          54,
          7,
          151,
          700,
          969,
          504,
          2,
          35,
          452,
          134,
          432,
          11,
          1,
          31,
          64,
          21,
          31,
          1154,
          7,
          539,
          185,
          32,
          245,
          19,
          247,
          376,
          15,
          604,
          1985,
          2,
          1,
          1,
          54,
          7,
          167,
          812,
          1075,
          562,
          2,
          35,
          483,
          152,
          473,
          11,
          1,
          31,
          66,
          21,
          31,
          1510,
          7,
          617,
          199,
          32,
          270,
          24,
          258,
          379,
          15,
          730,
          2337,
          2,
          1,
          1,
          1,
          55,
          7,
          176,
          879,
          1173,
          624,
          2,
          35,
          657,
          190,
          11,
          503,
          1,
          33,
          70,
          21,
          33,
          1561,
          7,
          695,
          199,
          33,
          278,
          27,
          277,
          387,
          17,
          987,
          2687,
          2,
          7,
          1,
          0,
          60,
          7,
          186,
          1005,
          1204,
          647,
          2,
          37,
          735,
          213,
          11,
          534,
          1,
          33,
          74,
          21,
          33,
          1578,
          7,
          871,
          205,
          35,
          300,
          28,
          315,
          388,
          17,
          1120,
          2919,
          2,
          7,
          1,
          0,
          60,
          7,
          186,
          1023,
          1242,
          698,
          2,
          37,
          773,
          231,
          11,
          572,
          1,
          35,
          83,
          21,
          36,
          1640,
          7,
          1021,
          205,
          35,
          314,
          29,
          353,
          395,
          18,
          1308,
          3205,
          2,
          9,
          1,
          0,
          60,
          7,
          186,
          1131,
          1267,
          743,
          2,
          37,
          846,
          255,
          12,
          603,
          1,
          35,
          85,
          21,
          36,
          1707,
          7,
          1272,
          225,
          38,
          328,
          33,
          371,
          396,
          18,
          1355,
          3323,
          2,
          11,
          1,
          0,
          60,
          7,
          202,
          1229,
          1323,
          791,
          2,
          42,
          969,
          287,
          14,
          603,
          1,
          35,
          86,
          23,
          36,
          1893,
          7,
          1604,
          233,
          39,
          341,
          35,
          384,
          400,
          18,
          1407,
          3651,
          2,
          11,
          1,
          0,
          61,
          7,
          219,
          1351,
          1372,
          844,
          2,
          42,
          1084,
          310,
          15,
          722,
          1,
          35,
          96,
          26,
          36,
          2003,
          7,
          1851,
          233,
          39,
          350,
          42,
          395,
          402,
          18,
          1485,
          4203,
          2,
          11,
          1,
          0,
          68,
          7,
          219,
          1478,
          1477,
          873,
          2,
          44,
          1176,
          339,
          16,
          757,
          1,
          35,
          114,
          26,
          36,
          2081,
          7,
          2066,
          254,
          39,
          368,
          46,
          415,
          408,
          18,
          1540,
          4669,
          2,
          11,
          1,
          0,
          74,
          7,
          245,
          1576,
          1520,
          919,
          2,
          46,
          1294,
          392,
          17,
          813,
          1,
          35,
          126,
          27,
          36,
          2156,
          7,
          2272,
          254,
          39,
          380,
          45,
          425,
          427,
          18,
          1592,
          5221,
          2,
          12,
          1,
          82,
          7,
          251,
          1801,
          1596,
          945,
          2,
          46,
          1412,
          423,
          18,
          895,
          1,
          35,
          148,
          27,
          36,
          2248,
          7,
          2407,
          262,
          40,
          407,
          49,
          443,
          438,
          18,
          1695,
          5652,
          2,
          12,
          1,
          83,
          7,
          277,
          1890,
          1629,
          960,
          2,
          46,
          1509,
          456,
          22,
          955,
          1,
          36,
          176,
          27,
          36,
          2376,
          7,
          2624,
          272,
          40,
          427,
          55,
          463,
          448,
          18,
          1852,
          6430,
          2,
          12,
          1,
          90,
          7,
          277,
          1964,
          1683,
          984,
          2,
          47,
          1604,
          514,
          27,
          1061,
          1,
          36,
          228,
          28,
          36,
          2514,
          7,
          2815,
          272,
          40,
          454,
          59,
          489,
          451,
          20,
          1952,
          6817,
          2,
          12,
          1,
          94,
          7,
          298,
          2034,
          1755,
          984,
          2,
          48,
          1778,
          571,
          33,
          1097,
          1,
          36,
          251,
          30,
          37,
          2625,
          7,
          3071,
          289,
          40,
          494,
          67,
          501,
          458,
          20,
          2096,
          7628,
          2,
          12,
          1,
          103,
          7,
          298,
          2083,
          1821,
          991,
          2,
          50,
          1843,
          611
         ],
         "yaxis": "y"
        }
       ],
       "layout": {
        "height": 700,
        "legend": {
         "tracegroupgap": 0
        },
        "template": {
         "data": {
          "bar": [
           {
            "error_x": {
             "color": "#2a3f5f"
            },
            "error_y": {
             "color": "#2a3f5f"
            },
            "marker": {
             "line": {
              "color": "#E5ECF6",
              "width": 0.5
             }
            },
            "type": "bar"
           }
          ],
          "barpolar": [
           {
            "marker": {
             "line": {
              "color": "#E5ECF6",
              "width": 0.5
             }
            },
            "type": "barpolar"
           }
          ],
          "carpet": [
           {
            "aaxis": {
             "endlinecolor": "#2a3f5f",
             "gridcolor": "white",
             "linecolor": "white",
             "minorgridcolor": "white",
             "startlinecolor": "#2a3f5f"
            },
            "baxis": {
             "endlinecolor": "#2a3f5f",
             "gridcolor": "white",
             "linecolor": "white",
             "minorgridcolor": "white",
             "startlinecolor": "#2a3f5f"
            },
            "type": "carpet"
           }
          ],
          "choropleth": [
           {
            "colorbar": {
             "outlinewidth": 0,
             "ticks": ""
            },
            "type": "choropleth"
           }
          ],
          "contour": [
           {
            "colorbar": {
             "outlinewidth": 0,
             "ticks": ""
            },
            "colorscale": [
             [
              0,
              "#0d0887"
             ],
             [
              0.1111111111111111,
              "#46039f"
             ],
             [
              0.2222222222222222,
              "#7201a8"
             ],
             [
              0.3333333333333333,
              "#9c179e"
             ],
             [
              0.4444444444444444,
              "#bd3786"
             ],
             [
              0.5555555555555556,
              "#d8576b"
             ],
             [
              0.6666666666666666,
              "#ed7953"
             ],
             [
              0.7777777777777778,
              "#fb9f3a"
             ],
             [
              0.8888888888888888,
              "#fdca26"
             ],
             [
              1,
              "#f0f921"
             ]
            ],
            "type": "contour"
           }
          ],
          "contourcarpet": [
           {
            "colorbar": {
             "outlinewidth": 0,
             "ticks": ""
            },
            "type": "contourcarpet"
           }
          ],
          "heatmap": [
           {
            "colorbar": {
             "outlinewidth": 0,
             "ticks": ""
            },
            "colorscale": [
             [
              0,
              "#0d0887"
             ],
             [
              0.1111111111111111,
              "#46039f"
             ],
             [
              0.2222222222222222,
              "#7201a8"
             ],
             [
              0.3333333333333333,
              "#9c179e"
             ],
             [
              0.4444444444444444,
              "#bd3786"
             ],
             [
              0.5555555555555556,
              "#d8576b"
             ],
             [
              0.6666666666666666,
              "#ed7953"
             ],
             [
              0.7777777777777778,
              "#fb9f3a"
             ],
             [
              0.8888888888888888,
              "#fdca26"
             ],
             [
              1,
              "#f0f921"
             ]
            ],
            "type": "heatmap"
           }
          ],
          "heatmapgl": [
           {
            "colorbar": {
             "outlinewidth": 0,
             "ticks": ""
            },
            "colorscale": [
             [
              0,
              "#0d0887"
             ],
             [
              0.1111111111111111,
              "#46039f"
             ],
             [
              0.2222222222222222,
              "#7201a8"
             ],
             [
              0.3333333333333333,
              "#9c179e"
             ],
             [
              0.4444444444444444,
              "#bd3786"
             ],
             [
              0.5555555555555556,
              "#d8576b"
             ],
             [
              0.6666666666666666,
              "#ed7953"
             ],
             [
              0.7777777777777778,
              "#fb9f3a"
             ],
             [
              0.8888888888888888,
              "#fdca26"
             ],
             [
              1,
              "#f0f921"
             ]
            ],
            "type": "heatmapgl"
           }
          ],
          "histogram": [
           {
            "marker": {
             "colorbar": {
              "outlinewidth": 0,
              "ticks": ""
             }
            },
            "type": "histogram"
           }
          ],
          "histogram2d": [
           {
            "colorbar": {
             "outlinewidth": 0,
             "ticks": ""
            },
            "colorscale": [
             [
              0,
              "#0d0887"
             ],
             [
              0.1111111111111111,
              "#46039f"
             ],
             [
              0.2222222222222222,
              "#7201a8"
             ],
             [
              0.3333333333333333,
              "#9c179e"
             ],
             [
              0.4444444444444444,
              "#bd3786"
             ],
             [
              0.5555555555555556,
              "#d8576b"
             ],
             [
              0.6666666666666666,
              "#ed7953"
             ],
             [
              0.7777777777777778,
              "#fb9f3a"
             ],
             [
              0.8888888888888888,
              "#fdca26"
             ],
             [
              1,
              "#f0f921"
             ]
            ],
            "type": "histogram2d"
           }
          ],
          "histogram2dcontour": [
           {
            "colorbar": {
             "outlinewidth": 0,
             "ticks": ""
            },
            "colorscale": [
             [
              0,
              "#0d0887"
             ],
             [
              0.1111111111111111,
              "#46039f"
             ],
             [
              0.2222222222222222,
              "#7201a8"
             ],
             [
              0.3333333333333333,
              "#9c179e"
             ],
             [
              0.4444444444444444,
              "#bd3786"
             ],
             [
              0.5555555555555556,
              "#d8576b"
             ],
             [
              0.6666666666666666,
              "#ed7953"
             ],
             [
              0.7777777777777778,
              "#fb9f3a"
             ],
             [
              0.8888888888888888,
              "#fdca26"
             ],
             [
              1,
              "#f0f921"
             ]
            ],
            "type": "histogram2dcontour"
           }
          ],
          "mesh3d": [
           {
            "colorbar": {
             "outlinewidth": 0,
             "ticks": ""
            },
            "type": "mesh3d"
           }
          ],
          "parcoords": [
           {
            "line": {
             "colorbar": {
              "outlinewidth": 0,
              "ticks": ""
             }
            },
            "type": "parcoords"
           }
          ],
          "pie": [
           {
            "automargin": true,
            "type": "pie"
           }
          ],
          "scatter": [
           {
            "marker": {
             "colorbar": {
              "outlinewidth": 0,
              "ticks": ""
             }
            },
            "type": "scatter"
           }
          ],
          "scatter3d": [
           {
            "line": {
             "colorbar": {
              "outlinewidth": 0,
              "ticks": ""
             }
            },
            "marker": {
             "colorbar": {
              "outlinewidth": 0,
              "ticks": ""
             }
            },
            "type": "scatter3d"
           }
          ],
          "scattercarpet": [
           {
            "marker": {
             "colorbar": {
              "outlinewidth": 0,
              "ticks": ""
             }
            },
            "type": "scattercarpet"
           }
          ],
          "scattergeo": [
           {
            "marker": {
             "colorbar": {
              "outlinewidth": 0,
              "ticks": ""
             }
            },
            "type": "scattergeo"
           }
          ],
          "scattergl": [
           {
            "marker": {
             "colorbar": {
              "outlinewidth": 0,
              "ticks": ""
             }
            },
            "type": "scattergl"
           }
          ],
          "scattermapbox": [
           {
            "marker": {
             "colorbar": {
              "outlinewidth": 0,
              "ticks": ""
             }
            },
            "type": "scattermapbox"
           }
          ],
          "scatterpolar": [
           {
            "marker": {
             "colorbar": {
              "outlinewidth": 0,
              "ticks": ""
             }
            },
            "type": "scatterpolar"
           }
          ],
          "scatterpolargl": [
           {
            "marker": {
             "colorbar": {
              "outlinewidth": 0,
              "ticks": ""
             }
            },
            "type": "scatterpolargl"
           }
          ],
          "scatterternary": [
           {
            "marker": {
             "colorbar": {
              "outlinewidth": 0,
              "ticks": ""
             }
            },
            "type": "scatterternary"
           }
          ],
          "surface": [
           {
            "colorbar": {
             "outlinewidth": 0,
             "ticks": ""
            },
            "colorscale": [
             [
              0,
              "#0d0887"
             ],
             [
              0.1111111111111111,
              "#46039f"
             ],
             [
              0.2222222222222222,
              "#7201a8"
             ],
             [
              0.3333333333333333,
              "#9c179e"
             ],
             [
              0.4444444444444444,
              "#bd3786"
             ],
             [
              0.5555555555555556,
              "#d8576b"
             ],
             [
              0.6666666666666666,
              "#ed7953"
             ],
             [
              0.7777777777777778,
              "#fb9f3a"
             ],
             [
              0.8888888888888888,
              "#fdca26"
             ],
             [
              1,
              "#f0f921"
             ]
            ],
            "type": "surface"
           }
          ],
          "table": [
           {
            "cells": {
             "fill": {
              "color": "#EBF0F8"
             },
             "line": {
              "color": "white"
             }
            },
            "header": {
             "fill": {
              "color": "#C8D4E3"
             },
             "line": {
              "color": "white"
             }
            },
            "type": "table"
           }
          ]
         },
         "layout": {
          "annotationdefaults": {
           "arrowcolor": "#2a3f5f",
           "arrowhead": 0,
           "arrowwidth": 1
          },
          "coloraxis": {
           "colorbar": {
            "outlinewidth": 0,
            "ticks": ""
           }
          },
          "colorscale": {
           "diverging": [
            [
             0,
             "#8e0152"
            ],
            [
             0.1,
             "#c51b7d"
            ],
            [
             0.2,
             "#de77ae"
            ],
            [
             0.3,
             "#f1b6da"
            ],
            [
             0.4,
             "#fde0ef"
            ],
            [
             0.5,
             "#f7f7f7"
            ],
            [
             0.6,
             "#e6f5d0"
            ],
            [
             0.7,
             "#b8e186"
            ],
            [
             0.8,
             "#7fbc41"
            ],
            [
             0.9,
             "#4d9221"
            ],
            [
             1,
             "#276419"
            ]
           ],
           "sequential": [
            [
             0,
             "#0d0887"
            ],
            [
             0.1111111111111111,
             "#46039f"
            ],
            [
             0.2222222222222222,
             "#7201a8"
            ],
            [
             0.3333333333333333,
             "#9c179e"
            ],
            [
             0.4444444444444444,
             "#bd3786"
            ],
            [
             0.5555555555555556,
             "#d8576b"
            ],
            [
             0.6666666666666666,
             "#ed7953"
            ],
            [
             0.7777777777777778,
             "#fb9f3a"
            ],
            [
             0.8888888888888888,
             "#fdca26"
            ],
            [
             1,
             "#f0f921"
            ]
           ],
           "sequentialminus": [
            [
             0,
             "#0d0887"
            ],
            [
             0.1111111111111111,
             "#46039f"
            ],
            [
             0.2222222222222222,
             "#7201a8"
            ],
            [
             0.3333333333333333,
             "#9c179e"
            ],
            [
             0.4444444444444444,
             "#bd3786"
            ],
            [
             0.5555555555555556,
             "#d8576b"
            ],
            [
             0.6666666666666666,
             "#ed7953"
            ],
            [
             0.7777777777777778,
             "#fb9f3a"
            ],
            [
             0.8888888888888888,
             "#fdca26"
            ],
            [
             1,
             "#f0f921"
            ]
           ]
          },
          "colorway": [
           "#636efa",
           "#EF553B",
           "#00cc96",
           "#ab63fa",
           "#FFA15A",
           "#19d3f3",
           "#FF6692",
           "#B6E880",
           "#FF97FF",
           "#FECB52"
          ],
          "font": {
           "color": "#2a3f5f"
          },
          "geo": {
           "bgcolor": "white",
           "lakecolor": "white",
           "landcolor": "#E5ECF6",
           "showlakes": true,
           "showland": true,
           "subunitcolor": "white"
          },
          "hoverlabel": {
           "align": "left"
          },
          "hovermode": "closest",
          "mapbox": {
           "style": "light"
          },
          "paper_bgcolor": "white",
          "plot_bgcolor": "#E5ECF6",
          "polar": {
           "angularaxis": {
            "gridcolor": "white",
            "linecolor": "white",
            "ticks": ""
           },
           "bgcolor": "#E5ECF6",
           "radialaxis": {
            "gridcolor": "white",
            "linecolor": "white",
            "ticks": ""
           }
          },
          "scene": {
           "xaxis": {
            "backgroundcolor": "#E5ECF6",
            "gridcolor": "white",
            "gridwidth": 2,
            "linecolor": "white",
            "showbackground": true,
            "ticks": "",
            "zerolinecolor": "white"
           },
           "yaxis": {
            "backgroundcolor": "#E5ECF6",
            "gridcolor": "white",
            "gridwidth": 2,
            "linecolor": "white",
            "showbackground": true,
            "ticks": "",
            "zerolinecolor": "white"
           },
           "zaxis": {
            "backgroundcolor": "#E5ECF6",
            "gridcolor": "white",
            "gridwidth": 2,
            "linecolor": "white",
            "showbackground": true,
            "ticks": "",
            "zerolinecolor": "white"
           }
          },
          "shapedefaults": {
           "line": {
            "color": "#2a3f5f"
           }
          },
          "ternary": {
           "aaxis": {
            "gridcolor": "white",
            "linecolor": "white",
            "ticks": ""
           },
           "baxis": {
            "gridcolor": "white",
            "linecolor": "white",
            "ticks": ""
           },
           "bgcolor": "#E5ECF6",
           "caxis": {
            "gridcolor": "white",
            "linecolor": "white",
            "ticks": ""
           }
          },
          "title": {
           "x": 0.05
          },
          "xaxis": {
           "automargin": true,
           "gridcolor": "white",
           "linecolor": "white",
           "ticks": "",
           "title": {
            "standoff": 15
           },
           "zerolinecolor": "white",
           "zerolinewidth": 2
          },
          "yaxis": {
           "automargin": true,
           "gridcolor": "white",
           "linecolor": "white",
           "ticks": "",
           "title": {
            "standoff": 15
           },
           "zerolinecolor": "white",
           "zerolinewidth": 2
          }
         }
        },
        "title": {
         "text": "Increase of cases with date"
        },
        "xaxis": {
         "anchor": "y",
         "domain": [
          0,
          1
         ],
         "title": {
          "text": "Date"
         }
        },
        "yaxis": {
         "anchor": "x",
         "domain": [
          0,
          1
         ],
         "title": {
          "text": "Confirmed"
         }
        }
       }
      },
      "text/html": [
       "<div>\n",
       "        \n",
       "        \n",
       "            <div id=\"da2be702-50e9-41a5-a84e-879c683920a0\" class=\"plotly-graph-div\" style=\"height:700px; width:100%;\"></div>\n",
       "            <script type=\"text/javascript\">\n",
       "                require([\"plotly\"], function(Plotly) {\n",
       "                    window.PLOTLYENV=window.PLOTLYENV || {};\n",
       "                    \n",
       "                if (document.getElementById(\"da2be702-50e9-41a5-a84e-879c683920a0\")) {\n",
       "                    Plotly.newPlot(\n",
       "                        'da2be702-50e9-41a5-a84e-879c683920a0',\n",
       "                        [{\"hoverlabel\": {\"namelength\": 0}, \"hovertemplate\": \"Date=%{x}<br>Confirmed=%{y}\", \"legendgroup\": \"\", \"line\": {\"color\": \"#636efa\", \"dash\": \"solid\", \"shape\": \"spline\"}, \"mode\": \"lines\", \"name\": \"\", \"showlegend\": false, \"type\": \"scatter\", \"x\": [\"30/01/20\", \"31/01/20\", \"01/02/20\", \"02/02/20\", \"03/02/20\", \"04/02/20\", \"05/02/20\", \"06/02/20\", \"07/02/20\", \"08/02/20\", \"09/02/20\", \"10/02/20\", \"11/02/20\", \"12/02/20\", \"13/02/20\", \"14/02/20\", \"15/02/20\", \"16/02/20\", \"17/02/20\", \"18/02/20\", \"19/02/20\", \"20/02/20\", \"21/02/20\", \"22/02/20\", \"23/02/20\", \"24/02/20\", \"25/02/20\", \"26/02/20\", \"27/02/20\", \"28/02/20\", \"29/02/20\", \"01/03/20\", \"02/03/20\", \"02/03/20\", \"02/03/20\", \"03/03/20\", \"03/03/20\", \"03/03/20\", \"03/03/20\", \"04/03/20\", \"04/03/20\", \"04/03/20\", \"04/03/20\", \"04/03/20\", \"04/03/20\", \"05/03/20\", \"05/03/20\", \"05/03/20\", \"05/03/20\", \"05/03/20\", \"05/03/20\", \"06/03/20\", \"06/03/20\", \"06/03/20\", \"06/03/20\", \"06/03/20\", \"06/03/20\", \"07/03/20\", \"07/03/20\", \"07/03/20\", \"07/03/20\", \"07/03/20\", \"07/03/20\", \"07/03/20\", \"07/03/20\", \"08/03/20\", \"08/03/20\", \"08/03/20\", \"08/03/20\", \"08/03/20\", \"08/03/20\", \"08/03/20\", \"08/03/20\", \"09/03/20\", \"09/03/20\", \"09/03/20\", \"09/03/20\", \"09/03/20\", \"09/03/20\", \"09/03/20\", \"09/03/20\", \"09/03/20\", \"09/03/20\", \"09/03/20\", \"09/03/20\", \"10/03/20\", \"10/03/20\", \"10/03/20\", \"10/03/20\", \"10/03/20\", \"10/03/20\", \"10/03/20\", \"10/03/20\", \"10/03/20\", \"10/03/20\", \"10/03/20\", \"10/03/20\", \"11/03/20\", \"11/03/20\", \"11/03/20\", \"11/03/20\", \"11/03/20\", \"11/03/20\", \"11/03/20\", \"11/03/20\", \"11/03/20\", \"11/03/20\", \"11/03/20\", \"11/03/20\", \"12/03/20\", \"12/03/20\", \"12/03/20\", \"12/03/20\", \"12/03/20\", \"12/03/20\", \"12/03/20\", \"12/03/20\", \"12/03/20\", \"12/03/20\", \"12/03/20\", \"12/03/20\", \"12/03/20\", \"13/03/20\", \"13/03/20\", \"13/03/20\", \"13/03/20\", \"13/03/20\", \"13/03/20\", \"13/03/20\", \"13/03/20\", \"13/03/20\", \"13/03/20\", \"13/03/20\", \"13/03/20\", \"13/03/20\", \"14/03/20\", \"14/03/20\", \"14/03/20\", \"14/03/20\", \"14/03/20\", \"14/03/20\", \"14/03/20\", \"14/03/20\", \"14/03/20\", \"14/03/20\", \"14/03/20\", \"14/03/20\", \"14/03/20\", \"15/03/20\", \"15/03/20\", \"15/03/20\", \"15/03/20\", \"15/03/20\", \"15/03/20\", \"15/03/20\", \"15/03/20\", \"15/03/20\", \"15/03/20\", \"15/03/20\", \"15/03/20\", \"15/03/20\", \"15/03/20\", \"16/03/20\", \"16/03/20\", \"16/03/20\", \"16/03/20\", \"16/03/20\", \"16/03/20\", \"16/03/20\", \"16/03/20\", \"16/03/20\", \"16/03/20\", \"16/03/20\", \"16/03/20\", \"16/03/20\", \"16/03/20\", \"16/03/20\", \"17/03/20\", \"17/03/20\", \"17/03/20\", \"17/03/20\", \"17/03/20\", \"17/03/20\", \"17/03/20\", \"17/03/20\", \"17/03/20\", \"17/03/20\", \"17/03/20\", \"17/03/20\", \"17/03/20\", \"17/03/20\", \"17/03/20\", \"18/03/20\", \"18/03/20\", \"18/03/20\", \"18/03/20\", \"18/03/20\", \"18/03/20\", \"18/03/20\", \"18/03/20\", \"18/03/20\", \"18/03/20\", \"18/03/20\", \"18/03/20\", \"18/03/20\", \"18/03/20\", \"18/03/20\", \"18/03/20\", \"18/03/20\", \"19/03/20\", \"19/03/20\", \"19/03/20\", \"19/03/20\", \"19/03/20\", \"19/03/20\", \"19/03/20\", \"19/03/20\", \"19/03/20\", \"19/03/20\", \"19/03/20\", \"19/03/20\", \"19/03/20\", \"19/03/20\", \"19/03/20\", \"19/03/20\", \"19/03/20\", \"19/03/20\", \"19/03/20\", \"20/03/20\", \"20/03/20\", \"20/03/20\", \"20/03/20\", \"20/03/20\", \"20/03/20\", \"20/03/20\", \"20/03/20\", \"20/03/20\", \"20/03/20\", \"20/03/20\", \"20/03/20\", \"20/03/20\", \"20/03/20\", \"20/03/20\", \"20/03/20\", \"20/03/20\", \"20/03/20\", \"20/03/20\", \"20/03/20\", \"21/03/20\", \"21/03/20\", \"21/03/20\", \"21/03/20\", \"21/03/20\", \"21/03/20\", \"21/03/20\", \"21/03/20\", \"21/03/20\", \"21/03/20\", \"21/03/20\", \"21/03/20\", \"21/03/20\", \"21/03/20\", \"21/03/20\", \"21/03/20\", \"21/03/20\", \"21/03/20\", \"21/03/20\", \"21/03/20\", \"21/03/20\", \"21/03/20\", \"22/03/20\", \"22/03/20\", \"22/03/20\", \"22/03/20\", \"22/03/20\", \"22/03/20\", \"22/03/20\", \"22/03/20\", \"22/03/20\", \"22/03/20\", \"22/03/20\", \"22/03/20\", \"22/03/20\", \"22/03/20\", \"22/03/20\", \"22/03/20\", \"22/03/20\", \"22/03/20\", \"22/03/20\", \"22/03/20\", \"22/03/20\", \"22/03/20\", \"22/03/20\", \"23/03/20\", \"23/03/20\", \"23/03/20\", \"23/03/20\", \"23/03/20\", \"23/03/20\", \"23/03/20\", \"23/03/20\", \"23/03/20\", \"23/03/20\", \"23/03/20\", \"23/03/20\", \"23/03/20\", \"23/03/20\", \"23/03/20\", \"23/03/20\", \"23/03/20\", \"23/03/20\", \"23/03/20\", \"23/03/20\", \"23/03/20\", \"23/03/20\", \"23/03/20\", \"24/03/20\", \"24/03/20\", \"24/03/20\", \"24/03/20\", \"24/03/20\", \"24/03/20\", \"24/03/20\", \"24/03/20\", \"24/03/20\", \"24/03/20\", \"24/03/20\", \"24/03/20\", \"24/03/20\", \"24/03/20\", \"24/03/20\", \"24/03/20\", \"24/03/20\", \"24/03/20\", \"24/03/20\", \"24/03/20\", \"24/03/20\", \"24/03/20\", \"24/03/20\", \"24/03/20\", \"25/03/20\", \"25/03/20\", \"25/03/20\", \"25/03/20\", \"25/03/20\", \"25/03/20\", \"25/03/20\", \"25/03/20\", \"25/03/20\", \"25/03/20\", \"25/03/20\", \"25/03/20\", \"25/03/20\", \"25/03/20\", \"25/03/20\", \"25/03/20\", \"25/03/20\", \"25/03/20\", \"25/03/20\", \"25/03/20\", \"25/03/20\", \"25/03/20\", \"25/03/20\", \"25/03/20\", \"25/03/20\", \"26/03/20\", \"26/03/20\", \"26/03/20\", \"26/03/20\", \"26/03/20\", \"26/03/20\", \"26/03/20\", \"26/03/20\", \"26/03/20\", \"26/03/20\", \"26/03/20\", \"26/03/20\", \"26/03/20\", \"26/03/20\", \"26/03/20\", \"26/03/20\", \"26/03/20\", \"26/03/20\", \"26/03/20\", \"26/03/20\", \"26/03/20\", \"26/03/20\", \"26/03/20\", \"26/03/20\", \"26/03/20\", \"26/03/20\", \"26/03/20\", \"27/03/20\", \"27/03/20\", \"27/03/20\", \"27/03/20\", \"27/03/20\", \"27/03/20\", \"27/03/20\", \"27/03/20\", \"27/03/20\", \"27/03/20\", \"27/03/20\", \"27/03/20\", \"27/03/20\", \"27/03/20\", \"27/03/20\", \"27/03/20\", \"27/03/20\", \"27/03/20\", \"27/03/20\", \"27/03/20\", \"27/03/20\", \"27/03/20\", \"27/03/20\", \"27/03/20\", \"27/03/20\", \"27/03/20\", \"27/03/20\", \"28/03/20\", \"28/03/20\", \"28/03/20\", \"28/03/20\", \"28/03/20\", \"28/03/20\", \"28/03/20\", \"28/03/20\", \"28/03/20\", \"28/03/20\", \"28/03/20\", \"28/03/20\", \"28/03/20\", \"28/03/20\", \"28/03/20\", \"28/03/20\", \"28/03/20\", \"28/03/20\", \"28/03/20\", \"28/03/20\", \"28/03/20\", \"28/03/20\", \"28/03/20\", \"28/03/20\", \"28/03/20\", \"28/03/20\", \"28/03/20\", \"29/03/20\", \"29/03/20\", \"29/03/20\", \"29/03/20\", \"29/03/20\", \"29/03/20\", \"29/03/20\", \"29/03/20\", \"29/03/20\", \"29/03/20\", \"29/03/20\", \"29/03/20\", \"29/03/20\", \"29/03/20\", \"29/03/20\", \"29/03/20\", \"29/03/20\", \"29/03/20\", \"29/03/20\", \"29/03/20\", \"29/03/20\", \"29/03/20\", \"29/03/20\", \"29/03/20\", \"29/03/20\", \"29/03/20\", \"29/03/20\", \"30/03/20\", \"30/03/20\", \"30/03/20\", \"30/03/20\", \"30/03/20\", \"30/03/20\", \"30/03/20\", \"30/03/20\", \"30/03/20\", \"30/03/20\", \"30/03/20\", \"30/03/20\", \"30/03/20\", \"30/03/20\", \"30/03/20\", \"30/03/20\", \"30/03/20\", \"30/03/20\", \"30/03/20\", \"30/03/20\", \"30/03/20\", \"30/03/20\", \"30/03/20\", \"30/03/20\", \"30/03/20\", \"30/03/20\", \"30/03/20\", \"30/03/20\", \"31/03/20\", \"31/03/20\", \"31/03/20\", \"31/03/20\", \"31/03/20\", \"31/03/20\", \"31/03/20\", \"31/03/20\", \"31/03/20\", \"31/03/20\", \"31/03/20\", \"31/03/20\", \"31/03/20\", \"31/03/20\", \"31/03/20\", \"31/03/20\", \"31/03/20\", \"31/03/20\", \"31/03/20\", \"31/03/20\", \"31/03/20\", \"31/03/20\", \"31/03/20\", \"31/03/20\", \"31/03/20\", \"31/03/20\", \"31/03/20\", \"31/03/20\", \"01/04/20\", \"01/04/20\", \"01/04/20\", \"01/04/20\", \"01/04/20\", \"01/04/20\", \"01/04/20\", \"01/04/20\", \"01/04/20\", \"01/04/20\", \"01/04/20\", \"01/04/20\", \"01/04/20\", \"01/04/20\", \"01/04/20\", \"01/04/20\", \"01/04/20\", \"01/04/20\", \"01/04/20\", \"01/04/20\", \"01/04/20\", \"01/04/20\", \"01/04/20\", \"01/04/20\", \"01/04/20\", \"01/04/20\", \"01/04/20\", \"01/04/20\", \"01/04/20\", \"02/04/20\", \"02/04/20\", \"02/04/20\", \"02/04/20\", \"02/04/20\", \"02/04/20\", \"02/04/20\", \"02/04/20\", \"02/04/20\", \"02/04/20\", \"02/04/20\", \"02/04/20\", \"02/04/20\", \"02/04/20\", \"02/04/20\", \"02/04/20\", \"02/04/20\", \"02/04/20\", \"02/04/20\", \"02/04/20\", \"02/04/20\", \"02/04/20\", \"02/04/20\", \"02/04/20\", \"02/04/20\", \"02/04/20\", \"02/04/20\", \"02/04/20\", \"02/04/20\", \"03/04/20\", \"03/04/20\", \"03/04/20\", \"03/04/20\", \"03/04/20\", \"03/04/20\", \"03/04/20\", \"03/04/20\", \"03/04/20\", \"03/04/20\", \"03/04/20\", \"03/04/20\", \"03/04/20\", \"03/04/20\", \"03/04/20\", \"03/04/20\", \"03/04/20\", \"03/04/20\", \"03/04/20\", \"03/04/20\", \"03/04/20\", \"03/04/20\", \"03/04/20\", \"03/04/20\", \"03/04/20\", \"03/04/20\", \"03/04/20\", \"03/04/20\", \"03/04/20\", \"03/04/20\", \"03/04/20\", \"04/04/20\", \"04/04/20\", \"04/04/20\", \"04/04/20\", \"04/04/20\", \"04/04/20\", \"04/04/20\", \"04/04/20\", \"04/04/20\", \"04/04/20\", \"04/04/20\", \"04/04/20\", \"04/04/20\", \"04/04/20\", \"04/04/20\", \"04/04/20\", \"04/04/20\", \"04/04/20\", \"04/04/20\", \"04/04/20\", \"04/04/20\", \"04/04/20\", \"04/04/20\", \"04/04/20\", \"04/04/20\", \"04/04/20\", \"04/04/20\", \"04/04/20\", \"04/04/20\", \"04/04/20\", \"05/04/20\", \"05/04/20\", \"05/04/20\", \"05/04/20\", \"05/04/20\", \"05/04/20\", \"05/04/20\", \"05/04/20\", \"05/04/20\", \"05/04/20\", \"05/04/20\", \"05/04/20\", \"05/04/20\", \"05/04/20\", \"05/04/20\", \"05/04/20\", \"05/04/20\", \"05/04/20\", \"05/04/20\", \"05/04/20\", \"05/04/20\", \"05/04/20\", \"05/04/20\", \"05/04/20\", \"05/04/20\", \"05/04/20\", \"05/04/20\", \"05/04/20\", \"05/04/20\", \"05/04/20\", \"06/04/20\", \"06/04/20\", \"06/04/20\", \"06/04/20\", \"06/04/20\", \"06/04/20\", \"06/04/20\", \"06/04/20\", \"06/04/20\", \"06/04/20\", \"06/04/20\", \"06/04/20\", \"06/04/20\", \"06/04/20\", \"06/04/20\", \"06/04/20\", \"06/04/20\", \"06/04/20\", \"06/04/20\", \"06/04/20\", \"06/04/20\", \"06/04/20\", \"06/04/20\", \"06/04/20\", \"06/04/20\", \"06/04/20\", \"06/04/20\", \"06/04/20\", \"06/04/20\", \"06/04/20\", \"07/04/20\", \"07/04/20\", \"07/04/20\", \"07/04/20\", \"07/04/20\", \"07/04/20\", \"07/04/20\", \"07/04/20\", \"07/04/20\", \"07/04/20\", \"07/04/20\", \"07/04/20\", \"07/04/20\", \"07/04/20\", \"07/04/20\", \"07/04/20\", \"07/04/20\", \"07/04/20\", \"07/04/20\", \"07/04/20\", \"07/04/20\", \"07/04/20\", \"07/04/20\", \"07/04/20\", \"07/04/20\", \"07/04/20\", \"07/04/20\", \"07/04/20\", \"07/04/20\", \"07/04/20\", \"07/04/20\", \"08/04/20\", \"08/04/20\", \"08/04/20\", \"08/04/20\", \"08/04/20\", \"08/04/20\", \"08/04/20\", \"08/04/20\", \"08/04/20\", \"08/04/20\", \"08/04/20\", \"08/04/20\", \"08/04/20\", \"08/04/20\", \"08/04/20\", \"08/04/20\", \"08/04/20\", \"08/04/20\", \"08/04/20\", \"08/04/20\", \"08/04/20\", \"08/04/20\", \"08/04/20\", \"08/04/20\", \"08/04/20\", \"08/04/20\", \"08/04/20\", \"08/04/20\", \"08/04/20\", \"08/04/20\", \"08/04/20\", \"09/04/20\", \"09/04/20\", \"09/04/20\", \"09/04/20\", \"09/04/20\", \"09/04/20\", \"09/04/20\", \"09/04/20\", \"09/04/20\", \"09/04/20\", \"09/04/20\", \"09/04/20\", \"09/04/20\", \"09/04/20\", \"09/04/20\", \"09/04/20\", \"09/04/20\", \"09/04/20\", \"09/04/20\", \"09/04/20\", \"09/04/20\", \"09/04/20\", \"09/04/20\", \"09/04/20\", \"09/04/20\", \"09/04/20\", \"09/04/20\", \"09/04/20\", \"09/04/20\", \"09/04/20\", \"09/04/20\", \"10/04/20\", \"10/04/20\", \"10/04/20\", \"10/04/20\", \"10/04/20\", \"10/04/20\", \"10/04/20\", \"10/04/20\", \"10/04/20\", \"10/04/20\", \"10/04/20\", \"10/04/20\", \"10/04/20\", \"10/04/20\", \"10/04/20\", \"10/04/20\", \"10/04/20\", \"10/04/20\", \"10/04/20\", \"10/04/20\", \"10/04/20\", \"10/04/20\", \"10/04/20\", \"10/04/20\", \"10/04/20\", \"10/04/20\", \"10/04/20\", \"10/04/20\", \"10/04/20\", \"10/04/20\", \"10/04/20\", \"11/04/20\", \"11/04/20\", \"11/04/20\", \"11/04/20\", \"11/04/20\", \"11/04/20\", \"11/04/20\", \"11/04/20\", \"11/04/20\", \"11/04/20\", \"11/04/20\", \"11/04/20\", \"11/04/20\", \"11/04/20\", \"11/04/20\", \"11/04/20\", \"11/04/20\", \"11/04/20\", \"11/04/20\", \"11/04/20\", \"11/04/20\", \"11/04/20\", \"11/04/20\", \"11/04/20\", \"11/04/20\", \"11/04/20\", \"11/04/20\", \"11/04/20\", \"11/04/20\", \"11/04/20\", \"11/04/20\", \"12/04/20\", \"12/04/20\", \"12/04/20\", \"12/04/20\", \"12/04/20\", \"12/04/20\", \"12/04/20\", \"12/04/20\", \"12/04/20\", \"12/04/20\", \"12/04/20\", \"12/04/20\", \"12/04/20\", \"12/04/20\", \"12/04/20\", \"12/04/20\", \"12/04/20\", \"12/04/20\", \"12/04/20\", \"12/04/20\", \"12/04/20\", \"12/04/20\", \"12/04/20\", \"12/04/20\", \"12/04/20\", \"12/04/20\", \"12/04/20\", \"12/04/20\", \"12/04/20\", \"12/04/20\", \"12/04/20\", \"13/04/20\", \"13/04/20\", \"13/04/20\", \"13/04/20\", \"13/04/20\", \"13/04/20\", \"13/04/20\", \"13/04/20\", \"13/04/20\", \"13/04/20\", \"13/04/20\", \"13/04/20\", \"13/04/20\", \"13/04/20\", \"13/04/20\", \"13/04/20\", \"13/04/20\", \"13/04/20\", \"13/04/20\", \"13/04/20\", \"13/04/20\", \"13/04/20\", \"13/04/20\", \"13/04/20\", \"13/04/20\", \"13/04/20\", \"13/04/20\", \"13/04/20\", \"13/04/20\", \"13/04/20\", \"13/04/20\", \"13/04/20\", \"14/04/20\", \"14/04/20\", \"14/04/20\", \"14/04/20\", \"14/04/20\", \"14/04/20\", \"14/04/20\", \"14/04/20\", \"14/04/20\", \"14/04/20\", \"14/04/20\", \"14/04/20\", \"14/04/20\", \"14/04/20\", \"14/04/20\", \"14/04/20\", \"14/04/20\", \"14/04/20\", \"14/04/20\", \"14/04/20\", \"14/04/20\", \"14/04/20\", \"14/04/20\", \"14/04/20\", \"14/04/20\", \"14/04/20\", \"14/04/20\", \"14/04/20\", \"14/04/20\", \"14/04/20\", \"14/04/20\", \"14/04/20\", \"14/04/20\", \"15/04/20\", \"15/04/20\", \"15/04/20\", \"15/04/20\", \"15/04/20\", \"15/04/20\", \"15/04/20\", \"15/04/20\", \"15/04/20\", \"15/04/20\", \"15/04/20\", \"15/04/20\", \"15/04/20\", \"15/04/20\", \"15/04/20\", \"15/04/20\", \"15/04/20\", \"15/04/20\", \"15/04/20\", \"15/04/20\", \"15/04/20\", \"15/04/20\", \"15/04/20\", \"15/04/20\", \"15/04/20\", \"15/04/20\", \"15/04/20\", \"15/04/20\", \"15/04/20\", \"15/04/20\", \"15/04/20\", \"15/04/20\", \"15/04/20\", \"16/04/20\", \"16/04/20\", \"16/04/20\", \"16/04/20\", \"16/04/20\", \"16/04/20\", \"16/04/20\", \"16/04/20\", \"16/04/20\", \"16/04/20\", \"16/04/20\", \"16/04/20\", \"16/04/20\", \"16/04/20\", \"16/04/20\", \"16/04/20\", \"16/04/20\", \"16/04/20\", \"16/04/20\", \"16/04/20\", \"16/04/20\", \"16/04/20\", \"16/04/20\", \"16/04/20\", \"16/04/20\", \"16/04/20\", \"16/04/20\", \"16/04/20\", \"16/04/20\", \"16/04/20\", \"16/04/20\", \"16/04/20\", \"16/04/20\", \"17/04/20\", \"17/04/20\", \"17/04/20\", \"17/04/20\", \"17/04/20\", \"17/04/20\", \"17/04/20\", \"17/04/20\", \"17/04/20\", \"17/04/20\", \"17/04/20\", \"17/04/20\", \"17/04/20\", \"17/04/20\", \"17/04/20\", \"17/04/20\", \"17/04/20\", \"17/04/20\", \"17/04/20\", \"17/04/20\", \"17/04/20\", \"17/04/20\", \"17/04/20\", \"17/04/20\", \"17/04/20\", \"17/04/20\", \"17/04/20\", \"17/04/20\", \"17/04/20\", \"17/04/20\", \"17/04/20\", \"17/04/20\", \"17/04/20\", \"18/04/20\", \"18/04/20\", \"18/04/20\", \"18/04/20\", \"18/04/20\", \"18/04/20\", \"18/04/20\", \"18/04/20\", \"18/04/20\", \"18/04/20\", \"18/04/20\", \"18/04/20\", \"18/04/20\", \"18/04/20\", \"18/04/20\", \"18/04/20\", \"18/04/20\", \"18/04/20\", \"18/04/20\", \"18/04/20\", \"18/04/20\", \"18/04/20\", \"18/04/20\", \"18/04/20\", \"18/04/20\", \"18/04/20\", \"18/04/20\", \"18/04/20\", \"18/04/20\", \"18/04/20\", \"18/04/20\", \"18/04/20\", \"18/04/20\", \"19/04/20\", \"19/04/20\", \"19/04/20\", \"19/04/20\", \"19/04/20\", \"19/04/20\", \"19/04/20\", \"19/04/20\", \"19/04/20\", \"19/04/20\", \"19/04/20\", \"19/04/20\", \"19/04/20\", \"19/04/20\", \"19/04/20\", \"19/04/20\", \"19/04/20\", \"19/04/20\", \"19/04/20\", \"19/04/20\", \"19/04/20\", \"19/04/20\", \"19/04/20\", \"19/04/20\", \"19/04/20\", \"19/04/20\", \"19/04/20\", \"19/04/20\", \"19/04/20\", \"19/04/20\", \"19/04/20\", \"19/04/20\", \"19/04/20\", \"20/04/20\", \"20/04/20\", \"20/04/20\", \"20/04/20\", \"20/04/20\", \"20/04/20\", \"20/04/20\", \"20/04/20\", \"20/04/20\", \"20/04/20\", \"20/04/20\", \"20/04/20\", \"20/04/20\", \"20/04/20\", \"20/04/20\", \"20/04/20\", \"20/04/20\", \"20/04/20\", \"20/04/20\", \"20/04/20\", \"20/04/20\", \"20/04/20\", \"20/04/20\", \"20/04/20\", \"20/04/20\", \"20/04/20\", \"20/04/20\", \"20/04/20\", \"20/04/20\", \"20/04/20\", \"20/04/20\", \"20/04/20\", \"20/04/20\", \"21/04/20\", \"21/04/20\", \"21/04/20\", \"21/04/20\", \"21/04/20\", \"21/04/20\", \"21/04/20\", \"21/04/20\", \"21/04/20\", \"21/04/20\", \"21/04/20\", \"21/04/20\", \"21/04/20\", \"21/04/20\", \"21/04/20\", \"21/04/20\", \"21/04/20\", \"21/04/20\", \"21/04/20\", \"21/04/20\", \"21/04/20\", \"21/04/20\", \"21/04/20\", \"21/04/20\", \"21/04/20\", \"21/04/20\", \"21/04/20\", \"21/04/20\", \"21/04/20\", \"21/04/20\", \"21/04/20\", \"21/04/20\", \"21/04/20\", \"22/04/20\", \"22/04/20\", \"22/04/20\", \"22/04/20\", \"22/04/20\", \"22/04/20\", \"22/04/20\", \"22/04/20\", \"22/04/20\", \"22/04/20\", \"22/04/20\", \"22/04/20\", \"22/04/20\", \"22/04/20\", \"22/04/20\", \"22/04/20\", \"22/04/20\", \"22/04/20\", \"22/04/20\", \"22/04/20\", \"22/04/20\", \"22/04/20\", \"22/04/20\", \"22/04/20\", \"22/04/20\", \"22/04/20\", \"22/04/20\", \"22/04/20\", \"22/04/20\", \"22/04/20\", \"22/04/20\", \"22/04/20\", \"23/04/20\", \"23/04/20\", \"23/04/20\", \"23/04/20\", \"23/04/20\", \"23/04/20\", \"23/04/20\", \"23/04/20\", \"23/04/20\", \"23/04/20\", \"23/04/20\", \"23/04/20\", \"23/04/20\", \"23/04/20\", \"23/04/20\", \"23/04/20\", \"23/04/20\", \"23/04/20\", \"23/04/20\", \"23/04/20\", \"23/04/20\", \"23/04/20\", \"23/04/20\", \"23/04/20\", \"23/04/20\", \"23/04/20\", \"23/04/20\", \"23/04/20\", \"23/04/20\", \"23/04/20\", \"23/04/20\", \"23/04/20\", \"24/04/20\", \"24/04/20\", \"24/04/20\", \"24/04/20\", \"24/04/20\", \"24/04/20\", \"24/04/20\", \"24/04/20\", \"24/04/20\", \"24/04/20\", \"24/04/20\", \"24/04/20\", \"24/04/20\", \"24/04/20\", \"24/04/20\", \"24/04/20\", \"24/04/20\", \"24/04/20\", \"24/04/20\", \"24/04/20\", \"24/04/20\", \"24/04/20\", \"24/04/20\", \"24/04/20\", \"24/04/20\", \"24/04/20\", \"24/04/20\", \"24/04/20\", \"24/04/20\", \"24/04/20\", \"24/04/20\", \"24/04/20\", \"25/04/20\", \"25/04/20\", \"25/04/20\", \"25/04/20\", \"25/04/20\", \"25/04/20\", \"25/04/20\", \"25/04/20\", \"25/04/20\", \"25/04/20\", \"25/04/20\", \"25/04/20\", \"25/04/20\", \"25/04/20\", \"25/04/20\", \"25/04/20\", \"25/04/20\", \"25/04/20\", \"25/04/20\", \"25/04/20\", \"25/04/20\", \"25/04/20\", \"25/04/20\", \"25/04/20\", \"25/04/20\", \"25/04/20\", \"25/04/20\", \"25/04/20\", \"25/04/20\", \"25/04/20\", \"25/04/20\", \"25/04/20\", \"26/04/20\", \"26/04/20\", \"26/04/20\", \"26/04/20\", \"26/04/20\", \"26/04/20\", \"26/04/20\", \"26/04/20\", \"26/04/20\", \"26/04/20\", \"26/04/20\", \"26/04/20\", \"26/04/20\", \"26/04/20\", \"26/04/20\", \"26/04/20\", \"26/04/20\", \"26/04/20\", \"26/04/20\", \"26/04/20\", \"26/04/20\", \"26/04/20\", \"26/04/20\", \"26/04/20\", \"26/04/20\", \"26/04/20\", \"26/04/20\", \"26/04/20\", \"26/04/20\", \"26/04/20\", \"26/04/20\", \"26/04/20\"], \"xaxis\": \"x\", \"y\": [1, 1, 2, 3, 3, 3, 3, 3, 3, 3, 3, 3, 3, 3, 3, 3, 3, 3, 3, 3, 3, 3, 3, 3, 3, 3, 3, 3, 3, 3, 3, 3, 1, 3, 1, 1, 1, 3, 1, 6, 3, 2, 1, 1, 15, 2, 2, 3, 15, 1, 7, 3, 2, 3, 15, 7, 1, 3, 7, 2, 1, 1, 3, 2, 15, 2, 1, 1, 15, 8, 2, 3, 7, 2, 1, 9, 2, 1, 15, 1, 1, 1, 7, 2, 4, 7, 2, 4, 2, 4, 15, 5, 1, 15, 1, 1, 1, 2, 5, 14, 17, 3, 1, 9, 2, 1, 1, 1, 4, 6, 14, 17, 3, 1, 11, 3, 1, 1, 1, 4, 11, 1, 6, 14, 19, 3, 1, 11, 3, 1, 1, 1, 6, 14, 1, 7, 14, 19, 3, 1, 12, 3, 1, 2, 1, 6, 14, 1, 1, 7, 14, 6, 22, 32, 1, 4, 1, 3, 2, 3, 13, 1, 1, 7, 14, 6, 23, 32, 1, 1, 4, 1, 3, 3, 4, 13, 1, 1, 8, 15, 11, 26, 39, 1, 1, 4, 1, 5, 3, 6, 15, 1, 1, 10, 17, 11, 27, 42, 1, 1, 1, 4, 1, 6, 3, 8, 16, 1, 1, 2, 1, 12, 17, 14, 27, 47, 1, 1, 2, 7, 2, 6, 1, 4, 8, 19, 1, 1, 3, 1, 17, 5, 17, 15, 28, 52, 2, 1, 2, 17, 3, 17, 1, 4, 10, 23, 3, 2, 3, 1, 26, 7, 17, 2, 15, 40, 4, 63, 2, 1, 13, 17, 3, 21, 1, 4, 13, 24, 3, 3, 5, 2, 1, 29, 18, 21, 2, 26, 52, 4, 67, 2, 1, 21, 24, 7, 22, 5, 4, 13, 27, 3, 4, 7, 2, 1, 29, 29, 26, 2, 33, 67, 6, 74, 2, 1, 21, 28, 9, 32, 6, 4, 13, 31, 3, 7, 8, 3, 1, 30, 33, 28, 3, 37, 95, 7, 89, 1, 2, 1, 29, 32, 15, 35, 7, 4, 13, 33, 4, 9, 9, 4, 1, 31, 38, 28, 3, 41, 109, 14, 128, 1, 1, 2, 1, 29, 36, 18, 35, 7, 7, 13, 37, 4, 9, 1, 11, 6, 7, 6, 36, 3, 43, 30, 3, 13, 55, 118, 13, 20, 124, 1, 1, 2, 1, 33, 41, 26, 44, 5, 41, 10, 1, 12, 6, 7, 6, 36, 3, 43, 30, 3, 13, 55, 137, 13, 20, 130, 1, 1, 2, 1, 33, 41, 29, 45, 5, 41, 10, 14, 6, 9, 8, 6, 39, 3, 45, 33, 3, 20, 55, 176, 13, 30, 180, 1, 1, 3, 1, 38, 54, 40, 56, 5, 55, 15, 19, 9, 11, 8, 7, 49, 5, 58, 33, 3, 31, 76, 182, 13, 30, 186, 1, 1, 3, 1, 38, 55, 49, 66, 7, 65, 18, 23, 9, 15, 8, 7, 87, 5, 69, 36, 3, 48, 83, 202, 13, 47, 198, 1, 1, 3, 1, 38, 59, 67, 71, 7, 82, 22, 46, 40, 10, 15, 13, 8, 97, 5, 73, 40, 3, 54, 83, 234, 13, 47, 216, 1, 1, 3, 1, 41, 74, 74, 79, 7, 101, 26, 38, 83, 10, 1, 23, 16, 9, 152, 5, 82, 43, 3, 62, 1, 101, 241, 13, 66, 302, 1, 1, 4, 3, 42, 93, 234, 96, 7, 103, 37, 86, 10, 5, 24, 16, 9, 219, 5, 87, 43, 3, 62, 1, 110, 265, 13, 99, 335, 1, 1, 4, 3, 46, 108, 234, 107, 7, 113, 53, 132, 10, 1, 16, 29, 18, 9, 219, 6, 95, 49, 6, 75, 2, 124, 286, 14, 104, 335, 2, 1, 5, 5, 48, 167, 309, 158, 10, 172, 63, 77, 161, 10, 1, 24, 30, 18, 9, 445, 7, 105, 49, 6, 75, 2, 128, 295, 14, 104, 490, 2, 1, 5, 5, 57, 200, 411, 159, 16, 174, 69, 190, 10, 1, 26, 30, 18, 9, 503, 7, 122, 59, 6, 106, 3, 144, 306, 14, 165, 490, 2, 1, 20, 5, 57, 200, 485, 269, 22, 227, 80, 226, 10, 1, 26, 32, 18, 10, 523, 7, 144, 84, 13, 109, 4, 151, 314, 14, 165, 748, 2, 1, 21, 5, 76, 274, 571, 321, 26, 305, 80, 266, 10, 1, 26, 32, 18, 10, 576, 7, 165, 90, 13, 116, 4, 175, 327, 14, 229, 868, 2, 1, 42, 5, 91, 288, 621, 364, 1, 31, 305, 91, 305, 10, 1, 27, 38, 18, 10, 576, 7, 165, 147, 18, 116, 4, 175, 336, 14, 229, 1018, 2, 1, 42, 5, 91, 328, 690, 427, 1, 31, 343, 99, 348, 11, 1, 28, 39, 18, 10, 669, 7, 179, 169, 18, 158, 13, 181, 345, 14, 259, 1135, 2, 1, 42, 5, 101, 383, 738, 442, 1, 35, 410, 103, 363, 11, 1, 29, 60, 18, 10, 898, 7, 241, 169, 28, 184, 13, 197, 357, 15, 259, 1364, 2, 1, 44, 5, 132, 463, 834, 473, 1, 35, 431, 116, 381, 11, 1, 29, 60, 18, 18, 903, 7, 308, 177, 28, 207, 17, 214, 364, 15, 443, 1574, 2, 1, 48, 7, 132, 553, 911, 504, 2, 35, 433, 126, 381, 11, 1, 29, 64, 19, 25, 1069, 7, 432, 185, 32, 224, 17, 226, 374, 15, 564, 1761, 2, 1, 54, 7, 151, 700, 969, 504, 2, 35, 452, 134, 432, 11, 1, 31, 64, 21, 31, 1154, 7, 539, 185, 32, 245, 19, 247, 376, 15, 604, 1985, 2, 1, 1, 54, 7, 167, 812, 1075, 562, 2, 35, 483, 152, 473, 11, 1, 31, 66, 21, 31, 1510, 7, 617, 199, 32, 270, 24, 258, 379, 15, 730, 2337, 2, 1, 1, 1, 55, 7, 176, 879, 1173, 624, 2, 35, 657, 190, 11, 503, 1, 33, 70, 21, 33, 1561, 7, 695, 199, 33, 278, 27, 277, 387, 17, 987, 2687, 2, 7, 1, 0, 60, 7, 186, 1005, 1204, 647, 2, 37, 735, 213, 11, 534, 1, 33, 74, 21, 33, 1578, 7, 871, 205, 35, 300, 28, 315, 388, 17, 1120, 2919, 2, 7, 1, 0, 60, 7, 186, 1023, 1242, 698, 2, 37, 773, 231, 11, 572, 1, 35, 83, 21, 36, 1640, 7, 1021, 205, 35, 314, 29, 353, 395, 18, 1308, 3205, 2, 9, 1, 0, 60, 7, 186, 1131, 1267, 743, 2, 37, 846, 255, 12, 603, 1, 35, 85, 21, 36, 1707, 7, 1272, 225, 38, 328, 33, 371, 396, 18, 1355, 3323, 2, 11, 1, 0, 60, 7, 202, 1229, 1323, 791, 2, 42, 969, 287, 14, 603, 1, 35, 86, 23, 36, 1893, 7, 1604, 233, 39, 341, 35, 384, 400, 18, 1407, 3651, 2, 11, 1, 0, 61, 7, 219, 1351, 1372, 844, 2, 42, 1084, 310, 15, 722, 1, 35, 96, 26, 36, 2003, 7, 1851, 233, 39, 350, 42, 395, 402, 18, 1485, 4203, 2, 11, 1, 0, 68, 7, 219, 1478, 1477, 873, 2, 44, 1176, 339, 16, 757, 1, 35, 114, 26, 36, 2081, 7, 2066, 254, 39, 368, 46, 415, 408, 18, 1540, 4669, 2, 11, 1, 0, 74, 7, 245, 1576, 1520, 919, 2, 46, 1294, 392, 17, 813, 1, 35, 126, 27, 36, 2156, 7, 2272, 254, 39, 380, 45, 425, 427, 18, 1592, 5221, 2, 12, 1, 82, 7, 251, 1801, 1596, 945, 2, 46, 1412, 423, 18, 895, 1, 35, 148, 27, 36, 2248, 7, 2407, 262, 40, 407, 49, 443, 438, 18, 1695, 5652, 2, 12, 1, 83, 7, 277, 1890, 1629, 960, 2, 46, 1509, 456, 22, 955, 1, 36, 176, 27, 36, 2376, 7, 2624, 272, 40, 427, 55, 463, 448, 18, 1852, 6430, 2, 12, 1, 90, 7, 277, 1964, 1683, 984, 2, 47, 1604, 514, 27, 1061, 1, 36, 228, 28, 36, 2514, 7, 2815, 272, 40, 454, 59, 489, 451, 20, 1952, 6817, 2, 12, 1, 94, 7, 298, 2034, 1755, 984, 2, 48, 1778, 571, 33, 1097, 1, 36, 251, 30, 37, 2625, 7, 3071, 289, 40, 494, 67, 501, 458, 20, 2096, 7628, 2, 12, 1, 103, 7, 298, 2083, 1821, 991, 2, 50, 1843, 611], \"yaxis\": \"y\"}],\n",
       "                        {\"height\": 700, \"legend\": {\"tracegroupgap\": 0}, \"template\": {\"data\": {\"bar\": [{\"error_x\": {\"color\": \"#2a3f5f\"}, \"error_y\": {\"color\": \"#2a3f5f\"}, \"marker\": {\"line\": {\"color\": \"#E5ECF6\", \"width\": 0.5}}, \"type\": \"bar\"}], \"barpolar\": [{\"marker\": {\"line\": {\"color\": \"#E5ECF6\", \"width\": 0.5}}, \"type\": \"barpolar\"}], \"carpet\": [{\"aaxis\": {\"endlinecolor\": \"#2a3f5f\", \"gridcolor\": \"white\", \"linecolor\": \"white\", \"minorgridcolor\": \"white\", \"startlinecolor\": \"#2a3f5f\"}, \"baxis\": {\"endlinecolor\": \"#2a3f5f\", \"gridcolor\": \"white\", \"linecolor\": \"white\", \"minorgridcolor\": \"white\", \"startlinecolor\": \"#2a3f5f\"}, \"type\": \"carpet\"}], \"choropleth\": [{\"colorbar\": {\"outlinewidth\": 0, \"ticks\": \"\"}, \"type\": \"choropleth\"}], \"contour\": [{\"colorbar\": {\"outlinewidth\": 0, \"ticks\": \"\"}, \"colorscale\": [[0.0, \"#0d0887\"], [0.1111111111111111, \"#46039f\"], [0.2222222222222222, \"#7201a8\"], [0.3333333333333333, \"#9c179e\"], [0.4444444444444444, \"#bd3786\"], [0.5555555555555556, \"#d8576b\"], [0.6666666666666666, \"#ed7953\"], [0.7777777777777778, \"#fb9f3a\"], [0.8888888888888888, \"#fdca26\"], [1.0, \"#f0f921\"]], \"type\": \"contour\"}], \"contourcarpet\": [{\"colorbar\": {\"outlinewidth\": 0, \"ticks\": \"\"}, \"type\": \"contourcarpet\"}], \"heatmap\": [{\"colorbar\": {\"outlinewidth\": 0, \"ticks\": \"\"}, \"colorscale\": [[0.0, \"#0d0887\"], [0.1111111111111111, \"#46039f\"], [0.2222222222222222, \"#7201a8\"], [0.3333333333333333, \"#9c179e\"], [0.4444444444444444, \"#bd3786\"], [0.5555555555555556, \"#d8576b\"], [0.6666666666666666, \"#ed7953\"], [0.7777777777777778, \"#fb9f3a\"], [0.8888888888888888, \"#fdca26\"], [1.0, \"#f0f921\"]], \"type\": \"heatmap\"}], \"heatmapgl\": [{\"colorbar\": {\"outlinewidth\": 0, \"ticks\": \"\"}, \"colorscale\": [[0.0, \"#0d0887\"], [0.1111111111111111, \"#46039f\"], [0.2222222222222222, \"#7201a8\"], [0.3333333333333333, \"#9c179e\"], [0.4444444444444444, \"#bd3786\"], [0.5555555555555556, \"#d8576b\"], [0.6666666666666666, \"#ed7953\"], [0.7777777777777778, \"#fb9f3a\"], [0.8888888888888888, \"#fdca26\"], [1.0, \"#f0f921\"]], \"type\": \"heatmapgl\"}], \"histogram\": [{\"marker\": {\"colorbar\": {\"outlinewidth\": 0, \"ticks\": \"\"}}, \"type\": \"histogram\"}], \"histogram2d\": [{\"colorbar\": {\"outlinewidth\": 0, \"ticks\": \"\"}, \"colorscale\": [[0.0, \"#0d0887\"], [0.1111111111111111, \"#46039f\"], [0.2222222222222222, \"#7201a8\"], [0.3333333333333333, \"#9c179e\"], [0.4444444444444444, \"#bd3786\"], [0.5555555555555556, \"#d8576b\"], [0.6666666666666666, \"#ed7953\"], [0.7777777777777778, \"#fb9f3a\"], [0.8888888888888888, \"#fdca26\"], [1.0, \"#f0f921\"]], \"type\": \"histogram2d\"}], \"histogram2dcontour\": [{\"colorbar\": {\"outlinewidth\": 0, \"ticks\": \"\"}, \"colorscale\": [[0.0, \"#0d0887\"], [0.1111111111111111, \"#46039f\"], [0.2222222222222222, \"#7201a8\"], [0.3333333333333333, \"#9c179e\"], [0.4444444444444444, \"#bd3786\"], [0.5555555555555556, \"#d8576b\"], [0.6666666666666666, \"#ed7953\"], [0.7777777777777778, \"#fb9f3a\"], [0.8888888888888888, \"#fdca26\"], [1.0, \"#f0f921\"]], \"type\": \"histogram2dcontour\"}], \"mesh3d\": [{\"colorbar\": {\"outlinewidth\": 0, \"ticks\": \"\"}, \"type\": \"mesh3d\"}], \"parcoords\": [{\"line\": {\"colorbar\": {\"outlinewidth\": 0, \"ticks\": \"\"}}, \"type\": \"parcoords\"}], \"pie\": [{\"automargin\": true, \"type\": \"pie\"}], \"scatter\": [{\"marker\": {\"colorbar\": {\"outlinewidth\": 0, \"ticks\": \"\"}}, \"type\": \"scatter\"}], \"scatter3d\": [{\"line\": {\"colorbar\": {\"outlinewidth\": 0, \"ticks\": \"\"}}, \"marker\": {\"colorbar\": {\"outlinewidth\": 0, \"ticks\": \"\"}}, \"type\": \"scatter3d\"}], \"scattercarpet\": [{\"marker\": {\"colorbar\": {\"outlinewidth\": 0, \"ticks\": \"\"}}, \"type\": \"scattercarpet\"}], \"scattergeo\": [{\"marker\": {\"colorbar\": {\"outlinewidth\": 0, \"ticks\": \"\"}}, \"type\": \"scattergeo\"}], \"scattergl\": [{\"marker\": {\"colorbar\": {\"outlinewidth\": 0, \"ticks\": \"\"}}, \"type\": \"scattergl\"}], \"scattermapbox\": [{\"marker\": {\"colorbar\": {\"outlinewidth\": 0, \"ticks\": \"\"}}, \"type\": \"scattermapbox\"}], \"scatterpolar\": [{\"marker\": {\"colorbar\": {\"outlinewidth\": 0, \"ticks\": \"\"}}, \"type\": \"scatterpolar\"}], \"scatterpolargl\": [{\"marker\": {\"colorbar\": {\"outlinewidth\": 0, \"ticks\": \"\"}}, \"type\": \"scatterpolargl\"}], \"scatterternary\": [{\"marker\": {\"colorbar\": {\"outlinewidth\": 0, \"ticks\": \"\"}}, \"type\": \"scatterternary\"}], \"surface\": [{\"colorbar\": {\"outlinewidth\": 0, \"ticks\": \"\"}, \"colorscale\": [[0.0, \"#0d0887\"], [0.1111111111111111, \"#46039f\"], [0.2222222222222222, \"#7201a8\"], [0.3333333333333333, \"#9c179e\"], [0.4444444444444444, \"#bd3786\"], [0.5555555555555556, \"#d8576b\"], [0.6666666666666666, \"#ed7953\"], [0.7777777777777778, \"#fb9f3a\"], [0.8888888888888888, \"#fdca26\"], [1.0, \"#f0f921\"]], \"type\": \"surface\"}], \"table\": [{\"cells\": {\"fill\": {\"color\": \"#EBF0F8\"}, \"line\": {\"color\": \"white\"}}, \"header\": {\"fill\": {\"color\": \"#C8D4E3\"}, \"line\": {\"color\": \"white\"}}, \"type\": \"table\"}]}, \"layout\": {\"annotationdefaults\": {\"arrowcolor\": \"#2a3f5f\", \"arrowhead\": 0, \"arrowwidth\": 1}, \"coloraxis\": {\"colorbar\": {\"outlinewidth\": 0, \"ticks\": \"\"}}, \"colorscale\": {\"diverging\": [[0, \"#8e0152\"], [0.1, \"#c51b7d\"], [0.2, \"#de77ae\"], [0.3, \"#f1b6da\"], [0.4, \"#fde0ef\"], [0.5, \"#f7f7f7\"], [0.6, \"#e6f5d0\"], [0.7, \"#b8e186\"], [0.8, \"#7fbc41\"], [0.9, \"#4d9221\"], [1, \"#276419\"]], \"sequential\": [[0.0, \"#0d0887\"], [0.1111111111111111, \"#46039f\"], [0.2222222222222222, \"#7201a8\"], [0.3333333333333333, \"#9c179e\"], [0.4444444444444444, \"#bd3786\"], [0.5555555555555556, \"#d8576b\"], [0.6666666666666666, \"#ed7953\"], [0.7777777777777778, \"#fb9f3a\"], [0.8888888888888888, \"#fdca26\"], [1.0, \"#f0f921\"]], \"sequentialminus\": [[0.0, \"#0d0887\"], [0.1111111111111111, \"#46039f\"], [0.2222222222222222, \"#7201a8\"], [0.3333333333333333, \"#9c179e\"], [0.4444444444444444, \"#bd3786\"], [0.5555555555555556, \"#d8576b\"], [0.6666666666666666, \"#ed7953\"], [0.7777777777777778, \"#fb9f3a\"], [0.8888888888888888, \"#fdca26\"], [1.0, \"#f0f921\"]]}, \"colorway\": [\"#636efa\", \"#EF553B\", \"#00cc96\", \"#ab63fa\", \"#FFA15A\", \"#19d3f3\", \"#FF6692\", \"#B6E880\", \"#FF97FF\", \"#FECB52\"], \"font\": {\"color\": \"#2a3f5f\"}, \"geo\": {\"bgcolor\": \"white\", \"lakecolor\": \"white\", \"landcolor\": \"#E5ECF6\", \"showlakes\": true, \"showland\": true, \"subunitcolor\": \"white\"}, \"hoverlabel\": {\"align\": \"left\"}, \"hovermode\": \"closest\", \"mapbox\": {\"style\": \"light\"}, \"paper_bgcolor\": \"white\", \"plot_bgcolor\": \"#E5ECF6\", \"polar\": {\"angularaxis\": {\"gridcolor\": \"white\", \"linecolor\": \"white\", \"ticks\": \"\"}, \"bgcolor\": \"#E5ECF6\", \"radialaxis\": {\"gridcolor\": \"white\", \"linecolor\": \"white\", \"ticks\": \"\"}}, \"scene\": {\"xaxis\": {\"backgroundcolor\": \"#E5ECF6\", \"gridcolor\": \"white\", \"gridwidth\": 2, \"linecolor\": \"white\", \"showbackground\": true, \"ticks\": \"\", \"zerolinecolor\": \"white\"}, \"yaxis\": {\"backgroundcolor\": \"#E5ECF6\", \"gridcolor\": \"white\", \"gridwidth\": 2, \"linecolor\": \"white\", \"showbackground\": true, \"ticks\": \"\", \"zerolinecolor\": \"white\"}, \"zaxis\": {\"backgroundcolor\": \"#E5ECF6\", \"gridcolor\": \"white\", \"gridwidth\": 2, \"linecolor\": \"white\", \"showbackground\": true, \"ticks\": \"\", \"zerolinecolor\": \"white\"}}, \"shapedefaults\": {\"line\": {\"color\": \"#2a3f5f\"}}, \"ternary\": {\"aaxis\": {\"gridcolor\": \"white\", \"linecolor\": \"white\", \"ticks\": \"\"}, \"baxis\": {\"gridcolor\": \"white\", \"linecolor\": \"white\", \"ticks\": \"\"}, \"bgcolor\": \"#E5ECF6\", \"caxis\": {\"gridcolor\": \"white\", \"linecolor\": \"white\", \"ticks\": \"\"}}, \"title\": {\"x\": 0.05}, \"xaxis\": {\"automargin\": true, \"gridcolor\": \"white\", \"linecolor\": \"white\", \"ticks\": \"\", \"title\": {\"standoff\": 15}, \"zerolinecolor\": \"white\", \"zerolinewidth\": 2}, \"yaxis\": {\"automargin\": true, \"gridcolor\": \"white\", \"linecolor\": \"white\", \"ticks\": \"\", \"title\": {\"standoff\": 15}, \"zerolinecolor\": \"white\", \"zerolinewidth\": 2}}}, \"title\": {\"text\": \"Increase of cases with date\"}, \"xaxis\": {\"anchor\": \"y\", \"domain\": [0.0, 1.0], \"title\": {\"text\": \"Date\"}}, \"yaxis\": {\"anchor\": \"x\", \"domain\": [0.0, 1.0], \"title\": {\"text\": \"Confirmed\"}}},\n",
       "                        {\"responsive\": true}\n",
       "                    ).then(function(){\n",
       "                            \n",
       "var gd = document.getElementById('da2be702-50e9-41a5-a84e-879c683920a0');\n",
       "var x = new MutationObserver(function (mutations, observer) {{\n",
       "        var display = window.getComputedStyle(gd).display;\n",
       "        if (!display || display === 'none') {{\n",
       "            console.log([gd, 'removed!']);\n",
       "            Plotly.purge(gd);\n",
       "            observer.disconnect();\n",
       "        }}\n",
       "}});\n",
       "\n",
       "// Listen for the removal of the full notebook cells\n",
       "var notebookContainer = gd.closest('#notebook-container');\n",
       "if (notebookContainer) {{\n",
       "    x.observe(notebookContainer, {childList: true});\n",
       "}}\n",
       "\n",
       "// Listen for the clearing of the current output cell\n",
       "var outputEl = gd.closest('.output');\n",
       "if (outputEl) {{\n",
       "    x.observe(outputEl, {childList: true});\n",
       "}}\n",
       "\n",
       "                        })\n",
       "                };\n",
       "                });\n",
       "            </script>\n",
       "        </div>"
      ]
     },
     "metadata": {},
     "output_type": "display_data"
    }
   ],
   "source": [
    "fig.show()"
   ]
  },
  {
   "cell_type": "code",
   "execution_count": 29,
   "metadata": {},
   "outputs": [],
   "source": [
    "\n",
    "\n",
    "df2= df_train[df_train['Date']=='26/04/20']\n",
    "fig = px.bar(df2, x='State/UnionTerritory', color='State/UnionTerritory', y='Cured',height=700,title='Cured as of 26 April')"
   ]
  },
  {
   "cell_type": "code",
   "execution_count": 30,
   "metadata": {},
   "outputs": [
    {
     "data": {
      "application/vnd.plotly.v1+json": {
       "config": {
        "plotlyServerURL": "https://plot.ly"
       },
       "data": [
        {
         "alignmentgroup": "True",
         "hoverlabel": {
          "namelength": 0
         },
         "hovertemplate": "State/UnionTerritory=%{x}<br>Cured=%{y}",
         "legendgroup": "Andaman and Nicobar Islands",
         "marker": {
          "color": "#636efa"
         },
         "name": "Andaman and Nicobar Islands",
         "offsetgroup": "Andaman and Nicobar Islands",
         "orientation": "v",
         "showlegend": true,
         "textposition": "auto",
         "type": "bar",
         "x": [
          "Andaman and Nicobar Islands"
         ],
         "xaxis": "x",
         "y": [
          11
         ],
         "yaxis": "y"
        },
        {
         "alignmentgroup": "True",
         "hoverlabel": {
          "namelength": 0
         },
         "hovertemplate": "State/UnionTerritory=%{x}<br>Cured=%{y}",
         "legendgroup": "Andhra Pradesh",
         "marker": {
          "color": "#EF553B"
         },
         "name": "Andhra Pradesh",
         "offsetgroup": "Andhra Pradesh",
         "orientation": "v",
         "showlegend": true,
         "textposition": "auto",
         "type": "bar",
         "x": [
          "Andhra Pradesh"
         ],
         "xaxis": "x",
         "y": [
          231
         ],
         "yaxis": "y"
        },
        {
         "alignmentgroup": "True",
         "hoverlabel": {
          "namelength": 0
         },
         "hovertemplate": "State/UnionTerritory=%{x}<br>Cured=%{y}",
         "legendgroup": "Arunachal Pradesh",
         "marker": {
          "color": "#00cc96"
         },
         "name": "Arunachal Pradesh",
         "offsetgroup": "Arunachal Pradesh",
         "orientation": "v",
         "showlegend": true,
         "textposition": "auto",
         "type": "bar",
         "x": [
          "Arunachal Pradesh"
         ],
         "xaxis": "x",
         "y": [
          1
         ],
         "yaxis": "y"
        },
        {
         "alignmentgroup": "True",
         "hoverlabel": {
          "namelength": 0
         },
         "hovertemplate": "State/UnionTerritory=%{x}<br>Cured=%{y}",
         "legendgroup": "Assam",
         "marker": {
          "color": "#ab63fa"
         },
         "name": "Assam",
         "offsetgroup": "Assam",
         "orientation": "v",
         "showlegend": true,
         "textposition": "auto",
         "type": "bar",
         "x": [
          "Assam"
         ],
         "xaxis": "x",
         "y": [
          19
         ],
         "yaxis": "y"
        },
        {
         "alignmentgroup": "True",
         "hoverlabel": {
          "namelength": 0
         },
         "hovertemplate": "State/UnionTerritory=%{x}<br>Cured=%{y}",
         "legendgroup": "Bihar",
         "marker": {
          "color": "#FFA15A"
         },
         "name": "Bihar",
         "offsetgroup": "Bihar",
         "orientation": "v",
         "showlegend": true,
         "textposition": "auto",
         "type": "bar",
         "x": [
          "Bihar"
         ],
         "xaxis": "x",
         "y": [
          46
         ],
         "yaxis": "y"
        },
        {
         "alignmentgroup": "True",
         "hoverlabel": {
          "namelength": 0
         },
         "hovertemplate": "State/UnionTerritory=%{x}<br>Cured=%{y}",
         "legendgroup": "Chandigarh",
         "marker": {
          "color": "#19d3f3"
         },
         "name": "Chandigarh",
         "offsetgroup": "Chandigarh",
         "orientation": "v",
         "showlegend": true,
         "textposition": "auto",
         "type": "bar",
         "x": [
          "Chandigarh"
         ],
         "xaxis": "x",
         "y": [
          17
         ],
         "yaxis": "y"
        },
        {
         "alignmentgroup": "True",
         "hoverlabel": {
          "namelength": 0
         },
         "hovertemplate": "State/UnionTerritory=%{x}<br>Cured=%{y}",
         "legendgroup": "Chhattisgarh",
         "marker": {
          "color": "#FF6692"
         },
         "name": "Chhattisgarh",
         "offsetgroup": "Chhattisgarh",
         "orientation": "v",
         "showlegend": true,
         "textposition": "auto",
         "type": "bar",
         "x": [
          "Chhattisgarh"
         ],
         "xaxis": "x",
         "y": [
          32
         ],
         "yaxis": "y"
        },
        {
         "alignmentgroup": "True",
         "hoverlabel": {
          "namelength": 0
         },
         "hovertemplate": "State/UnionTerritory=%{x}<br>Cured=%{y}",
         "legendgroup": "Delhi",
         "marker": {
          "color": "#B6E880"
         },
         "name": "Delhi",
         "offsetgroup": "Delhi",
         "orientation": "v",
         "showlegend": true,
         "textposition": "auto",
         "type": "bar",
         "x": [
          "Delhi"
         ],
         "xaxis": "x",
         "y": [
          869
         ],
         "yaxis": "y"
        },
        {
         "alignmentgroup": "True",
         "hoverlabel": {
          "namelength": 0
         },
         "hovertemplate": "State/UnionTerritory=%{x}<br>Cured=%{y}",
         "legendgroup": "Goa",
         "marker": {
          "color": "#FF97FF"
         },
         "name": "Goa",
         "offsetgroup": "Goa",
         "orientation": "v",
         "showlegend": true,
         "textposition": "auto",
         "type": "bar",
         "x": [
          "Goa"
         ],
         "xaxis": "x",
         "y": [
          7
         ],
         "yaxis": "y"
        },
        {
         "alignmentgroup": "True",
         "hoverlabel": {
          "namelength": 0
         },
         "hovertemplate": "State/UnionTerritory=%{x}<br>Cured=%{y}",
         "legendgroup": "Gujarat",
         "marker": {
          "color": "#FECB52"
         },
         "name": "Gujarat",
         "offsetgroup": "Gujarat",
         "orientation": "v",
         "showlegend": true,
         "textposition": "auto",
         "type": "bar",
         "x": [
          "Gujarat"
         ],
         "xaxis": "x",
         "y": [
          282
         ],
         "yaxis": "y"
        },
        {
         "alignmentgroup": "True",
         "hoverlabel": {
          "namelength": 0
         },
         "hovertemplate": "State/UnionTerritory=%{x}<br>Cured=%{y}",
         "legendgroup": "Haryana",
         "marker": {
          "color": "#636efa"
         },
         "name": "Haryana",
         "offsetgroup": "Haryana",
         "orientation": "v",
         "showlegend": true,
         "textposition": "auto",
         "type": "bar",
         "x": [
          "Haryana"
         ],
         "xaxis": "x",
         "y": [
          176
         ],
         "yaxis": "y"
        },
        {
         "alignmentgroup": "True",
         "hoverlabel": {
          "namelength": 0
         },
         "hovertemplate": "State/UnionTerritory=%{x}<br>Cured=%{y}",
         "legendgroup": "Himachal Pradesh",
         "marker": {
          "color": "#EF553B"
         },
         "name": "Himachal Pradesh",
         "offsetgroup": "Himachal Pradesh",
         "orientation": "v",
         "showlegend": true,
         "textposition": "auto",
         "type": "bar",
         "x": [
          "Himachal Pradesh"
         ],
         "xaxis": "x",
         "y": [
          22
         ],
         "yaxis": "y"
        },
        {
         "alignmentgroup": "True",
         "hoverlabel": {
          "namelength": 0
         },
         "hovertemplate": "State/UnionTerritory=%{x}<br>Cured=%{y}",
         "legendgroup": "Jammu and Kashmir",
         "marker": {
          "color": "#00cc96"
         },
         "name": "Jammu and Kashmir",
         "offsetgroup": "Jammu and Kashmir",
         "orientation": "v",
         "showlegend": true,
         "textposition": "auto",
         "type": "bar",
         "x": [
          "Jammu and Kashmir"
         ],
         "xaxis": "x",
         "y": [
          112
         ],
         "yaxis": "y"
        },
        {
         "alignmentgroup": "True",
         "hoverlabel": {
          "namelength": 0
         },
         "hovertemplate": "State/UnionTerritory=%{x}<br>Cured=%{y}",
         "legendgroup": "Jharkhand",
         "marker": {
          "color": "#ab63fa"
         },
         "name": "Jharkhand",
         "offsetgroup": "Jharkhand",
         "orientation": "v",
         "showlegend": true,
         "textposition": "auto",
         "type": "bar",
         "x": [
          "Jharkhand"
         ],
         "xaxis": "x",
         "y": [
          13
         ],
         "yaxis": "y"
        },
        {
         "alignmentgroup": "True",
         "hoverlabel": {
          "namelength": 0
         },
         "hovertemplate": "State/UnionTerritory=%{x}<br>Cured=%{y}",
         "legendgroup": "Karnataka",
         "marker": {
          "color": "#FFA15A"
         },
         "name": "Karnataka",
         "offsetgroup": "Karnataka",
         "orientation": "v",
         "showlegend": true,
         "textposition": "auto",
         "type": "bar",
         "x": [
          "Karnataka"
         ],
         "xaxis": "x",
         "y": [
          177
         ],
         "yaxis": "y"
        },
        {
         "alignmentgroup": "True",
         "hoverlabel": {
          "namelength": 0
         },
         "hovertemplate": "State/UnionTerritory=%{x}<br>Cured=%{y}",
         "legendgroup": "Kerala",
         "marker": {
          "color": "#19d3f3"
         },
         "name": "Kerala",
         "offsetgroup": "Kerala",
         "orientation": "v",
         "showlegend": true,
         "textposition": "auto",
         "type": "bar",
         "x": [
          "Kerala"
         ],
         "xaxis": "x",
         "y": [
          338
         ],
         "yaxis": "y"
        },
        {
         "alignmentgroup": "True",
         "hoverlabel": {
          "namelength": 0
         },
         "hovertemplate": "State/UnionTerritory=%{x}<br>Cured=%{y}",
         "legendgroup": "Ladakh",
         "marker": {
          "color": "#FF6692"
         },
         "name": "Ladakh",
         "offsetgroup": "Ladakh",
         "orientation": "v",
         "showlegend": true,
         "textposition": "auto",
         "type": "bar",
         "x": [
          "Ladakh"
         ],
         "xaxis": "x",
         "y": [
          14
         ],
         "yaxis": "y"
        },
        {
         "alignmentgroup": "True",
         "hoverlabel": {
          "namelength": 0
         },
         "hovertemplate": "State/UnionTerritory=%{x}<br>Cured=%{y}",
         "legendgroup": "Madhya Pradesh",
         "marker": {
          "color": "#B6E880"
         },
         "name": "Madhya Pradesh",
         "offsetgroup": "Madhya Pradesh",
         "orientation": "v",
         "showlegend": true,
         "textposition": "auto",
         "type": "bar",
         "x": [
          "Madhya Pradesh"
         ],
         "xaxis": "x",
         "y": [
          210
         ],
         "yaxis": "y"
        },
        {
         "alignmentgroup": "True",
         "hoverlabel": {
          "namelength": 0
         },
         "hovertemplate": "State/UnionTerritory=%{x}<br>Cured=%{y}",
         "legendgroup": "Maharashtra",
         "marker": {
          "color": "#FF97FF"
         },
         "name": "Maharashtra",
         "offsetgroup": "Maharashtra",
         "orientation": "v",
         "showlegend": true,
         "textposition": "auto",
         "type": "bar",
         "x": [
          "Maharashtra"
         ],
         "xaxis": "x",
         "y": [
          1076
         ],
         "yaxis": "y"
        },
        {
         "alignmentgroup": "True",
         "hoverlabel": {
          "namelength": 0
         },
         "hovertemplate": "State/UnionTerritory=%{x}<br>Cured=%{y}",
         "legendgroup": "Manipur",
         "marker": {
          "color": "#FECB52"
         },
         "name": "Manipur",
         "offsetgroup": "Manipur",
         "orientation": "v",
         "showlegend": true,
         "textposition": "auto",
         "type": "bar",
         "x": [
          "Manipur"
         ],
         "xaxis": "x",
         "y": [
          2
         ],
         "yaxis": "y"
        },
        {
         "alignmentgroup": "True",
         "hoverlabel": {
          "namelength": 0
         },
         "hovertemplate": "State/UnionTerritory=%{x}<br>Cured=%{y}",
         "legendgroup": "Meghalaya",
         "marker": {
          "color": "#636efa"
         },
         "name": "Meghalaya",
         "offsetgroup": "Meghalaya",
         "orientation": "v",
         "showlegend": true,
         "textposition": "auto",
         "type": "bar",
         "x": [
          "Meghalaya"
         ],
         "xaxis": "x",
         "y": [
          0
         ],
         "yaxis": "y"
        },
        {
         "alignmentgroup": "True",
         "hoverlabel": {
          "namelength": 0
         },
         "hovertemplate": "State/UnionTerritory=%{x}<br>Cured=%{y}",
         "legendgroup": "Mizoram",
         "marker": {
          "color": "#EF553B"
         },
         "name": "Mizoram",
         "offsetgroup": "Mizoram",
         "orientation": "v",
         "showlegend": true,
         "textposition": "auto",
         "type": "bar",
         "x": [
          "Mizoram"
         ],
         "xaxis": "x",
         "y": [
          0
         ],
         "yaxis": "y"
        },
        {
         "alignmentgroup": "True",
         "hoverlabel": {
          "namelength": 0
         },
         "hovertemplate": "State/UnionTerritory=%{x}<br>Cured=%{y}",
         "legendgroup": "Odisha",
         "marker": {
          "color": "#00cc96"
         },
         "name": "Odisha",
         "offsetgroup": "Odisha",
         "orientation": "v",
         "showlegend": true,
         "textposition": "auto",
         "type": "bar",
         "x": [
          "Odisha"
         ],
         "xaxis": "x",
         "y": [
          34
         ],
         "yaxis": "y"
        },
        {
         "alignmentgroup": "True",
         "hoverlabel": {
          "namelength": 0
         },
         "hovertemplate": "State/UnionTerritory=%{x}<br>Cured=%{y}",
         "legendgroup": "Puducherry",
         "marker": {
          "color": "#ab63fa"
         },
         "name": "Puducherry",
         "offsetgroup": "Puducherry",
         "orientation": "v",
         "showlegend": true,
         "textposition": "auto",
         "type": "bar",
         "x": [
          "Puducherry"
         ],
         "xaxis": "x",
         "y": [
          3
         ],
         "yaxis": "y"
        },
        {
         "alignmentgroup": "True",
         "hoverlabel": {
          "namelength": 0
         },
         "hovertemplate": "State/UnionTerritory=%{x}<br>Cured=%{y}",
         "legendgroup": "Punjab",
         "marker": {
          "color": "#FFA15A"
         },
         "name": "Punjab",
         "offsetgroup": "Punjab",
         "orientation": "v",
         "showlegend": true,
         "textposition": "auto",
         "type": "bar",
         "x": [
          "Punjab"
         ],
         "xaxis": "x",
         "y": [
          67
         ],
         "yaxis": "y"
        },
        {
         "alignmentgroup": "True",
         "hoverlabel": {
          "namelength": 0
         },
         "hovertemplate": "State/UnionTerritory=%{x}<br>Cured=%{y}",
         "legendgroup": "Rajasthan",
         "marker": {
          "color": "#19d3f3"
         },
         "name": "Rajasthan",
         "offsetgroup": "Rajasthan",
         "orientation": "v",
         "showlegend": true,
         "textposition": "auto",
         "type": "bar",
         "x": [
          "Rajasthan"
         ],
         "xaxis": "x",
         "y": [
          493
         ],
         "yaxis": "y"
        },
        {
         "alignmentgroup": "True",
         "hoverlabel": {
          "namelength": 0
         },
         "hovertemplate": "State/UnionTerritory=%{x}<br>Cured=%{y}",
         "legendgroup": "Tamil Nadu",
         "marker": {
          "color": "#FF6692"
         },
         "name": "Tamil Nadu",
         "offsetgroup": "Tamil Nadu",
         "orientation": "v",
         "showlegend": true,
         "textposition": "auto",
         "type": "bar",
         "x": [
          "Tamil Nadu"
         ],
         "xaxis": "x",
         "y": [
          960
         ],
         "yaxis": "y"
        },
        {
         "alignmentgroup": "True",
         "hoverlabel": {
          "namelength": 0
         },
         "hovertemplate": "State/UnionTerritory=%{x}<br>Cured=%{y}",
         "legendgroup": "Telengana",
         "marker": {
          "color": "#B6E880"
         },
         "name": "Telengana",
         "offsetgroup": "Telengana",
         "orientation": "v",
         "showlegend": true,
         "textposition": "auto",
         "type": "bar",
         "x": [
          "Telengana"
         ],
         "xaxis": "x",
         "y": [
          280
         ],
         "yaxis": "y"
        },
        {
         "alignmentgroup": "True",
         "hoverlabel": {
          "namelength": 0
         },
         "hovertemplate": "State/UnionTerritory=%{x}<br>Cured=%{y}",
         "legendgroup": "Tripura",
         "marker": {
          "color": "#FF97FF"
         },
         "name": "Tripura",
         "offsetgroup": "Tripura",
         "orientation": "v",
         "showlegend": true,
         "textposition": "auto",
         "type": "bar",
         "x": [
          "Tripura"
         ],
         "xaxis": "x",
         "y": [
          2
         ],
         "yaxis": "y"
        },
        {
         "alignmentgroup": "True",
         "hoverlabel": {
          "namelength": 0
         },
         "hovertemplate": "State/UnionTerritory=%{x}<br>Cured=%{y}",
         "legendgroup": "Uttarakhand",
         "marker": {
          "color": "#FECB52"
         },
         "name": "Uttarakhand",
         "offsetgroup": "Uttarakhand",
         "orientation": "v",
         "showlegend": true,
         "textposition": "auto",
         "type": "bar",
         "x": [
          "Uttarakhand"
         ],
         "xaxis": "x",
         "y": [
          26
         ],
         "yaxis": "y"
        },
        {
         "alignmentgroup": "True",
         "hoverlabel": {
          "namelength": 0
         },
         "hovertemplate": "State/UnionTerritory=%{x}<br>Cured=%{y}",
         "legendgroup": "Uttar Pradesh",
         "marker": {
          "color": "#636efa"
         },
         "name": "Uttar Pradesh",
         "offsetgroup": "Uttar Pradesh",
         "orientation": "v",
         "showlegend": true,
         "textposition": "auto",
         "type": "bar",
         "x": [
          "Uttar Pradesh"
         ],
         "xaxis": "x",
         "y": [
          289
         ],
         "yaxis": "y"
        },
        {
         "alignmentgroup": "True",
         "hoverlabel": {
          "namelength": 0
         },
         "hovertemplate": "State/UnionTerritory=%{x}<br>Cured=%{y}",
         "legendgroup": "West Bengal",
         "marker": {
          "color": "#EF553B"
         },
         "name": "West Bengal",
         "offsetgroup": "West Bengal",
         "orientation": "v",
         "showlegend": true,
         "textposition": "auto",
         "type": "bar",
         "x": [
          "West Bengal"
         ],
         "xaxis": "x",
         "y": [
          105
         ],
         "yaxis": "y"
        }
       ],
       "layout": {
        "barmode": "relative",
        "height": 700,
        "legend": {
         "title": {
          "text": "State/UnionTerritory"
         },
         "tracegroupgap": 0
        },
        "template": {
         "data": {
          "bar": [
           {
            "error_x": {
             "color": "#2a3f5f"
            },
            "error_y": {
             "color": "#2a3f5f"
            },
            "marker": {
             "line": {
              "color": "#E5ECF6",
              "width": 0.5
             }
            },
            "type": "bar"
           }
          ],
          "barpolar": [
           {
            "marker": {
             "line": {
              "color": "#E5ECF6",
              "width": 0.5
             }
            },
            "type": "barpolar"
           }
          ],
          "carpet": [
           {
            "aaxis": {
             "endlinecolor": "#2a3f5f",
             "gridcolor": "white",
             "linecolor": "white",
             "minorgridcolor": "white",
             "startlinecolor": "#2a3f5f"
            },
            "baxis": {
             "endlinecolor": "#2a3f5f",
             "gridcolor": "white",
             "linecolor": "white",
             "minorgridcolor": "white",
             "startlinecolor": "#2a3f5f"
            },
            "type": "carpet"
           }
          ],
          "choropleth": [
           {
            "colorbar": {
             "outlinewidth": 0,
             "ticks": ""
            },
            "type": "choropleth"
           }
          ],
          "contour": [
           {
            "colorbar": {
             "outlinewidth": 0,
             "ticks": ""
            },
            "colorscale": [
             [
              0,
              "#0d0887"
             ],
             [
              0.1111111111111111,
              "#46039f"
             ],
             [
              0.2222222222222222,
              "#7201a8"
             ],
             [
              0.3333333333333333,
              "#9c179e"
             ],
             [
              0.4444444444444444,
              "#bd3786"
             ],
             [
              0.5555555555555556,
              "#d8576b"
             ],
             [
              0.6666666666666666,
              "#ed7953"
             ],
             [
              0.7777777777777778,
              "#fb9f3a"
             ],
             [
              0.8888888888888888,
              "#fdca26"
             ],
             [
              1,
              "#f0f921"
             ]
            ],
            "type": "contour"
           }
          ],
          "contourcarpet": [
           {
            "colorbar": {
             "outlinewidth": 0,
             "ticks": ""
            },
            "type": "contourcarpet"
           }
          ],
          "heatmap": [
           {
            "colorbar": {
             "outlinewidth": 0,
             "ticks": ""
            },
            "colorscale": [
             [
              0,
              "#0d0887"
             ],
             [
              0.1111111111111111,
              "#46039f"
             ],
             [
              0.2222222222222222,
              "#7201a8"
             ],
             [
              0.3333333333333333,
              "#9c179e"
             ],
             [
              0.4444444444444444,
              "#bd3786"
             ],
             [
              0.5555555555555556,
              "#d8576b"
             ],
             [
              0.6666666666666666,
              "#ed7953"
             ],
             [
              0.7777777777777778,
              "#fb9f3a"
             ],
             [
              0.8888888888888888,
              "#fdca26"
             ],
             [
              1,
              "#f0f921"
             ]
            ],
            "type": "heatmap"
           }
          ],
          "heatmapgl": [
           {
            "colorbar": {
             "outlinewidth": 0,
             "ticks": ""
            },
            "colorscale": [
             [
              0,
              "#0d0887"
             ],
             [
              0.1111111111111111,
              "#46039f"
             ],
             [
              0.2222222222222222,
              "#7201a8"
             ],
             [
              0.3333333333333333,
              "#9c179e"
             ],
             [
              0.4444444444444444,
              "#bd3786"
             ],
             [
              0.5555555555555556,
              "#d8576b"
             ],
             [
              0.6666666666666666,
              "#ed7953"
             ],
             [
              0.7777777777777778,
              "#fb9f3a"
             ],
             [
              0.8888888888888888,
              "#fdca26"
             ],
             [
              1,
              "#f0f921"
             ]
            ],
            "type": "heatmapgl"
           }
          ],
          "histogram": [
           {
            "marker": {
             "colorbar": {
              "outlinewidth": 0,
              "ticks": ""
             }
            },
            "type": "histogram"
           }
          ],
          "histogram2d": [
           {
            "colorbar": {
             "outlinewidth": 0,
             "ticks": ""
            },
            "colorscale": [
             [
              0,
              "#0d0887"
             ],
             [
              0.1111111111111111,
              "#46039f"
             ],
             [
              0.2222222222222222,
              "#7201a8"
             ],
             [
              0.3333333333333333,
              "#9c179e"
             ],
             [
              0.4444444444444444,
              "#bd3786"
             ],
             [
              0.5555555555555556,
              "#d8576b"
             ],
             [
              0.6666666666666666,
              "#ed7953"
             ],
             [
              0.7777777777777778,
              "#fb9f3a"
             ],
             [
              0.8888888888888888,
              "#fdca26"
             ],
             [
              1,
              "#f0f921"
             ]
            ],
            "type": "histogram2d"
           }
          ],
          "histogram2dcontour": [
           {
            "colorbar": {
             "outlinewidth": 0,
             "ticks": ""
            },
            "colorscale": [
             [
              0,
              "#0d0887"
             ],
             [
              0.1111111111111111,
              "#46039f"
             ],
             [
              0.2222222222222222,
              "#7201a8"
             ],
             [
              0.3333333333333333,
              "#9c179e"
             ],
             [
              0.4444444444444444,
              "#bd3786"
             ],
             [
              0.5555555555555556,
              "#d8576b"
             ],
             [
              0.6666666666666666,
              "#ed7953"
             ],
             [
              0.7777777777777778,
              "#fb9f3a"
             ],
             [
              0.8888888888888888,
              "#fdca26"
             ],
             [
              1,
              "#f0f921"
             ]
            ],
            "type": "histogram2dcontour"
           }
          ],
          "mesh3d": [
           {
            "colorbar": {
             "outlinewidth": 0,
             "ticks": ""
            },
            "type": "mesh3d"
           }
          ],
          "parcoords": [
           {
            "line": {
             "colorbar": {
              "outlinewidth": 0,
              "ticks": ""
             }
            },
            "type": "parcoords"
           }
          ],
          "pie": [
           {
            "automargin": true,
            "type": "pie"
           }
          ],
          "scatter": [
           {
            "marker": {
             "colorbar": {
              "outlinewidth": 0,
              "ticks": ""
             }
            },
            "type": "scatter"
           }
          ],
          "scatter3d": [
           {
            "line": {
             "colorbar": {
              "outlinewidth": 0,
              "ticks": ""
             }
            },
            "marker": {
             "colorbar": {
              "outlinewidth": 0,
              "ticks": ""
             }
            },
            "type": "scatter3d"
           }
          ],
          "scattercarpet": [
           {
            "marker": {
             "colorbar": {
              "outlinewidth": 0,
              "ticks": ""
             }
            },
            "type": "scattercarpet"
           }
          ],
          "scattergeo": [
           {
            "marker": {
             "colorbar": {
              "outlinewidth": 0,
              "ticks": ""
             }
            },
            "type": "scattergeo"
           }
          ],
          "scattergl": [
           {
            "marker": {
             "colorbar": {
              "outlinewidth": 0,
              "ticks": ""
             }
            },
            "type": "scattergl"
           }
          ],
          "scattermapbox": [
           {
            "marker": {
             "colorbar": {
              "outlinewidth": 0,
              "ticks": ""
             }
            },
            "type": "scattermapbox"
           }
          ],
          "scatterpolar": [
           {
            "marker": {
             "colorbar": {
              "outlinewidth": 0,
              "ticks": ""
             }
            },
            "type": "scatterpolar"
           }
          ],
          "scatterpolargl": [
           {
            "marker": {
             "colorbar": {
              "outlinewidth": 0,
              "ticks": ""
             }
            },
            "type": "scatterpolargl"
           }
          ],
          "scatterternary": [
           {
            "marker": {
             "colorbar": {
              "outlinewidth": 0,
              "ticks": ""
             }
            },
            "type": "scatterternary"
           }
          ],
          "surface": [
           {
            "colorbar": {
             "outlinewidth": 0,
             "ticks": ""
            },
            "colorscale": [
             [
              0,
              "#0d0887"
             ],
             [
              0.1111111111111111,
              "#46039f"
             ],
             [
              0.2222222222222222,
              "#7201a8"
             ],
             [
              0.3333333333333333,
              "#9c179e"
             ],
             [
              0.4444444444444444,
              "#bd3786"
             ],
             [
              0.5555555555555556,
              "#d8576b"
             ],
             [
              0.6666666666666666,
              "#ed7953"
             ],
             [
              0.7777777777777778,
              "#fb9f3a"
             ],
             [
              0.8888888888888888,
              "#fdca26"
             ],
             [
              1,
              "#f0f921"
             ]
            ],
            "type": "surface"
           }
          ],
          "table": [
           {
            "cells": {
             "fill": {
              "color": "#EBF0F8"
             },
             "line": {
              "color": "white"
             }
            },
            "header": {
             "fill": {
              "color": "#C8D4E3"
             },
             "line": {
              "color": "white"
             }
            },
            "type": "table"
           }
          ]
         },
         "layout": {
          "annotationdefaults": {
           "arrowcolor": "#2a3f5f",
           "arrowhead": 0,
           "arrowwidth": 1
          },
          "coloraxis": {
           "colorbar": {
            "outlinewidth": 0,
            "ticks": ""
           }
          },
          "colorscale": {
           "diverging": [
            [
             0,
             "#8e0152"
            ],
            [
             0.1,
             "#c51b7d"
            ],
            [
             0.2,
             "#de77ae"
            ],
            [
             0.3,
             "#f1b6da"
            ],
            [
             0.4,
             "#fde0ef"
            ],
            [
             0.5,
             "#f7f7f7"
            ],
            [
             0.6,
             "#e6f5d0"
            ],
            [
             0.7,
             "#b8e186"
            ],
            [
             0.8,
             "#7fbc41"
            ],
            [
             0.9,
             "#4d9221"
            ],
            [
             1,
             "#276419"
            ]
           ],
           "sequential": [
            [
             0,
             "#0d0887"
            ],
            [
             0.1111111111111111,
             "#46039f"
            ],
            [
             0.2222222222222222,
             "#7201a8"
            ],
            [
             0.3333333333333333,
             "#9c179e"
            ],
            [
             0.4444444444444444,
             "#bd3786"
            ],
            [
             0.5555555555555556,
             "#d8576b"
            ],
            [
             0.6666666666666666,
             "#ed7953"
            ],
            [
             0.7777777777777778,
             "#fb9f3a"
            ],
            [
             0.8888888888888888,
             "#fdca26"
            ],
            [
             1,
             "#f0f921"
            ]
           ],
           "sequentialminus": [
            [
             0,
             "#0d0887"
            ],
            [
             0.1111111111111111,
             "#46039f"
            ],
            [
             0.2222222222222222,
             "#7201a8"
            ],
            [
             0.3333333333333333,
             "#9c179e"
            ],
            [
             0.4444444444444444,
             "#bd3786"
            ],
            [
             0.5555555555555556,
             "#d8576b"
            ],
            [
             0.6666666666666666,
             "#ed7953"
            ],
            [
             0.7777777777777778,
             "#fb9f3a"
            ],
            [
             0.8888888888888888,
             "#fdca26"
            ],
            [
             1,
             "#f0f921"
            ]
           ]
          },
          "colorway": [
           "#636efa",
           "#EF553B",
           "#00cc96",
           "#ab63fa",
           "#FFA15A",
           "#19d3f3",
           "#FF6692",
           "#B6E880",
           "#FF97FF",
           "#FECB52"
          ],
          "font": {
           "color": "#2a3f5f"
          },
          "geo": {
           "bgcolor": "white",
           "lakecolor": "white",
           "landcolor": "#E5ECF6",
           "showlakes": true,
           "showland": true,
           "subunitcolor": "white"
          },
          "hoverlabel": {
           "align": "left"
          },
          "hovermode": "closest",
          "mapbox": {
           "style": "light"
          },
          "paper_bgcolor": "white",
          "plot_bgcolor": "#E5ECF6",
          "polar": {
           "angularaxis": {
            "gridcolor": "white",
            "linecolor": "white",
            "ticks": ""
           },
           "bgcolor": "#E5ECF6",
           "radialaxis": {
            "gridcolor": "white",
            "linecolor": "white",
            "ticks": ""
           }
          },
          "scene": {
           "xaxis": {
            "backgroundcolor": "#E5ECF6",
            "gridcolor": "white",
            "gridwidth": 2,
            "linecolor": "white",
            "showbackground": true,
            "ticks": "",
            "zerolinecolor": "white"
           },
           "yaxis": {
            "backgroundcolor": "#E5ECF6",
            "gridcolor": "white",
            "gridwidth": 2,
            "linecolor": "white",
            "showbackground": true,
            "ticks": "",
            "zerolinecolor": "white"
           },
           "zaxis": {
            "backgroundcolor": "#E5ECF6",
            "gridcolor": "white",
            "gridwidth": 2,
            "linecolor": "white",
            "showbackground": true,
            "ticks": "",
            "zerolinecolor": "white"
           }
          },
          "shapedefaults": {
           "line": {
            "color": "#2a3f5f"
           }
          },
          "ternary": {
           "aaxis": {
            "gridcolor": "white",
            "linecolor": "white",
            "ticks": ""
           },
           "baxis": {
            "gridcolor": "white",
            "linecolor": "white",
            "ticks": ""
           },
           "bgcolor": "#E5ECF6",
           "caxis": {
            "gridcolor": "white",
            "linecolor": "white",
            "ticks": ""
           }
          },
          "title": {
           "x": 0.05
          },
          "xaxis": {
           "automargin": true,
           "gridcolor": "white",
           "linecolor": "white",
           "ticks": "",
           "title": {
            "standoff": 15
           },
           "zerolinecolor": "white",
           "zerolinewidth": 2
          },
          "yaxis": {
           "automargin": true,
           "gridcolor": "white",
           "linecolor": "white",
           "ticks": "",
           "title": {
            "standoff": 15
           },
           "zerolinecolor": "white",
           "zerolinewidth": 2
          }
         }
        },
        "title": {
         "text": "Cured as of 26 April"
        },
        "xaxis": {
         "anchor": "y",
         "categoryarray": [
          "Andaman and Nicobar Islands",
          "Andhra Pradesh",
          "Arunachal Pradesh",
          "Assam",
          "Bihar",
          "Chandigarh",
          "Chhattisgarh",
          "Delhi",
          "Goa",
          "Gujarat",
          "Haryana",
          "Himachal Pradesh",
          "Jammu and Kashmir",
          "Jharkhand",
          "Karnataka",
          "Kerala",
          "Ladakh",
          "Madhya Pradesh",
          "Maharashtra",
          "Manipur",
          "Meghalaya",
          "Mizoram",
          "Odisha",
          "Puducherry",
          "Punjab",
          "Rajasthan",
          "Tamil Nadu",
          "Telengana",
          "Tripura",
          "Uttarakhand",
          "Uttar Pradesh",
          "West Bengal"
         ],
         "categoryorder": "array",
         "domain": [
          0,
          1
         ],
         "title": {
          "text": "State/UnionTerritory"
         }
        },
        "yaxis": {
         "anchor": "x",
         "domain": [
          0,
          1
         ],
         "title": {
          "text": "Cured"
         }
        }
       }
      },
      "text/html": [
       "<div>\n",
       "        \n",
       "        \n",
       "            <div id=\"8fdde13f-b5aa-4971-85fd-23cd95befa9a\" class=\"plotly-graph-div\" style=\"height:700px; width:100%;\"></div>\n",
       "            <script type=\"text/javascript\">\n",
       "                require([\"plotly\"], function(Plotly) {\n",
       "                    window.PLOTLYENV=window.PLOTLYENV || {};\n",
       "                    \n",
       "                if (document.getElementById(\"8fdde13f-b5aa-4971-85fd-23cd95befa9a\")) {\n",
       "                    Plotly.newPlot(\n",
       "                        '8fdde13f-b5aa-4971-85fd-23cd95befa9a',\n",
       "                        [{\"alignmentgroup\": \"True\", \"hoverlabel\": {\"namelength\": 0}, \"hovertemplate\": \"State/UnionTerritory=%{x}<br>Cured=%{y}\", \"legendgroup\": \"Andaman and Nicobar Islands\", \"marker\": {\"color\": \"#636efa\"}, \"name\": \"Andaman and Nicobar Islands\", \"offsetgroup\": \"Andaman and Nicobar Islands\", \"orientation\": \"v\", \"showlegend\": true, \"textposition\": \"auto\", \"type\": \"bar\", \"x\": [\"Andaman and Nicobar Islands\"], \"xaxis\": \"x\", \"y\": [11], \"yaxis\": \"y\"}, {\"alignmentgroup\": \"True\", \"hoverlabel\": {\"namelength\": 0}, \"hovertemplate\": \"State/UnionTerritory=%{x}<br>Cured=%{y}\", \"legendgroup\": \"Andhra Pradesh\", \"marker\": {\"color\": \"#EF553B\"}, \"name\": \"Andhra Pradesh\", \"offsetgroup\": \"Andhra Pradesh\", \"orientation\": \"v\", \"showlegend\": true, \"textposition\": \"auto\", \"type\": \"bar\", \"x\": [\"Andhra Pradesh\"], \"xaxis\": \"x\", \"y\": [231], \"yaxis\": \"y\"}, {\"alignmentgroup\": \"True\", \"hoverlabel\": {\"namelength\": 0}, \"hovertemplate\": \"State/UnionTerritory=%{x}<br>Cured=%{y}\", \"legendgroup\": \"Arunachal Pradesh\", \"marker\": {\"color\": \"#00cc96\"}, \"name\": \"Arunachal Pradesh\", \"offsetgroup\": \"Arunachal Pradesh\", \"orientation\": \"v\", \"showlegend\": true, \"textposition\": \"auto\", \"type\": \"bar\", \"x\": [\"Arunachal Pradesh\"], \"xaxis\": \"x\", \"y\": [1], \"yaxis\": \"y\"}, {\"alignmentgroup\": \"True\", \"hoverlabel\": {\"namelength\": 0}, \"hovertemplate\": \"State/UnionTerritory=%{x}<br>Cured=%{y}\", \"legendgroup\": \"Assam\", \"marker\": {\"color\": \"#ab63fa\"}, \"name\": \"Assam\", \"offsetgroup\": \"Assam\", \"orientation\": \"v\", \"showlegend\": true, \"textposition\": \"auto\", \"type\": \"bar\", \"x\": [\"Assam\"], \"xaxis\": \"x\", \"y\": [19], \"yaxis\": \"y\"}, {\"alignmentgroup\": \"True\", \"hoverlabel\": {\"namelength\": 0}, \"hovertemplate\": \"State/UnionTerritory=%{x}<br>Cured=%{y}\", \"legendgroup\": \"Bihar\", \"marker\": {\"color\": \"#FFA15A\"}, \"name\": \"Bihar\", \"offsetgroup\": \"Bihar\", \"orientation\": \"v\", \"showlegend\": true, \"textposition\": \"auto\", \"type\": \"bar\", \"x\": [\"Bihar\"], \"xaxis\": \"x\", \"y\": [46], \"yaxis\": \"y\"}, {\"alignmentgroup\": \"True\", \"hoverlabel\": {\"namelength\": 0}, \"hovertemplate\": \"State/UnionTerritory=%{x}<br>Cured=%{y}\", \"legendgroup\": \"Chandigarh\", \"marker\": {\"color\": \"#19d3f3\"}, \"name\": \"Chandigarh\", \"offsetgroup\": \"Chandigarh\", \"orientation\": \"v\", \"showlegend\": true, \"textposition\": \"auto\", \"type\": \"bar\", \"x\": [\"Chandigarh\"], \"xaxis\": \"x\", \"y\": [17], \"yaxis\": \"y\"}, {\"alignmentgroup\": \"True\", \"hoverlabel\": {\"namelength\": 0}, \"hovertemplate\": \"State/UnionTerritory=%{x}<br>Cured=%{y}\", \"legendgroup\": \"Chhattisgarh\", \"marker\": {\"color\": \"#FF6692\"}, \"name\": \"Chhattisgarh\", \"offsetgroup\": \"Chhattisgarh\", \"orientation\": \"v\", \"showlegend\": true, \"textposition\": \"auto\", \"type\": \"bar\", \"x\": [\"Chhattisgarh\"], \"xaxis\": \"x\", \"y\": [32], \"yaxis\": \"y\"}, {\"alignmentgroup\": \"True\", \"hoverlabel\": {\"namelength\": 0}, \"hovertemplate\": \"State/UnionTerritory=%{x}<br>Cured=%{y}\", \"legendgroup\": \"Delhi\", \"marker\": {\"color\": \"#B6E880\"}, \"name\": \"Delhi\", \"offsetgroup\": \"Delhi\", \"orientation\": \"v\", \"showlegend\": true, \"textposition\": \"auto\", \"type\": \"bar\", \"x\": [\"Delhi\"], \"xaxis\": \"x\", \"y\": [869], \"yaxis\": \"y\"}, {\"alignmentgroup\": \"True\", \"hoverlabel\": {\"namelength\": 0}, \"hovertemplate\": \"State/UnionTerritory=%{x}<br>Cured=%{y}\", \"legendgroup\": \"Goa\", \"marker\": {\"color\": \"#FF97FF\"}, \"name\": \"Goa\", \"offsetgroup\": \"Goa\", \"orientation\": \"v\", \"showlegend\": true, \"textposition\": \"auto\", \"type\": \"bar\", \"x\": [\"Goa\"], \"xaxis\": \"x\", \"y\": [7], \"yaxis\": \"y\"}, {\"alignmentgroup\": \"True\", \"hoverlabel\": {\"namelength\": 0}, \"hovertemplate\": \"State/UnionTerritory=%{x}<br>Cured=%{y}\", \"legendgroup\": \"Gujarat\", \"marker\": {\"color\": \"#FECB52\"}, \"name\": \"Gujarat\", \"offsetgroup\": \"Gujarat\", \"orientation\": \"v\", \"showlegend\": true, \"textposition\": \"auto\", \"type\": \"bar\", \"x\": [\"Gujarat\"], \"xaxis\": \"x\", \"y\": [282], \"yaxis\": \"y\"}, {\"alignmentgroup\": \"True\", \"hoverlabel\": {\"namelength\": 0}, \"hovertemplate\": \"State/UnionTerritory=%{x}<br>Cured=%{y}\", \"legendgroup\": \"Haryana\", \"marker\": {\"color\": \"#636efa\"}, \"name\": \"Haryana\", \"offsetgroup\": \"Haryana\", \"orientation\": \"v\", \"showlegend\": true, \"textposition\": \"auto\", \"type\": \"bar\", \"x\": [\"Haryana\"], \"xaxis\": \"x\", \"y\": [176], \"yaxis\": \"y\"}, {\"alignmentgroup\": \"True\", \"hoverlabel\": {\"namelength\": 0}, \"hovertemplate\": \"State/UnionTerritory=%{x}<br>Cured=%{y}\", \"legendgroup\": \"Himachal Pradesh\", \"marker\": {\"color\": \"#EF553B\"}, \"name\": \"Himachal Pradesh\", \"offsetgroup\": \"Himachal Pradesh\", \"orientation\": \"v\", \"showlegend\": true, \"textposition\": \"auto\", \"type\": \"bar\", \"x\": [\"Himachal Pradesh\"], \"xaxis\": \"x\", \"y\": [22], \"yaxis\": \"y\"}, {\"alignmentgroup\": \"True\", \"hoverlabel\": {\"namelength\": 0}, \"hovertemplate\": \"State/UnionTerritory=%{x}<br>Cured=%{y}\", \"legendgroup\": \"Jammu and Kashmir\", \"marker\": {\"color\": \"#00cc96\"}, \"name\": \"Jammu and Kashmir\", \"offsetgroup\": \"Jammu and Kashmir\", \"orientation\": \"v\", \"showlegend\": true, \"textposition\": \"auto\", \"type\": \"bar\", \"x\": [\"Jammu and Kashmir\"], \"xaxis\": \"x\", \"y\": [112], \"yaxis\": \"y\"}, {\"alignmentgroup\": \"True\", \"hoverlabel\": {\"namelength\": 0}, \"hovertemplate\": \"State/UnionTerritory=%{x}<br>Cured=%{y}\", \"legendgroup\": \"Jharkhand\", \"marker\": {\"color\": \"#ab63fa\"}, \"name\": \"Jharkhand\", \"offsetgroup\": \"Jharkhand\", \"orientation\": \"v\", \"showlegend\": true, \"textposition\": \"auto\", \"type\": \"bar\", \"x\": [\"Jharkhand\"], \"xaxis\": \"x\", \"y\": [13], \"yaxis\": \"y\"}, {\"alignmentgroup\": \"True\", \"hoverlabel\": {\"namelength\": 0}, \"hovertemplate\": \"State/UnionTerritory=%{x}<br>Cured=%{y}\", \"legendgroup\": \"Karnataka\", \"marker\": {\"color\": \"#FFA15A\"}, \"name\": \"Karnataka\", \"offsetgroup\": \"Karnataka\", \"orientation\": \"v\", \"showlegend\": true, \"textposition\": \"auto\", \"type\": \"bar\", \"x\": [\"Karnataka\"], \"xaxis\": \"x\", \"y\": [177], \"yaxis\": \"y\"}, {\"alignmentgroup\": \"True\", \"hoverlabel\": {\"namelength\": 0}, \"hovertemplate\": \"State/UnionTerritory=%{x}<br>Cured=%{y}\", \"legendgroup\": \"Kerala\", \"marker\": {\"color\": \"#19d3f3\"}, \"name\": \"Kerala\", \"offsetgroup\": \"Kerala\", \"orientation\": \"v\", \"showlegend\": true, \"textposition\": \"auto\", \"type\": \"bar\", \"x\": [\"Kerala\"], \"xaxis\": \"x\", \"y\": [338], \"yaxis\": \"y\"}, {\"alignmentgroup\": \"True\", \"hoverlabel\": {\"namelength\": 0}, \"hovertemplate\": \"State/UnionTerritory=%{x}<br>Cured=%{y}\", \"legendgroup\": \"Ladakh\", \"marker\": {\"color\": \"#FF6692\"}, \"name\": \"Ladakh\", \"offsetgroup\": \"Ladakh\", \"orientation\": \"v\", \"showlegend\": true, \"textposition\": \"auto\", \"type\": \"bar\", \"x\": [\"Ladakh\"], \"xaxis\": \"x\", \"y\": [14], \"yaxis\": \"y\"}, {\"alignmentgroup\": \"True\", \"hoverlabel\": {\"namelength\": 0}, \"hovertemplate\": \"State/UnionTerritory=%{x}<br>Cured=%{y}\", \"legendgroup\": \"Madhya Pradesh\", \"marker\": {\"color\": \"#B6E880\"}, \"name\": \"Madhya Pradesh\", \"offsetgroup\": \"Madhya Pradesh\", \"orientation\": \"v\", \"showlegend\": true, \"textposition\": \"auto\", \"type\": \"bar\", \"x\": [\"Madhya Pradesh\"], \"xaxis\": \"x\", \"y\": [210], \"yaxis\": \"y\"}, {\"alignmentgroup\": \"True\", \"hoverlabel\": {\"namelength\": 0}, \"hovertemplate\": \"State/UnionTerritory=%{x}<br>Cured=%{y}\", \"legendgroup\": \"Maharashtra\", \"marker\": {\"color\": \"#FF97FF\"}, \"name\": \"Maharashtra\", \"offsetgroup\": \"Maharashtra\", \"orientation\": \"v\", \"showlegend\": true, \"textposition\": \"auto\", \"type\": \"bar\", \"x\": [\"Maharashtra\"], \"xaxis\": \"x\", \"y\": [1076], \"yaxis\": \"y\"}, {\"alignmentgroup\": \"True\", \"hoverlabel\": {\"namelength\": 0}, \"hovertemplate\": \"State/UnionTerritory=%{x}<br>Cured=%{y}\", \"legendgroup\": \"Manipur\", \"marker\": {\"color\": \"#FECB52\"}, \"name\": \"Manipur\", \"offsetgroup\": \"Manipur\", \"orientation\": \"v\", \"showlegend\": true, \"textposition\": \"auto\", \"type\": \"bar\", \"x\": [\"Manipur\"], \"xaxis\": \"x\", \"y\": [2], \"yaxis\": \"y\"}, {\"alignmentgroup\": \"True\", \"hoverlabel\": {\"namelength\": 0}, \"hovertemplate\": \"State/UnionTerritory=%{x}<br>Cured=%{y}\", \"legendgroup\": \"Meghalaya\", \"marker\": {\"color\": \"#636efa\"}, \"name\": \"Meghalaya\", \"offsetgroup\": \"Meghalaya\", \"orientation\": \"v\", \"showlegend\": true, \"textposition\": \"auto\", \"type\": \"bar\", \"x\": [\"Meghalaya\"], \"xaxis\": \"x\", \"y\": [0], \"yaxis\": \"y\"}, {\"alignmentgroup\": \"True\", \"hoverlabel\": {\"namelength\": 0}, \"hovertemplate\": \"State/UnionTerritory=%{x}<br>Cured=%{y}\", \"legendgroup\": \"Mizoram\", \"marker\": {\"color\": \"#EF553B\"}, \"name\": \"Mizoram\", \"offsetgroup\": \"Mizoram\", \"orientation\": \"v\", \"showlegend\": true, \"textposition\": \"auto\", \"type\": \"bar\", \"x\": [\"Mizoram\"], \"xaxis\": \"x\", \"y\": [0], \"yaxis\": \"y\"}, {\"alignmentgroup\": \"True\", \"hoverlabel\": {\"namelength\": 0}, \"hovertemplate\": \"State/UnionTerritory=%{x}<br>Cured=%{y}\", \"legendgroup\": \"Odisha\", \"marker\": {\"color\": \"#00cc96\"}, \"name\": \"Odisha\", \"offsetgroup\": \"Odisha\", \"orientation\": \"v\", \"showlegend\": true, \"textposition\": \"auto\", \"type\": \"bar\", \"x\": [\"Odisha\"], \"xaxis\": \"x\", \"y\": [34], \"yaxis\": \"y\"}, {\"alignmentgroup\": \"True\", \"hoverlabel\": {\"namelength\": 0}, \"hovertemplate\": \"State/UnionTerritory=%{x}<br>Cured=%{y}\", \"legendgroup\": \"Puducherry\", \"marker\": {\"color\": \"#ab63fa\"}, \"name\": \"Puducherry\", \"offsetgroup\": \"Puducherry\", \"orientation\": \"v\", \"showlegend\": true, \"textposition\": \"auto\", \"type\": \"bar\", \"x\": [\"Puducherry\"], \"xaxis\": \"x\", \"y\": [3], \"yaxis\": \"y\"}, {\"alignmentgroup\": \"True\", \"hoverlabel\": {\"namelength\": 0}, \"hovertemplate\": \"State/UnionTerritory=%{x}<br>Cured=%{y}\", \"legendgroup\": \"Punjab\", \"marker\": {\"color\": \"#FFA15A\"}, \"name\": \"Punjab\", \"offsetgroup\": \"Punjab\", \"orientation\": \"v\", \"showlegend\": true, \"textposition\": \"auto\", \"type\": \"bar\", \"x\": [\"Punjab\"], \"xaxis\": \"x\", \"y\": [67], \"yaxis\": \"y\"}, {\"alignmentgroup\": \"True\", \"hoverlabel\": {\"namelength\": 0}, \"hovertemplate\": \"State/UnionTerritory=%{x}<br>Cured=%{y}\", \"legendgroup\": \"Rajasthan\", \"marker\": {\"color\": \"#19d3f3\"}, \"name\": \"Rajasthan\", \"offsetgroup\": \"Rajasthan\", \"orientation\": \"v\", \"showlegend\": true, \"textposition\": \"auto\", \"type\": \"bar\", \"x\": [\"Rajasthan\"], \"xaxis\": \"x\", \"y\": [493], \"yaxis\": \"y\"}, {\"alignmentgroup\": \"True\", \"hoverlabel\": {\"namelength\": 0}, \"hovertemplate\": \"State/UnionTerritory=%{x}<br>Cured=%{y}\", \"legendgroup\": \"Tamil Nadu\", \"marker\": {\"color\": \"#FF6692\"}, \"name\": \"Tamil Nadu\", \"offsetgroup\": \"Tamil Nadu\", \"orientation\": \"v\", \"showlegend\": true, \"textposition\": \"auto\", \"type\": \"bar\", \"x\": [\"Tamil Nadu\"], \"xaxis\": \"x\", \"y\": [960], \"yaxis\": \"y\"}, {\"alignmentgroup\": \"True\", \"hoverlabel\": {\"namelength\": 0}, \"hovertemplate\": \"State/UnionTerritory=%{x}<br>Cured=%{y}\", \"legendgroup\": \"Telengana\", \"marker\": {\"color\": \"#B6E880\"}, \"name\": \"Telengana\", \"offsetgroup\": \"Telengana\", \"orientation\": \"v\", \"showlegend\": true, \"textposition\": \"auto\", \"type\": \"bar\", \"x\": [\"Telengana\"], \"xaxis\": \"x\", \"y\": [280], \"yaxis\": \"y\"}, {\"alignmentgroup\": \"True\", \"hoverlabel\": {\"namelength\": 0}, \"hovertemplate\": \"State/UnionTerritory=%{x}<br>Cured=%{y}\", \"legendgroup\": \"Tripura\", \"marker\": {\"color\": \"#FF97FF\"}, \"name\": \"Tripura\", \"offsetgroup\": \"Tripura\", \"orientation\": \"v\", \"showlegend\": true, \"textposition\": \"auto\", \"type\": \"bar\", \"x\": [\"Tripura\"], \"xaxis\": \"x\", \"y\": [2], \"yaxis\": \"y\"}, {\"alignmentgroup\": \"True\", \"hoverlabel\": {\"namelength\": 0}, \"hovertemplate\": \"State/UnionTerritory=%{x}<br>Cured=%{y}\", \"legendgroup\": \"Uttarakhand\", \"marker\": {\"color\": \"#FECB52\"}, \"name\": \"Uttarakhand\", \"offsetgroup\": \"Uttarakhand\", \"orientation\": \"v\", \"showlegend\": true, \"textposition\": \"auto\", \"type\": \"bar\", \"x\": [\"Uttarakhand\"], \"xaxis\": \"x\", \"y\": [26], \"yaxis\": \"y\"}, {\"alignmentgroup\": \"True\", \"hoverlabel\": {\"namelength\": 0}, \"hovertemplate\": \"State/UnionTerritory=%{x}<br>Cured=%{y}\", \"legendgroup\": \"Uttar Pradesh\", \"marker\": {\"color\": \"#636efa\"}, \"name\": \"Uttar Pradesh\", \"offsetgroup\": \"Uttar Pradesh\", \"orientation\": \"v\", \"showlegend\": true, \"textposition\": \"auto\", \"type\": \"bar\", \"x\": [\"Uttar Pradesh\"], \"xaxis\": \"x\", \"y\": [289], \"yaxis\": \"y\"}, {\"alignmentgroup\": \"True\", \"hoverlabel\": {\"namelength\": 0}, \"hovertemplate\": \"State/UnionTerritory=%{x}<br>Cured=%{y}\", \"legendgroup\": \"West Bengal\", \"marker\": {\"color\": \"#EF553B\"}, \"name\": \"West Bengal\", \"offsetgroup\": \"West Bengal\", \"orientation\": \"v\", \"showlegend\": true, \"textposition\": \"auto\", \"type\": \"bar\", \"x\": [\"West Bengal\"], \"xaxis\": \"x\", \"y\": [105], \"yaxis\": \"y\"}],\n",
       "                        {\"barmode\": \"relative\", \"height\": 700, \"legend\": {\"title\": {\"text\": \"State/UnionTerritory\"}, \"tracegroupgap\": 0}, \"template\": {\"data\": {\"bar\": [{\"error_x\": {\"color\": \"#2a3f5f\"}, \"error_y\": {\"color\": \"#2a3f5f\"}, \"marker\": {\"line\": {\"color\": \"#E5ECF6\", \"width\": 0.5}}, \"type\": \"bar\"}], \"barpolar\": [{\"marker\": {\"line\": {\"color\": \"#E5ECF6\", \"width\": 0.5}}, \"type\": \"barpolar\"}], \"carpet\": [{\"aaxis\": {\"endlinecolor\": \"#2a3f5f\", \"gridcolor\": \"white\", \"linecolor\": \"white\", \"minorgridcolor\": \"white\", \"startlinecolor\": \"#2a3f5f\"}, \"baxis\": {\"endlinecolor\": \"#2a3f5f\", \"gridcolor\": \"white\", \"linecolor\": \"white\", \"minorgridcolor\": \"white\", \"startlinecolor\": \"#2a3f5f\"}, \"type\": \"carpet\"}], \"choropleth\": [{\"colorbar\": {\"outlinewidth\": 0, \"ticks\": \"\"}, \"type\": \"choropleth\"}], \"contour\": [{\"colorbar\": {\"outlinewidth\": 0, \"ticks\": \"\"}, \"colorscale\": [[0.0, \"#0d0887\"], [0.1111111111111111, \"#46039f\"], [0.2222222222222222, \"#7201a8\"], [0.3333333333333333, \"#9c179e\"], [0.4444444444444444, \"#bd3786\"], [0.5555555555555556, \"#d8576b\"], [0.6666666666666666, \"#ed7953\"], [0.7777777777777778, \"#fb9f3a\"], [0.8888888888888888, \"#fdca26\"], [1.0, \"#f0f921\"]], \"type\": \"contour\"}], \"contourcarpet\": [{\"colorbar\": {\"outlinewidth\": 0, \"ticks\": \"\"}, \"type\": \"contourcarpet\"}], \"heatmap\": [{\"colorbar\": {\"outlinewidth\": 0, \"ticks\": \"\"}, \"colorscale\": [[0.0, \"#0d0887\"], [0.1111111111111111, \"#46039f\"], [0.2222222222222222, \"#7201a8\"], [0.3333333333333333, \"#9c179e\"], [0.4444444444444444, \"#bd3786\"], [0.5555555555555556, \"#d8576b\"], [0.6666666666666666, \"#ed7953\"], [0.7777777777777778, \"#fb9f3a\"], [0.8888888888888888, \"#fdca26\"], [1.0, \"#f0f921\"]], \"type\": \"heatmap\"}], \"heatmapgl\": [{\"colorbar\": {\"outlinewidth\": 0, \"ticks\": \"\"}, \"colorscale\": [[0.0, \"#0d0887\"], [0.1111111111111111, \"#46039f\"], [0.2222222222222222, \"#7201a8\"], [0.3333333333333333, \"#9c179e\"], [0.4444444444444444, \"#bd3786\"], [0.5555555555555556, \"#d8576b\"], [0.6666666666666666, \"#ed7953\"], [0.7777777777777778, \"#fb9f3a\"], [0.8888888888888888, \"#fdca26\"], [1.0, \"#f0f921\"]], \"type\": \"heatmapgl\"}], \"histogram\": [{\"marker\": {\"colorbar\": {\"outlinewidth\": 0, \"ticks\": \"\"}}, \"type\": \"histogram\"}], \"histogram2d\": [{\"colorbar\": {\"outlinewidth\": 0, \"ticks\": \"\"}, \"colorscale\": [[0.0, \"#0d0887\"], [0.1111111111111111, \"#46039f\"], [0.2222222222222222, \"#7201a8\"], [0.3333333333333333, \"#9c179e\"], [0.4444444444444444, \"#bd3786\"], [0.5555555555555556, \"#d8576b\"], [0.6666666666666666, \"#ed7953\"], [0.7777777777777778, \"#fb9f3a\"], [0.8888888888888888, \"#fdca26\"], [1.0, \"#f0f921\"]], \"type\": \"histogram2d\"}], \"histogram2dcontour\": [{\"colorbar\": {\"outlinewidth\": 0, \"ticks\": \"\"}, \"colorscale\": [[0.0, \"#0d0887\"], [0.1111111111111111, \"#46039f\"], [0.2222222222222222, \"#7201a8\"], [0.3333333333333333, \"#9c179e\"], [0.4444444444444444, \"#bd3786\"], [0.5555555555555556, \"#d8576b\"], [0.6666666666666666, \"#ed7953\"], [0.7777777777777778, \"#fb9f3a\"], [0.8888888888888888, \"#fdca26\"], [1.0, \"#f0f921\"]], \"type\": \"histogram2dcontour\"}], \"mesh3d\": [{\"colorbar\": {\"outlinewidth\": 0, \"ticks\": \"\"}, \"type\": \"mesh3d\"}], \"parcoords\": [{\"line\": {\"colorbar\": {\"outlinewidth\": 0, \"ticks\": \"\"}}, \"type\": \"parcoords\"}], \"pie\": [{\"automargin\": true, \"type\": \"pie\"}], \"scatter\": [{\"marker\": {\"colorbar\": {\"outlinewidth\": 0, \"ticks\": \"\"}}, \"type\": \"scatter\"}], \"scatter3d\": [{\"line\": {\"colorbar\": {\"outlinewidth\": 0, \"ticks\": \"\"}}, \"marker\": {\"colorbar\": {\"outlinewidth\": 0, \"ticks\": \"\"}}, \"type\": \"scatter3d\"}], \"scattercarpet\": [{\"marker\": {\"colorbar\": {\"outlinewidth\": 0, \"ticks\": \"\"}}, \"type\": \"scattercarpet\"}], \"scattergeo\": [{\"marker\": {\"colorbar\": {\"outlinewidth\": 0, \"ticks\": \"\"}}, \"type\": \"scattergeo\"}], \"scattergl\": [{\"marker\": {\"colorbar\": {\"outlinewidth\": 0, \"ticks\": \"\"}}, \"type\": \"scattergl\"}], \"scattermapbox\": [{\"marker\": {\"colorbar\": {\"outlinewidth\": 0, \"ticks\": \"\"}}, \"type\": \"scattermapbox\"}], \"scatterpolar\": [{\"marker\": {\"colorbar\": {\"outlinewidth\": 0, \"ticks\": \"\"}}, \"type\": \"scatterpolar\"}], \"scatterpolargl\": [{\"marker\": {\"colorbar\": {\"outlinewidth\": 0, \"ticks\": \"\"}}, \"type\": \"scatterpolargl\"}], \"scatterternary\": [{\"marker\": {\"colorbar\": {\"outlinewidth\": 0, \"ticks\": \"\"}}, \"type\": \"scatterternary\"}], \"surface\": [{\"colorbar\": {\"outlinewidth\": 0, \"ticks\": \"\"}, \"colorscale\": [[0.0, \"#0d0887\"], [0.1111111111111111, \"#46039f\"], [0.2222222222222222, \"#7201a8\"], [0.3333333333333333, \"#9c179e\"], [0.4444444444444444, \"#bd3786\"], [0.5555555555555556, \"#d8576b\"], [0.6666666666666666, \"#ed7953\"], [0.7777777777777778, \"#fb9f3a\"], [0.8888888888888888, \"#fdca26\"], [1.0, \"#f0f921\"]], \"type\": \"surface\"}], \"table\": [{\"cells\": {\"fill\": {\"color\": \"#EBF0F8\"}, \"line\": {\"color\": \"white\"}}, \"header\": {\"fill\": {\"color\": \"#C8D4E3\"}, \"line\": {\"color\": \"white\"}}, \"type\": \"table\"}]}, \"layout\": {\"annotationdefaults\": {\"arrowcolor\": \"#2a3f5f\", \"arrowhead\": 0, \"arrowwidth\": 1}, \"coloraxis\": {\"colorbar\": {\"outlinewidth\": 0, \"ticks\": \"\"}}, \"colorscale\": {\"diverging\": [[0, \"#8e0152\"], [0.1, \"#c51b7d\"], [0.2, \"#de77ae\"], [0.3, \"#f1b6da\"], [0.4, \"#fde0ef\"], [0.5, \"#f7f7f7\"], [0.6, \"#e6f5d0\"], [0.7, \"#b8e186\"], [0.8, \"#7fbc41\"], [0.9, \"#4d9221\"], [1, \"#276419\"]], \"sequential\": [[0.0, \"#0d0887\"], [0.1111111111111111, \"#46039f\"], [0.2222222222222222, \"#7201a8\"], [0.3333333333333333, \"#9c179e\"], [0.4444444444444444, \"#bd3786\"], [0.5555555555555556, \"#d8576b\"], [0.6666666666666666, \"#ed7953\"], [0.7777777777777778, \"#fb9f3a\"], [0.8888888888888888, \"#fdca26\"], [1.0, \"#f0f921\"]], \"sequentialminus\": [[0.0, \"#0d0887\"], [0.1111111111111111, \"#46039f\"], [0.2222222222222222, \"#7201a8\"], [0.3333333333333333, \"#9c179e\"], [0.4444444444444444, \"#bd3786\"], [0.5555555555555556, \"#d8576b\"], [0.6666666666666666, \"#ed7953\"], [0.7777777777777778, \"#fb9f3a\"], [0.8888888888888888, \"#fdca26\"], [1.0, \"#f0f921\"]]}, \"colorway\": [\"#636efa\", \"#EF553B\", \"#00cc96\", \"#ab63fa\", \"#FFA15A\", \"#19d3f3\", \"#FF6692\", \"#B6E880\", \"#FF97FF\", \"#FECB52\"], \"font\": {\"color\": \"#2a3f5f\"}, \"geo\": {\"bgcolor\": \"white\", \"lakecolor\": \"white\", \"landcolor\": \"#E5ECF6\", \"showlakes\": true, \"showland\": true, \"subunitcolor\": \"white\"}, \"hoverlabel\": {\"align\": \"left\"}, \"hovermode\": \"closest\", \"mapbox\": {\"style\": \"light\"}, \"paper_bgcolor\": \"white\", \"plot_bgcolor\": \"#E5ECF6\", \"polar\": {\"angularaxis\": {\"gridcolor\": \"white\", \"linecolor\": \"white\", \"ticks\": \"\"}, \"bgcolor\": \"#E5ECF6\", \"radialaxis\": {\"gridcolor\": \"white\", \"linecolor\": \"white\", \"ticks\": \"\"}}, \"scene\": {\"xaxis\": {\"backgroundcolor\": \"#E5ECF6\", \"gridcolor\": \"white\", \"gridwidth\": 2, \"linecolor\": \"white\", \"showbackground\": true, \"ticks\": \"\", \"zerolinecolor\": \"white\"}, \"yaxis\": {\"backgroundcolor\": \"#E5ECF6\", \"gridcolor\": \"white\", \"gridwidth\": 2, \"linecolor\": \"white\", \"showbackground\": true, \"ticks\": \"\", \"zerolinecolor\": \"white\"}, \"zaxis\": {\"backgroundcolor\": \"#E5ECF6\", \"gridcolor\": \"white\", \"gridwidth\": 2, \"linecolor\": \"white\", \"showbackground\": true, \"ticks\": \"\", \"zerolinecolor\": \"white\"}}, \"shapedefaults\": {\"line\": {\"color\": \"#2a3f5f\"}}, \"ternary\": {\"aaxis\": {\"gridcolor\": \"white\", \"linecolor\": \"white\", \"ticks\": \"\"}, \"baxis\": {\"gridcolor\": \"white\", \"linecolor\": \"white\", \"ticks\": \"\"}, \"bgcolor\": \"#E5ECF6\", \"caxis\": {\"gridcolor\": \"white\", \"linecolor\": \"white\", \"ticks\": \"\"}}, \"title\": {\"x\": 0.05}, \"xaxis\": {\"automargin\": true, \"gridcolor\": \"white\", \"linecolor\": \"white\", \"ticks\": \"\", \"title\": {\"standoff\": 15}, \"zerolinecolor\": \"white\", \"zerolinewidth\": 2}, \"yaxis\": {\"automargin\": true, \"gridcolor\": \"white\", \"linecolor\": \"white\", \"ticks\": \"\", \"title\": {\"standoff\": 15}, \"zerolinecolor\": \"white\", \"zerolinewidth\": 2}}}, \"title\": {\"text\": \"Cured as of 26 April\"}, \"xaxis\": {\"anchor\": \"y\", \"categoryarray\": [\"Andaman and Nicobar Islands\", \"Andhra Pradesh\", \"Arunachal Pradesh\", \"Assam\", \"Bihar\", \"Chandigarh\", \"Chhattisgarh\", \"Delhi\", \"Goa\", \"Gujarat\", \"Haryana\", \"Himachal Pradesh\", \"Jammu and Kashmir\", \"Jharkhand\", \"Karnataka\", \"Kerala\", \"Ladakh\", \"Madhya Pradesh\", \"Maharashtra\", \"Manipur\", \"Meghalaya\", \"Mizoram\", \"Odisha\", \"Puducherry\", \"Punjab\", \"Rajasthan\", \"Tamil Nadu\", \"Telengana\", \"Tripura\", \"Uttarakhand\", \"Uttar Pradesh\", \"West Bengal\"], \"categoryorder\": \"array\", \"domain\": [0.0, 1.0], \"title\": {\"text\": \"State/UnionTerritory\"}}, \"yaxis\": {\"anchor\": \"x\", \"domain\": [0.0, 1.0], \"title\": {\"text\": \"Cured\"}}},\n",
       "                        {\"responsive\": true}\n",
       "                    ).then(function(){\n",
       "                            \n",
       "var gd = document.getElementById('8fdde13f-b5aa-4971-85fd-23cd95befa9a');\n",
       "var x = new MutationObserver(function (mutations, observer) {{\n",
       "        var display = window.getComputedStyle(gd).display;\n",
       "        if (!display || display === 'none') {{\n",
       "            console.log([gd, 'removed!']);\n",
       "            Plotly.purge(gd);\n",
       "            observer.disconnect();\n",
       "        }}\n",
       "}});\n",
       "\n",
       "// Listen for the removal of the full notebook cells\n",
       "var notebookContainer = gd.closest('#notebook-container');\n",
       "if (notebookContainer) {{\n",
       "    x.observe(notebookContainer, {childList: true});\n",
       "}}\n",
       "\n",
       "// Listen for the clearing of the current output cell\n",
       "var outputEl = gd.closest('.output');\n",
       "if (outputEl) {{\n",
       "    x.observe(outputEl, {childList: true});\n",
       "}}\n",
       "\n",
       "                        })\n",
       "                };\n",
       "                });\n",
       "            </script>\n",
       "        </div>"
      ]
     },
     "metadata": {},
     "output_type": "display_data"
    }
   ],
   "source": [
    "fig.show()"
   ]
  },
  {
   "cell_type": "code",
   "execution_count": null,
   "metadata": {},
   "outputs": [],
   "source": []
  }
 ],
 "metadata": {
  "kernelspec": {
   "display_name": "Python 3",
   "language": "python",
   "name": "python3"
  },
  "language_info": {
   "codemirror_mode": {
    "name": "ipython",
    "version": 3
   },
   "file_extension": ".py",
   "mimetype": "text/x-python",
   "name": "python",
   "nbconvert_exporter": "python",
   "pygments_lexer": "ipython3",
   "version": "3.7.3"
  }
 },
 "nbformat": 4,
 "nbformat_minor": 2
}
